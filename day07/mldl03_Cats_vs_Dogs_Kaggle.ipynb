{
 "cells": [
  {
   "cell_type": "code",
   "execution_count": 1,
   "metadata": {
    "_cell_guid": "b1076dfc-b9ad-4769-8c92-a6c4dae69d19",
    "_uuid": "8f2839f25d086af736a60e9eeb907d3b93b6e0e5",
    "execution": {
     "iopub.execute_input": "2025-04-16T06:00:21.803195Z",
     "iopub.status.busy": "2025-04-16T06:00:21.802914Z",
     "iopub.status.idle": "2025-04-16T06:00:22.158583Z",
     "shell.execute_reply": "2025-04-16T06:00:22.157599Z",
     "shell.execute_reply.started": "2025-04-16T06:00:21.803172Z"
    },
    "trusted": true
   },
   "outputs": [],
   "source": [
    "# This Python 3 environment comes with many helpful analytics libraries installed\n",
    "# It is defined by the kaggle/python Docker image: https://github.com/kaggle/docker-python\n",
    "# For example, here's several helpful packages to load\n",
    "\n",
    "import numpy as np # linear algebra\n",
    "import pandas as pd # data processing, CSV file I/O (e.g. pd.read_csv)\n",
    "\n",
    "# Input data files are available in the read-only \"../input/\" directory\n",
    "# For example, running this (by clicking run or pressing Shift+Enter) will list all files under the input directory\n",
    "\n",
    "import os\n",
    "for dirname, _, filenames in os.walk('/kaggle/input'):\n",
    "    for filename in filenames:\n",
    "        print(os.path.join(dirname, filename))\n",
    "\n",
    "# You can write up to 20GB to the current directory (/kaggle/working/) that gets preserved as output when you create a version using \"Save & Run All\" \n",
    "# You can also write temporary files to /kaggle/temp/, but they won't be saved outside of the current session"
   ]
  },
  {
   "cell_type": "markdown",
   "metadata": {},
   "source": [
    "### Load Modules\n",
    "\n",
    "- Kaggle 압축파일, 경로가 상이하기 때문에 Kaggle에 맞춰서 변경"
   ]
  },
  {
   "cell_type": "code",
   "execution_count": 2,
   "metadata": {
    "execution": {
     "iopub.execute_input": "2025-04-16T06:10:05.482256Z",
     "iopub.status.busy": "2025-04-16T06:10:05.481929Z",
     "iopub.status.idle": "2025-04-16T06:10:05.487247Z",
     "shell.execute_reply": "2025-04-16T06:10:05.486537Z",
     "shell.execute_reply.started": "2025-04-16T06:10:05.482233Z"
    },
    "trusted": true
   },
   "outputs": [],
   "source": [
    "import random, shutil, zipfile\n",
    "import torch\n",
    "import torch.nn as nn\n",
    "import torch.nn.functional as F\n",
    "from torchvision import datasets, transforms\n",
    "from torch.utils.data import DataLoader\n",
    "from PIL import Image\n",
    "import matplotlib.pyplot as plt"
   ]
  },
  {
   "cell_type": "code",
   "execution_count": 3,
   "metadata": {
    "execution": {
     "iopub.execute_input": "2025-04-16T06:04:12.918269Z",
     "iopub.status.busy": "2025-04-16T06:04:12.917572Z",
     "iopub.status.idle": "2025-04-16T06:04:12.922700Z",
     "shell.execute_reply": "2025-04-16T06:04:12.921816Z",
     "shell.execute_reply.started": "2025-04-16T06:04:12.918234Z"
    },
    "trusted": true
   },
   "outputs": [],
   "source": [
    "base_dir = '/kaggle/working/data/sample'\n",
    "os.makedirs(f'{base_dir}/cat', exist_ok=True)\n",
    "os.makedirs(f'{base_dir}/dog', exist_ok=True)"
   ]
  },
  {
   "cell_type": "code",
   "execution_count": 4,
   "metadata": {
    "execution": {
     "iopub.execute_input": "2025-04-16T06:06:30.334551Z",
     "iopub.status.busy": "2025-04-16T06:06:30.334043Z",
     "iopub.status.idle": "2025-04-16T06:06:30.340017Z",
     "shell.execute_reply": "2025-04-16T06:06:30.339144Z",
     "shell.execute_reply.started": "2025-04-16T06:06:30.334527Z"
    },
    "trusted": true
   },
   "outputs": [
    {
     "data": {
      "text/plain": [
       "['dog.10002.jpg',\n",
       " 'dog.1002.jpg',\n",
       " 'dog.10023.jpg',\n",
       " 'dog.10035.jpg',\n",
       " 'dog.10037.jpg',\n",
       " 'dog.10043.jpg',\n",
       " 'dog.10053.jpg',\n",
       " 'dog.10057.jpg',\n",
       " 'dog.10064.jpg',\n",
       " 'dog.10100.jpg',\n",
       " 'dog.10110.jpg',\n",
       " 'dog.10150.jpg',\n",
       " 'dog.10152.jpg',\n",
       " 'dog.10185.jpg',\n",
       " 'dog.1019.jpg',\n",
       " 'dog.10202.jpg',\n",
       " 'dog.10204.jpg',\n",
       " 'dog.10217.jpg',\n",
       " 'dog.10218.jpg',\n",
       " 'dog.10219.jpg',\n",
       " 'dog.10243.jpg',\n",
       " 'dog.10263.jpg',\n",
       " 'dog.10277.jpg',\n",
       " 'dog.10298.jpg',\n",
       " 'dog.10299.jpg',\n",
       " 'dog.1030.jpg',\n",
       " 'dog.10300.jpg',\n",
       " 'dog.10313.jpg',\n",
       " 'dog.10334.jpg',\n",
       " 'dog.10336.jpg',\n",
       " 'dog.1035.jpg',\n",
       " 'dog.10363.jpg',\n",
       " 'dog.1037.jpg',\n",
       " 'dog.10378.jpg',\n",
       " 'dog.10391.jpg',\n",
       " 'dog.10393.jpg',\n",
       " 'dog.10403.jpg',\n",
       " 'dog.10405.jpg',\n",
       " 'dog.10406.jpg',\n",
       " 'dog.10407.jpg',\n",
       " 'dog.10413.jpg',\n",
       " 'dog.10419.jpg',\n",
       " 'dog.10426.jpg',\n",
       " 'dog.10430.jpg',\n",
       " 'dog.1044.jpg',\n",
       " 'dog.10440.jpg',\n",
       " 'dog.10442.jpg',\n",
       " 'dog.10459.jpg',\n",
       " 'dog.10461.jpg',\n",
       " 'dog.10462.jpg',\n",
       " 'dog.10465.jpg',\n",
       " 'dog.10471.jpg',\n",
       " 'dog.10476.jpg',\n",
       " 'dog.10477.jpg',\n",
       " 'dog.10481.jpg',\n",
       " 'dog.10507.jpg',\n",
       " 'dog.10532.jpg',\n",
       " 'dog.10543.jpg',\n",
       " 'dog.10549.jpg',\n",
       " 'dog.10577.jpg',\n",
       " 'dog.10594.jpg',\n",
       " 'dog.10597.jpg',\n",
       " 'dog.10602.jpg',\n",
       " 'dog.1061.jpg',\n",
       " 'dog.10621.jpg',\n",
       " 'dog.10627.jpg',\n",
       " 'dog.10647.jpg',\n",
       " 'dog.10648.jpg',\n",
       " 'dog.10651.jpg',\n",
       " 'dog.10657.jpg',\n",
       " 'dog.10667.jpg',\n",
       " 'dog.10678.jpg',\n",
       " 'dog.10694.jpg',\n",
       " 'dog.10697.jpg',\n",
       " 'dog.10708.jpg',\n",
       " 'dog.1071.jpg',\n",
       " 'dog.10712.jpg',\n",
       " 'dog.10740.jpg',\n",
       " 'dog.1075.jpg',\n",
       " 'dog.10762.jpg',\n",
       " 'dog.10766.jpg',\n",
       " 'dog.10789.jpg',\n",
       " 'dog.10798.jpg',\n",
       " 'dog.10811.jpg',\n",
       " 'dog.10814.jpg',\n",
       " 'dog.10815.jpg',\n",
       " 'dog.10828.jpg',\n",
       " 'dog.10847.jpg',\n",
       " 'dog.10869.jpg',\n",
       " 'dog.1087.jpg',\n",
       " 'dog.10882.jpg',\n",
       " 'dog.1089.jpg',\n",
       " 'dog.10905.jpg',\n",
       " 'dog.10931.jpg',\n",
       " 'dog.10940.jpg',\n",
       " 'dog.10971.jpg',\n",
       " 'dog.10987.jpg',\n",
       " 'dog.11014.jpg',\n",
       " 'dog.11015.jpg',\n",
       " 'dog.1102.jpg',\n",
       " 'dog.11020.jpg',\n",
       " 'dog.11031.jpg',\n",
       " 'dog.11039.jpg',\n",
       " 'dog.11040.jpg',\n",
       " 'dog.11057.jpg',\n",
       " 'dog.11060.jpg',\n",
       " 'dog.11063.jpg',\n",
       " 'dog.11082.jpg',\n",
       " 'dog.11085.jpg',\n",
       " 'dog.11087.jpg',\n",
       " 'dog.11094.jpg',\n",
       " 'dog.11096.jpg',\n",
       " 'dog.11098.jpg',\n",
       " 'dog.111.jpg',\n",
       " 'dog.11100.jpg',\n",
       " 'dog.11101.jpg',\n",
       " 'dog.11104.jpg',\n",
       " 'dog.11105.jpg',\n",
       " 'dog.11128.jpg',\n",
       " 'dog.11136.jpg',\n",
       " 'dog.11138.jpg',\n",
       " 'dog.11140.jpg',\n",
       " 'dog.1115.jpg',\n",
       " 'dog.1118.jpg',\n",
       " 'dog.11192.jpg',\n",
       " 'dog.11195.jpg',\n",
       " 'dog.11203.jpg',\n",
       " 'dog.11214.jpg',\n",
       " 'dog.11219.jpg',\n",
       " 'dog.11247.jpg',\n",
       " 'dog.11256.jpg',\n",
       " 'dog.11258.jpg',\n",
       " 'dog.1127.jpg',\n",
       " 'dog.11286.jpg',\n",
       " 'dog.11309.jpg',\n",
       " 'dog.1131.jpg',\n",
       " 'dog.11319.jpg',\n",
       " 'dog.11321.jpg',\n",
       " 'dog.11323.jpg',\n",
       " 'dog.11330.jpg',\n",
       " 'dog.11339.jpg',\n",
       " 'dog.11341.jpg',\n",
       " 'dog.11343.jpg',\n",
       " 'dog.11352.jpg',\n",
       " 'dog.11364.jpg',\n",
       " 'dog.11386.jpg',\n",
       " 'dog.11396.jpg',\n",
       " 'dog.11407.jpg',\n",
       " 'dog.11424.jpg',\n",
       " 'dog.11451.jpg',\n",
       " 'dog.11452.jpg',\n",
       " 'dog.11459.jpg',\n",
       " 'dog.11468.jpg',\n",
       " 'dog.11481.jpg',\n",
       " 'dog.11488.jpg',\n",
       " 'dog.11508.jpg',\n",
       " 'dog.11510.jpg',\n",
       " 'dog.11512.jpg',\n",
       " 'dog.11521.jpg',\n",
       " 'dog.11522.jpg',\n",
       " 'dog.11524.jpg',\n",
       " 'dog.11537.jpg',\n",
       " 'dog.11539.jpg',\n",
       " 'dog.11540.jpg',\n",
       " 'dog.11542.jpg',\n",
       " 'dog.11553.jpg',\n",
       " 'dog.11562.jpg',\n",
       " 'dog.11575.jpg',\n",
       " 'dog.11588.jpg',\n",
       " 'dog.11589.jpg',\n",
       " 'dog.116.jpg',\n",
       " 'dog.11602.jpg',\n",
       " 'dog.11610.jpg',\n",
       " 'dog.11632.jpg',\n",
       " 'dog.11660.jpg',\n",
       " 'dog.11662.jpg',\n",
       " 'dog.11663.jpg',\n",
       " 'dog.11677.jpg',\n",
       " 'dog.11682.jpg',\n",
       " 'dog.11690.jpg',\n",
       " 'dog.11692.jpg',\n",
       " 'dog.11727.jpg',\n",
       " 'dog.11729.jpg',\n",
       " 'dog.11731.jpg',\n",
       " 'dog.11740.jpg',\n",
       " 'dog.11751.jpg',\n",
       " 'dog.11756.jpg',\n",
       " 'dog.11762.jpg',\n",
       " 'dog.11769.jpg',\n",
       " 'dog.11785.jpg',\n",
       " 'dog.11791.jpg',\n",
       " 'dog.11817.jpg',\n",
       " 'dog.11825.jpg',\n",
       " 'dog.11839.jpg',\n",
       " 'dog.11856.jpg',\n",
       " 'dog.11859.jpg',\n",
       " 'dog.11863.jpg',\n",
       " 'dog.11873.jpg',\n",
       " 'dog.11876.jpg',\n",
       " 'dog.11882.jpg',\n",
       " 'dog.11884.jpg',\n",
       " 'dog.1189.jpg',\n",
       " 'dog.11899.jpg',\n",
       " 'dog.11909.jpg',\n",
       " 'dog.11933.jpg',\n",
       " 'dog.11938.jpg',\n",
       " 'dog.11945.jpg',\n",
       " 'dog.11959.jpg',\n",
       " 'dog.11989.jpg',\n",
       " 'dog.11997.jpg',\n",
       " 'dog.12004.jpg',\n",
       " 'dog.12005.jpg',\n",
       " 'dog.12008.jpg',\n",
       " 'dog.1202.jpg',\n",
       " 'dog.12049.jpg',\n",
       " 'dog.12050.jpg',\n",
       " 'dog.12059.jpg',\n",
       " 'dog.12071.jpg',\n",
       " 'dog.12077.jpg',\n",
       " 'dog.12080.jpg',\n",
       " 'dog.12095.jpg',\n",
       " 'dog.12118.jpg',\n",
       " 'dog.12124.jpg',\n",
       " 'dog.12140.jpg',\n",
       " 'dog.12151.jpg',\n",
       " 'dog.12170.jpg',\n",
       " 'dog.1218.jpg',\n",
       " 'dog.12196.jpg',\n",
       " 'dog.12203.jpg',\n",
       " 'dog.12205.jpg',\n",
       " 'dog.12239.jpg',\n",
       " 'dog.1226.jpg',\n",
       " 'dog.12278.jpg',\n",
       " 'dog.12285.jpg',\n",
       " 'dog.12313.jpg',\n",
       " 'dog.12314.jpg',\n",
       " 'dog.12321.jpg',\n",
       " 'dog.1233.jpg',\n",
       " 'dog.12331.jpg',\n",
       " 'dog.12355.jpg',\n",
       " 'dog.12360.jpg',\n",
       " 'dog.12363.jpg',\n",
       " 'dog.12368.jpg',\n",
       " 'dog.12380.jpg',\n",
       " 'dog.12387.jpg',\n",
       " 'dog.12392.jpg',\n",
       " 'dog.12410.jpg',\n",
       " 'dog.12413.jpg',\n",
       " 'dog.1242.jpg',\n",
       " 'dog.12431.jpg',\n",
       " 'dog.12450.jpg',\n",
       " 'dog.12458.jpg',\n",
       " 'dog.12463.jpg',\n",
       " 'dog.12465.jpg',\n",
       " 'dog.12470.jpg',\n",
       " 'dog.12472.jpg',\n",
       " 'dog.12474.jpg',\n",
       " 'dog.1249.jpg',\n",
       " 'dog.12497.jpg',\n",
       " 'dog.1251.jpg',\n",
       " 'dog.1258.jpg',\n",
       " 'dog.1270.jpg',\n",
       " 'dog.1273.jpg',\n",
       " 'dog.1279.jpg',\n",
       " 'dog.1322.jpg',\n",
       " 'dog.1371.jpg',\n",
       " 'dog.1392.jpg',\n",
       " 'dog.1398.jpg',\n",
       " 'dog.1456.jpg',\n",
       " 'dog.1471.jpg',\n",
       " 'dog.1482.jpg',\n",
       " 'dog.1499.jpg',\n",
       " 'dog.1501.jpg',\n",
       " 'dog.1530.jpg',\n",
       " 'dog.1550.jpg',\n",
       " 'dog.1553.jpg',\n",
       " 'dog.1563.jpg',\n",
       " 'dog.157.jpg',\n",
       " 'dog.1588.jpg',\n",
       " 'dog.1600.jpg',\n",
       " 'dog.1603.jpg',\n",
       " 'dog.1608.jpg',\n",
       " 'dog.1629.jpg',\n",
       " 'dog.1633.jpg',\n",
       " 'dog.1638.jpg',\n",
       " 'dog.164.jpg',\n",
       " 'dog.1642.jpg',\n",
       " 'dog.1644.jpg',\n",
       " 'dog.1645.jpg',\n",
       " 'dog.1654.jpg',\n",
       " 'dog.1679.jpg',\n",
       " 'dog.1693.jpg',\n",
       " 'dog.1700.jpg',\n",
       " 'dog.172.jpg',\n",
       " 'dog.1741.jpg',\n",
       " 'dog.1775.jpg',\n",
       " 'dog.1787.jpg',\n",
       " 'dog.1788.jpg',\n",
       " 'dog.1796.jpg',\n",
       " 'dog.1817.jpg',\n",
       " 'dog.182.jpg',\n",
       " 'dog.1850.jpg',\n",
       " 'dog.1871.jpg',\n",
       " 'dog.1883.jpg',\n",
       " 'dog.1891.jpg',\n",
       " 'dog.1904.jpg',\n",
       " 'dog.1922.jpg',\n",
       " 'dog.1950.jpg',\n",
       " 'dog.1958.jpg',\n",
       " 'dog.1966.jpg',\n",
       " 'dog.1976.jpg',\n",
       " 'dog.198.jpg',\n",
       " 'dog.1986.jpg',\n",
       " 'dog.1992.jpg',\n",
       " 'dog.2045.jpg',\n",
       " 'dog.2053.jpg',\n",
       " 'dog.2058.jpg',\n",
       " 'dog.2062.jpg',\n",
       " 'dog.2080.jpg',\n",
       " 'dog.2083.jpg',\n",
       " 'dog.2095.jpg',\n",
       " 'dog.2105.jpg',\n",
       " 'dog.2122.jpg',\n",
       " 'dog.2133.jpg',\n",
       " 'dog.2142.jpg',\n",
       " 'dog.2154.jpg',\n",
       " 'dog.2162.jpg',\n",
       " 'dog.2172.jpg',\n",
       " 'dog.2173.jpg',\n",
       " 'dog.2177.jpg',\n",
       " 'dog.2185.jpg',\n",
       " 'dog.2199.jpg',\n",
       " 'dog.2229.jpg',\n",
       " 'dog.223.jpg',\n",
       " 'dog.2230.jpg',\n",
       " 'dog.2240.jpg',\n",
       " 'dog.2256.jpg',\n",
       " 'dog.2274.jpg',\n",
       " 'dog.228.jpg',\n",
       " 'dog.2300.jpg',\n",
       " 'dog.2302.jpg',\n",
       " 'dog.2338.jpg',\n",
       " 'dog.2351.jpg',\n",
       " 'dog.2352.jpg',\n",
       " 'dog.2357.jpg',\n",
       " 'dog.2363.jpg',\n",
       " 'dog.2377.jpg',\n",
       " 'dog.2378.jpg',\n",
       " 'dog.2397.jpg',\n",
       " 'dog.2408.jpg',\n",
       " 'dog.2417.jpg',\n",
       " 'dog.2420.jpg',\n",
       " 'dog.2424.jpg',\n",
       " 'dog.2438.jpg',\n",
       " 'dog.2449.jpg',\n",
       " 'dog.2451.jpg',\n",
       " 'dog.2474.jpg',\n",
       " 'dog.2482.jpg',\n",
       " 'dog.2487.jpg',\n",
       " 'dog.2489.jpg',\n",
       " 'dog.2512.jpg',\n",
       " 'dog.2516.jpg',\n",
       " 'dog.2528.jpg',\n",
       " 'dog.2546.jpg',\n",
       " 'dog.2548.jpg',\n",
       " 'dog.2566.jpg',\n",
       " 'dog.2571.jpg',\n",
       " 'dog.258.jpg',\n",
       " 'dog.2586.jpg',\n",
       " 'dog.2592.jpg',\n",
       " 'dog.2593.jpg',\n",
       " 'dog.2615.jpg',\n",
       " 'dog.2626.jpg',\n",
       " 'dog.264.jpg',\n",
       " 'dog.2651.jpg',\n",
       " 'dog.2656.jpg',\n",
       " 'dog.2661.jpg',\n",
       " 'dog.2664.jpg',\n",
       " 'dog.2669.jpg',\n",
       " 'dog.2670.jpg',\n",
       " 'dog.2701.jpg',\n",
       " 'dog.2703.jpg',\n",
       " 'dog.2712.jpg',\n",
       " 'dog.2719.jpg',\n",
       " 'dog.2726.jpg',\n",
       " 'dog.2730.jpg',\n",
       " 'dog.2744.jpg',\n",
       " 'dog.276.jpg',\n",
       " 'dog.2770.jpg',\n",
       " 'dog.2785.jpg',\n",
       " 'dog.2786.jpg',\n",
       " 'dog.2800.jpg',\n",
       " 'dog.2807.jpg',\n",
       " 'dog.2815.jpg',\n",
       " 'dog.2831.jpg',\n",
       " 'dog.2849.jpg',\n",
       " 'dog.285.jpg',\n",
       " 'dog.2851.jpg',\n",
       " 'dog.288.jpg',\n",
       " 'dog.290.jpg',\n",
       " 'dog.2907.jpg',\n",
       " 'dog.2909.jpg',\n",
       " 'dog.293.jpg',\n",
       " 'dog.2941.jpg',\n",
       " 'dog.2955.jpg',\n",
       " 'dog.2959.jpg',\n",
       " 'dog.296.jpg',\n",
       " 'dog.2983.jpg',\n",
       " 'dog.2985.jpg',\n",
       " 'dog.2996.jpg',\n",
       " 'dog.2998.jpg',\n",
       " 'dog.30.jpg',\n",
       " 'dog.3062.jpg',\n",
       " 'dog.3077.jpg',\n",
       " 'dog.3081.jpg',\n",
       " 'dog.3082.jpg',\n",
       " 'dog.3098.jpg',\n",
       " 'dog.3100.jpg',\n",
       " 'dog.3104.jpg',\n",
       " 'dog.3113.jpg',\n",
       " 'dog.312.jpg',\n",
       " 'dog.3134.jpg',\n",
       " 'dog.3136.jpg',\n",
       " 'dog.3170.jpg',\n",
       " 'dog.3193.jpg',\n",
       " 'dog.3203.jpg',\n",
       " 'dog.3205.jpg',\n",
       " 'dog.3212.jpg',\n",
       " 'dog.3213.jpg',\n",
       " 'dog.3257.jpg',\n",
       " 'dog.3268.jpg',\n",
       " 'dog.3282.jpg',\n",
       " 'dog.329.jpg',\n",
       " 'dog.3305.jpg',\n",
       " 'dog.3364.jpg',\n",
       " 'dog.3373.jpg',\n",
       " 'dog.3385.jpg',\n",
       " 'dog.3404.jpg',\n",
       " 'dog.3409.jpg',\n",
       " 'dog.3423.jpg',\n",
       " 'dog.3426.jpg',\n",
       " 'dog.3433.jpg',\n",
       " 'dog.3439.jpg',\n",
       " 'dog.3447.jpg',\n",
       " 'dog.3461.jpg',\n",
       " 'dog.3467.jpg',\n",
       " 'dog.347.jpg',\n",
       " 'dog.3477.jpg',\n",
       " 'dog.3488.jpg',\n",
       " 'dog.3489.jpg',\n",
       " 'dog.3494.jpg',\n",
       " 'dog.3516.jpg',\n",
       " 'dog.3526.jpg',\n",
       " 'dog.3531.jpg',\n",
       " 'dog.3541.jpg',\n",
       " 'dog.3565.jpg',\n",
       " 'dog.3588.jpg',\n",
       " 'dog.3589.jpg',\n",
       " 'dog.3592.jpg',\n",
       " 'dog.3629.jpg',\n",
       " 'dog.3638.jpg',\n",
       " 'dog.3639.jpg',\n",
       " 'dog.3650.jpg',\n",
       " 'dog.3679.jpg',\n",
       " 'dog.3682.jpg',\n",
       " 'dog.3689.jpg',\n",
       " 'dog.3692.jpg',\n",
       " 'dog.3697.jpg',\n",
       " 'dog.3718.jpg',\n",
       " 'dog.3722.jpg',\n",
       " 'dog.3727.jpg',\n",
       " 'dog.3734.jpg',\n",
       " 'dog.3738.jpg',\n",
       " 'dog.3739.jpg',\n",
       " 'dog.3748.jpg',\n",
       " 'dog.3756.jpg',\n",
       " 'dog.3771.jpg',\n",
       " 'dog.3827.jpg',\n",
       " 'dog.3850.jpg',\n",
       " 'dog.3857.jpg',\n",
       " 'dog.3874.jpg',\n",
       " 'dog.3877.jpg',\n",
       " 'dog.3878.jpg',\n",
       " 'dog.388.jpg',\n",
       " 'dog.3888.jpg',\n",
       " 'dog.39.jpg',\n",
       " 'dog.3926.jpg',\n",
       " 'dog.3953.jpg',\n",
       " 'dog.3960.jpg',\n",
       " 'dog.3964.jpg',\n",
       " 'dog.3977.jpg',\n",
       " 'dog.398.jpg',\n",
       " 'dog.3984.jpg',\n",
       " 'dog.3987.jpg',\n",
       " 'dog.3997.jpg',\n",
       " 'dog.4.jpg',\n",
       " 'dog.4003.jpg',\n",
       " 'dog.4019.jpg',\n",
       " 'dog.4052.jpg',\n",
       " 'dog.4056.jpg',\n",
       " 'dog.4065.jpg',\n",
       " 'dog.4112.jpg',\n",
       " 'dog.4123.jpg',\n",
       " 'dog.4129.jpg',\n",
       " 'dog.4137.jpg',\n",
       " 'dog.4164.jpg',\n",
       " 'dog.4195.jpg',\n",
       " 'dog.4208.jpg',\n",
       " 'dog.4218.jpg',\n",
       " 'dog.4234.jpg',\n",
       " 'dog.4237.jpg',\n",
       " 'dog.4255.jpg',\n",
       " 'dog.4291.jpg',\n",
       " 'dog.4300.jpg',\n",
       " 'dog.4319.jpg',\n",
       " 'dog.435.jpg',\n",
       " 'dog.4377.jpg',\n",
       " 'dog.4393.jpg',\n",
       " 'dog.4398.jpg',\n",
       " 'dog.4410.jpg',\n",
       " 'dog.4412.jpg',\n",
       " 'dog.443.jpg',\n",
       " 'dog.4436.jpg',\n",
       " 'dog.4482.jpg',\n",
       " 'dog.4485.jpg',\n",
       " 'dog.4494.jpg',\n",
       " 'dog.4516.jpg',\n",
       " 'dog.4533.jpg',\n",
       " 'dog.4537.jpg',\n",
       " 'dog.4560.jpg',\n",
       " 'dog.4566.jpg',\n",
       " 'dog.4576.jpg',\n",
       " 'dog.4596.jpg',\n",
       " 'dog.4633.jpg',\n",
       " 'dog.4646.jpg',\n",
       " 'dog.4652.jpg',\n",
       " 'dog.467.jpg',\n",
       " 'dog.4673.jpg',\n",
       " 'dog.4684.jpg',\n",
       " 'dog.4691.jpg',\n",
       " 'dog.4711.jpg',\n",
       " 'dog.4764.jpg',\n",
       " 'dog.4832.jpg',\n",
       " 'dog.4850.jpg',\n",
       " 'dog.4882.jpg',\n",
       " 'dog.489.jpg',\n",
       " 'dog.4891.jpg',\n",
       " 'dog.4892.jpg',\n",
       " 'dog.4894.jpg',\n",
       " 'dog.4904.jpg',\n",
       " 'dog.4936.jpg',\n",
       " 'dog.4965.jpg',\n",
       " 'dog.4970.jpg',\n",
       " 'dog.4978.jpg',\n",
       " 'dog.4982.jpg',\n",
       " 'dog.4991.jpg',\n",
       " 'dog.5011.jpg',\n",
       " 'dog.5012.jpg',\n",
       " 'dog.502.jpg',\n",
       " 'dog.5026.jpg',\n",
       " 'dog.5053.jpg',\n",
       " 'dog.5054.jpg',\n",
       " 'dog.5060.jpg',\n",
       " 'dog.5076.jpg',\n",
       " 'dog.5080.jpg',\n",
       " 'dog.5103.jpg',\n",
       " 'dog.5111.jpg',\n",
       " 'dog.5118.jpg',\n",
       " 'dog.5123.jpg',\n",
       " 'dog.5126.jpg',\n",
       " 'dog.5171.jpg',\n",
       " 'dog.5182.jpg',\n",
       " 'dog.5188.jpg',\n",
       " 'dog.5200.jpg',\n",
       " 'dog.5213.jpg',\n",
       " 'dog.523.jpg',\n",
       " 'dog.5279.jpg',\n",
       " 'dog.5281.jpg',\n",
       " 'dog.5282.jpg',\n",
       " 'dog.5300.jpg',\n",
       " 'dog.5302.jpg',\n",
       " 'dog.5317.jpg',\n",
       " 'dog.5328.jpg',\n",
       " 'dog.5329.jpg',\n",
       " 'dog.5359.jpg',\n",
       " 'dog.5361.jpg',\n",
       " 'dog.5373.jpg',\n",
       " 'dog.5393.jpg',\n",
       " 'dog.5401.jpg',\n",
       " 'dog.5402.jpg',\n",
       " 'dog.542.jpg',\n",
       " 'dog.5420.jpg',\n",
       " 'dog.5424.jpg',\n",
       " 'dog.5459.jpg',\n",
       " 'dog.5473.jpg',\n",
       " 'dog.5474.jpg',\n",
       " 'dog.5479.jpg',\n",
       " 'dog.5515.jpg',\n",
       " 'dog.5516.jpg',\n",
       " 'dog.554.jpg',\n",
       " 'dog.5555.jpg',\n",
       " 'dog.5568.jpg',\n",
       " 'dog.5574.jpg',\n",
       " 'dog.5575.jpg',\n",
       " 'dog.5576.jpg',\n",
       " 'dog.5579.jpg',\n",
       " 'dog.5602.jpg',\n",
       " 'dog.5607.jpg',\n",
       " 'dog.5622.jpg',\n",
       " 'dog.5624.jpg',\n",
       " 'dog.5628.jpg',\n",
       " 'dog.5636.jpg',\n",
       " 'dog.5637.jpg',\n",
       " 'dog.568.jpg',\n",
       " 'dog.5685.jpg',\n",
       " 'dog.5709.jpg',\n",
       " 'dog.5723.jpg',\n",
       " 'dog.574.jpg',\n",
       " 'dog.5740.jpg',\n",
       " 'dog.575.jpg',\n",
       " 'dog.5751.jpg',\n",
       " 'dog.576.jpg',\n",
       " 'dog.5772.jpg',\n",
       " 'dog.5784.jpg',\n",
       " 'dog.5792.jpg',\n",
       " 'dog.581.jpg',\n",
       " 'dog.5814.jpg',\n",
       " 'dog.5821.jpg',\n",
       " 'dog.5824.jpg',\n",
       " 'dog.5831.jpg',\n",
       " 'dog.5849.jpg',\n",
       " 'dog.5853.jpg',\n",
       " 'dog.5869.jpg',\n",
       " 'dog.5872.jpg',\n",
       " 'dog.5898.jpg',\n",
       " 'dog.5899.jpg',\n",
       " 'dog.5916.jpg',\n",
       " 'dog.592.jpg',\n",
       " 'dog.5926.jpg',\n",
       " 'dog.5934.jpg',\n",
       " 'dog.5935.jpg',\n",
       " 'dog.5939.jpg',\n",
       " 'dog.5952.jpg',\n",
       " 'dog.5955.jpg',\n",
       " 'dog.5956.jpg',\n",
       " 'dog.5974.jpg',\n",
       " 'dog.5991.jpg',\n",
       " 'dog.601.jpg',\n",
       " 'dog.604.jpg',\n",
       " 'dog.606.jpg',\n",
       " 'dog.6072.jpg',\n",
       " 'dog.6074.jpg',\n",
       " 'dog.6079.jpg',\n",
       " 'dog.6086.jpg',\n",
       " 'dog.6133.jpg',\n",
       " 'dog.6138.jpg',\n",
       " 'dog.6150.jpg',\n",
       " 'dog.6173.jpg',\n",
       " 'dog.6188.jpg',\n",
       " 'dog.6195.jpg',\n",
       " 'dog.6208.jpg',\n",
       " 'dog.6221.jpg',\n",
       " 'dog.6230.jpg',\n",
       " 'dog.6276.jpg',\n",
       " 'dog.6283.jpg',\n",
       " 'dog.629.jpg',\n",
       " 'dog.6294.jpg',\n",
       " 'dog.631.jpg',\n",
       " 'dog.6346.jpg',\n",
       " 'dog.6347.jpg',\n",
       " 'dog.6384.jpg',\n",
       " 'dog.6388.jpg',\n",
       " 'dog.6394.jpg',\n",
       " 'dog.640.jpg',\n",
       " 'dog.6407.jpg',\n",
       " 'dog.6449.jpg',\n",
       " 'dog.6472.jpg',\n",
       " 'dog.6484.jpg',\n",
       " 'dog.6499.jpg',\n",
       " 'dog.6501.jpg',\n",
       " 'dog.6509.jpg',\n",
       " 'dog.6512.jpg',\n",
       " 'dog.6516.jpg',\n",
       " 'dog.6539.jpg',\n",
       " 'dog.6555.jpg',\n",
       " 'dog.6561.jpg',\n",
       " 'dog.6576.jpg',\n",
       " 'dog.658.jpg',\n",
       " 'dog.659.jpg',\n",
       " 'dog.6590.jpg',\n",
       " 'dog.6598.jpg',\n",
       " 'dog.6601.jpg',\n",
       " 'dog.6610.jpg',\n",
       " 'dog.6622.jpg',\n",
       " 'dog.6647.jpg',\n",
       " 'dog.6676.jpg',\n",
       " 'dog.6701.jpg',\n",
       " 'dog.6708.jpg',\n",
       " 'dog.671.jpg',\n",
       " 'dog.6715.jpg',\n",
       " 'dog.6731.jpg',\n",
       " 'dog.674.jpg',\n",
       " 'dog.6746.jpg',\n",
       " 'dog.6794.jpg',\n",
       " 'dog.68.jpg',\n",
       " 'dog.6815.jpg',\n",
       " 'dog.6820.jpg',\n",
       " 'dog.6846.jpg',\n",
       " 'dog.685.jpg',\n",
       " 'dog.6858.jpg',\n",
       " 'dog.6861.jpg',\n",
       " 'dog.6862.jpg',\n",
       " 'dog.6873.jpg',\n",
       " 'dog.6891.jpg',\n",
       " 'dog.691.jpg',\n",
       " 'dog.6913.jpg',\n",
       " 'dog.6930.jpg',\n",
       " 'dog.6940.jpg',\n",
       " 'dog.6963.jpg',\n",
       " 'dog.6964.jpg',\n",
       " 'dog.6967.jpg',\n",
       " 'dog.6969.jpg',\n",
       " 'dog.6986.jpg',\n",
       " 'dog.6996.jpg',\n",
       " 'dog.7010.jpg',\n",
       " 'dog.7015.jpg',\n",
       " 'dog.7021.jpg',\n",
       " 'dog.7040.jpg',\n",
       " 'dog.7075.jpg',\n",
       " 'dog.7077.jpg',\n",
       " 'dog.7084.jpg',\n",
       " 'dog.7113.jpg',\n",
       " 'dog.7118.jpg',\n",
       " 'dog.7134.jpg',\n",
       " 'dog.7142.jpg',\n",
       " 'dog.7155.jpg',\n",
       " 'dog.717.jpg',\n",
       " 'dog.7186.jpg',\n",
       " 'dog.7194.jpg',\n",
       " 'dog.7202.jpg',\n",
       " 'dog.7206.jpg',\n",
       " 'dog.7219.jpg',\n",
       " 'dog.7221.jpg',\n",
       " 'dog.724.jpg',\n",
       " 'dog.7244.jpg',\n",
       " 'dog.7246.jpg',\n",
       " 'dog.7258.jpg',\n",
       " 'dog.7260.jpg',\n",
       " 'dog.7285.jpg',\n",
       " 'dog.7288.jpg',\n",
       " 'dog.7289.jpg',\n",
       " 'dog.7294.jpg',\n",
       " 'dog.7295.jpg',\n",
       " 'dog.7299.jpg',\n",
       " 'dog.7308.jpg',\n",
       " 'dog.7319.jpg',\n",
       " 'dog.7327.jpg',\n",
       " 'dog.7337.jpg',\n",
       " 'dog.7340.jpg',\n",
       " 'dog.7343.jpg',\n",
       " 'dog.7347.jpg',\n",
       " 'dog.7351.jpg',\n",
       " 'dog.7378.jpg',\n",
       " 'dog.7380.jpg',\n",
       " 'dog.7389.jpg',\n",
       " 'dog.74.jpg',\n",
       " 'dog.7400.jpg',\n",
       " 'dog.7429.jpg',\n",
       " 'dog.7431.jpg',\n",
       " 'dog.7453.jpg',\n",
       " 'dog.749.jpg',\n",
       " 'dog.7515.jpg',\n",
       " 'dog.7520.jpg',\n",
       " 'dog.7527.jpg',\n",
       " 'dog.7528.jpg',\n",
       " 'dog.7545.jpg',\n",
       " 'dog.7550.jpg',\n",
       " 'dog.7564.jpg',\n",
       " 'dog.7578.jpg',\n",
       " 'dog.758.jpg',\n",
       " 'dog.7621.jpg',\n",
       " 'dog.7627.jpg',\n",
       " 'dog.7646.jpg',\n",
       " 'dog.7648.jpg',\n",
       " 'dog.7649.jpg',\n",
       " 'dog.7650.jpg',\n",
       " 'dog.7678.jpg',\n",
       " 'dog.7710.jpg',\n",
       " 'dog.7722.jpg',\n",
       " 'dog.7747.jpg',\n",
       " 'dog.7750.jpg',\n",
       " 'dog.7767.jpg',\n",
       " 'dog.7795.jpg',\n",
       " 'dog.7798.jpg',\n",
       " 'dog.78.jpg',\n",
       " 'dog.7809.jpg',\n",
       " 'dog.7852.jpg',\n",
       " 'dog.7875.jpg',\n",
       " 'dog.7901.jpg',\n",
       " 'dog.7904.jpg',\n",
       " 'dog.7905.jpg',\n",
       " 'dog.7926.jpg',\n",
       " 'dog.7952.jpg',\n",
       " 'dog.7954.jpg',\n",
       " 'dog.7978.jpg',\n",
       " 'dog.7983.jpg',\n",
       " 'dog.7986.jpg',\n",
       " 'dog.8.jpg',\n",
       " 'dog.8002.jpg',\n",
       " 'dog.8030.jpg',\n",
       " 'dog.8040.jpg',\n",
       " 'dog.8054.jpg',\n",
       " 'dog.8061.jpg',\n",
       " 'dog.8070.jpg',\n",
       " 'dog.8100.jpg',\n",
       " 'dog.8108.jpg',\n",
       " 'dog.8116.jpg',\n",
       " 'dog.8142.jpg',\n",
       " 'dog.8156.jpg',\n",
       " 'dog.8168.jpg',\n",
       " 'dog.8176.jpg',\n",
       " 'dog.8185.jpg',\n",
       " 'dog.8201.jpg',\n",
       " 'dog.8221.jpg',\n",
       " 'dog.8229.jpg',\n",
       " 'dog.8230.jpg',\n",
       " 'dog.8235.jpg',\n",
       " 'dog.8247.jpg',\n",
       " 'dog.8257.jpg',\n",
       " 'dog.8274.jpg',\n",
       " 'dog.8286.jpg',\n",
       " 'dog.8303.jpg',\n",
       " 'dog.8308.jpg',\n",
       " 'dog.8318.jpg',\n",
       " 'dog.8328.jpg',\n",
       " 'dog.8332.jpg',\n",
       " 'dog.8338.jpg',\n",
       " 'dog.8352.jpg',\n",
       " 'dog.8357.jpg',\n",
       " 'dog.8365.jpg',\n",
       " 'dog.8368.jpg',\n",
       " 'dog.8374.jpg',\n",
       " 'dog.8389.jpg',\n",
       " 'dog.8395.jpg',\n",
       " 'dog.8407.jpg',\n",
       " 'dog.8410.jpg',\n",
       " 'dog.8417.jpg',\n",
       " 'dog.843.jpg',\n",
       " 'dog.8435.jpg',\n",
       " 'dog.8457.jpg',\n",
       " 'dog.8466.jpg',\n",
       " 'dog.8473.jpg',\n",
       " 'dog.8478.jpg',\n",
       " 'dog.8481.jpg',\n",
       " 'dog.8501.jpg',\n",
       " 'dog.8508.jpg',\n",
       " 'dog.8511.jpg',\n",
       " 'dog.8518.jpg',\n",
       " 'dog.8525.jpg',\n",
       " 'dog.8535.jpg',\n",
       " 'dog.8558.jpg',\n",
       " 'dog.8560.jpg',\n",
       " 'dog.8562.jpg',\n",
       " 'dog.8577.jpg',\n",
       " 'dog.8590.jpg',\n",
       " 'dog.8596.jpg',\n",
       " 'dog.8618.jpg',\n",
       " 'dog.862.jpg',\n",
       " 'dog.8629.jpg',\n",
       " 'dog.8639.jpg',\n",
       " 'dog.8646.jpg',\n",
       " 'dog.8666.jpg',\n",
       " 'dog.8679.jpg',\n",
       " 'dog.8687.jpg',\n",
       " 'dog.8693.jpg',\n",
       " 'dog.8699.jpg',\n",
       " 'dog.8703.jpg',\n",
       " 'dog.871.jpg',\n",
       " 'dog.8726.jpg',\n",
       " 'dog.8743.jpg',\n",
       " 'dog.8745.jpg',\n",
       " 'dog.8751.jpg',\n",
       " 'dog.8753.jpg',\n",
       " 'dog.877.jpg',\n",
       " 'dog.8778.jpg',\n",
       " 'dog.8782.jpg',\n",
       " 'dog.8799.jpg',\n",
       " 'dog.8814.jpg',\n",
       " 'dog.8823.jpg',\n",
       " 'dog.8836.jpg',\n",
       " 'dog.884.jpg',\n",
       " 'dog.8939.jpg',\n",
       " 'dog.8942.jpg',\n",
       " 'dog.8944.jpg',\n",
       " 'dog.8962.jpg',\n",
       " 'dog.8970.jpg',\n",
       " 'dog.8984.jpg',\n",
       " 'dog.8990.jpg',\n",
       " 'dog.9039.jpg',\n",
       " 'dog.9053.jpg',\n",
       " 'dog.9066.jpg',\n",
       " 'dog.9073.jpg',\n",
       " 'dog.9076.jpg',\n",
       " 'dog.9082.jpg',\n",
       " 'dog.9088.jpg',\n",
       " 'dog.9090.jpg',\n",
       " 'dog.9101.jpg',\n",
       " 'dog.9118.jpg',\n",
       " 'dog.9136.jpg',\n",
       " 'dog.9176.jpg',\n",
       " 'dog.9186.jpg',\n",
       " 'dog.9189.jpg',\n",
       " 'dog.9197.jpg',\n",
       " 'dog.920.jpg',\n",
       " 'dog.923.jpg',\n",
       " 'dog.9265.jpg',\n",
       " 'dog.927.jpg',\n",
       " 'dog.9271.jpg',\n",
       " 'dog.9272.jpg',\n",
       " 'dog.9280.jpg',\n",
       " 'dog.9291.jpg',\n",
       " 'dog.9294.jpg',\n",
       " 'dog.9304.jpg',\n",
       " 'dog.9309.jpg',\n",
       " 'dog.9340.jpg',\n",
       " 'dog.9350.jpg',\n",
       " 'dog.9351.jpg',\n",
       " 'dog.9360.jpg',\n",
       " 'dog.9374.jpg',\n",
       " 'dog.9379.jpg',\n",
       " 'dog.9403.jpg',\n",
       " 'dog.9419.jpg',\n",
       " 'dog.9421.jpg',\n",
       " 'dog.9423.jpg',\n",
       " 'dog.9457.jpg',\n",
       " 'dog.9458.jpg',\n",
       " 'dog.9466.jpg',\n",
       " 'dog.948.jpg',\n",
       " 'dog.9515.jpg',\n",
       " 'dog.9530.jpg',\n",
       " 'dog.9532.jpg',\n",
       " 'dog.9564.jpg',\n",
       " 'dog.958.jpg',\n",
       " 'dog.9583.jpg',\n",
       " 'dog.960.jpg',\n",
       " 'dog.9611.jpg',\n",
       " 'dog.9619.jpg',\n",
       " 'dog.9620.jpg',\n",
       " 'dog.9628.jpg',\n",
       " 'dog.9649.jpg',\n",
       " 'dog.965.jpg',\n",
       " 'dog.9653.jpg',\n",
       " 'dog.9662.jpg',\n",
       " 'dog.9676.jpg',\n",
       " 'dog.9679.jpg',\n",
       " 'dog.970.jpg',\n",
       " 'dog.9701.jpg',\n",
       " 'dog.9705.jpg',\n",
       " 'dog.9741.jpg',\n",
       " 'dog.9749.jpg',\n",
       " 'dog.9779.jpg',\n",
       " 'dog.9786.jpg',\n",
       " 'dog.9798.jpg',\n",
       " 'dog.9850.jpg',\n",
       " 'dog.9856.jpg',\n",
       " 'dog.9864.jpg',\n",
       " 'dog.9869.jpg',\n",
       " 'dog.9895.jpg',\n",
       " 'dog.9924.jpg',\n",
       " 'dog.9929.jpg',\n",
       " 'dog.9939.jpg',\n",
       " 'dog.9963.jpg',\n",
       " 'dog.9968.jpg',\n",
       " 'dog.9969.jpg',\n",
       " 'dog.9971.jpg',\n",
       " 'dog.9972.jpg',\n",
       " 'dog.998.jpg']"
      ]
     },
     "execution_count": 4,
     "metadata": {},
     "output_type": "execute_result"
    }
   ],
   "source": [
    "# 현재 내 노트북 아래 폴더 확인\n",
    "os.listdir('./data/sample/dog')"
   ]
  },
  {
   "cell_type": "markdown",
   "metadata": {},
   "source": [
    "#### 폴더 압축파일 해제\n",
    "- /kaggle/input/dogs-vs-cats/test1.zip\n",
    "- /kaggle/input/dogs-vs-cats/train.zip"
   ]
  },
  {
   "cell_type": "code",
   "execution_count": 5,
   "metadata": {
    "execution": {
     "iopub.execute_input": "2025-04-16T06:22:12.885951Z",
     "iopub.status.busy": "2025-04-16T06:22:12.885534Z",
     "iopub.status.idle": "2025-04-16T06:22:20.161316Z",
     "shell.execute_reply": "2025-04-16T06:22:20.160628Z",
     "shell.execute_reply.started": "2025-04-16T06:22:12.885925Z"
    },
    "trusted": true
   },
   "outputs": [
    {
     "ename": "FileNotFoundError",
     "evalue": "[Errno 2] No such file or directory: '/kaggle/input/dogs-vs-cats/train.zip'",
     "output_type": "error",
     "traceback": [
      "\u001b[31m---------------------------------------------------------------------------\u001b[39m",
      "\u001b[31mFileNotFoundError\u001b[39m                         Traceback (most recent call last)",
      "\u001b[36mCell\u001b[39m\u001b[36m \u001b[39m\u001b[32mIn[5]\u001b[39m\u001b[32m, line 4\u001b[39m\n\u001b[32m      1\u001b[39m zip_path = \u001b[33m'\u001b[39m\u001b[33m/kaggle/input/dogs-vs-cats/train.zip\u001b[39m\u001b[33m'\u001b[39m\n\u001b[32m      2\u001b[39m target_path = \u001b[33m'\u001b[39m\u001b[33m/kaggle/working/train\u001b[39m\u001b[33m'\u001b[39m\n\u001b[32m----> \u001b[39m\u001b[32m4\u001b[39m \u001b[38;5;28;01mwith\u001b[39;00m \u001b[43mzipfile\u001b[49m\u001b[43m.\u001b[49m\u001b[43mZipFile\u001b[49m\u001b[43m(\u001b[49m\u001b[43mzip_path\u001b[49m\u001b[43m,\u001b[49m\u001b[43m \u001b[49m\u001b[33;43m'\u001b[39;49m\u001b[33;43mr\u001b[39;49m\u001b[33;43m'\u001b[39;49m\u001b[43m)\u001b[49m \u001b[38;5;28;01mas\u001b[39;00m zip_ref:\n\u001b[32m      5\u001b[39m     zip_ref.extractall(target_path)\n\u001b[32m      7\u001b[39m \u001b[38;5;28mprint\u001b[39m(\u001b[33m'\u001b[39m\u001b[33mdone with extraction\u001b[39m\u001b[33m'\u001b[39m)\n",
      "\u001b[36mFile \u001b[39m\u001b[32m~\\.pyenv\\pyenv-win\\versions\\3.11.9\\Lib\\zipfile.py:1294\u001b[39m, in \u001b[36mZipFile.__init__\u001b[39m\u001b[34m(self, file, mode, compression, allowZip64, compresslevel, strict_timestamps, metadata_encoding)\u001b[39m\n\u001b[32m   1292\u001b[39m \u001b[38;5;28;01mwhile\u001b[39;00m \u001b[38;5;28;01mTrue\u001b[39;00m:\n\u001b[32m   1293\u001b[39m     \u001b[38;5;28;01mtry\u001b[39;00m:\n\u001b[32m-> \u001b[39m\u001b[32m1294\u001b[39m         \u001b[38;5;28mself\u001b[39m.fp = \u001b[43mio\u001b[49m\u001b[43m.\u001b[49m\u001b[43mopen\u001b[49m\u001b[43m(\u001b[49m\u001b[43mfile\u001b[49m\u001b[43m,\u001b[49m\u001b[43m \u001b[49m\u001b[43mfilemode\u001b[49m\u001b[43m)\u001b[49m\n\u001b[32m   1295\u001b[39m     \u001b[38;5;28;01mexcept\u001b[39;00m \u001b[38;5;167;01mOSError\u001b[39;00m:\n\u001b[32m   1296\u001b[39m         \u001b[38;5;28;01mif\u001b[39;00m filemode \u001b[38;5;129;01min\u001b[39;00m modeDict:\n",
      "\u001b[31mFileNotFoundError\u001b[39m: [Errno 2] No such file or directory: '/kaggle/input/dogs-vs-cats/train.zip'"
     ]
    }
   ],
   "source": [
    "zip_path = '/kaggle/input/dogs-vs-cats/train.zip'\n",
    "target_path = '/kaggle/working/train'\n",
    "\n",
    "with zipfile.ZipFile(zip_path, 'r') as zip_ref:\n",
    "    zip_ref.extractall(target_path)\n",
    "\n",
    "print('done with extraction')"
   ]
  },
  {
   "cell_type": "code",
   "execution_count": null,
   "metadata": {
    "execution": {
     "iopub.execute_input": "2025-04-16T06:50:25.109203Z",
     "iopub.status.busy": "2025-04-16T06:50:25.108891Z",
     "iopub.status.idle": "2025-04-16T06:50:31.403266Z",
     "shell.execute_reply": "2025-04-16T06:50:31.402393Z",
     "shell.execute_reply.started": "2025-04-16T06:50:25.109180Z"
    },
    "trusted": true
   },
   "outputs": [],
   "source": [
    "## test1.zip \n",
    "zip_path = '/kaggle/input/dogs-vs-cats/test1.zip'\n",
    "target_path = '/kaggle/working'\n",
    "\n",
    "with zipfile.ZipFile(zip_path, 'r') as zip_ref:\n",
    "    zip_ref.extractall(target_path)\n",
    "\n",
    "print('done with extraction')"
   ]
  },
  {
   "cell_type": "code",
   "execution_count": null,
   "metadata": {
    "execution": {
     "iopub.execute_input": "2025-04-16T06:23:33.816044Z",
     "iopub.status.busy": "2025-04-16T06:23:33.815304Z",
     "iopub.status.idle": "2025-04-16T06:23:33.820905Z",
     "shell.execute_reply": "2025-04-16T06:23:33.820236Z",
     "shell.execute_reply.started": "2025-04-16T06:23:33.816019Z"
    },
    "trusted": true
   },
   "outputs": [],
   "source": [
    "target_path"
   ]
  },
  {
   "cell_type": "code",
   "execution_count": null,
   "metadata": {
    "execution": {
     "iopub.execute_input": "2025-04-16T06:22:54.178462Z",
     "iopub.status.busy": "2025-04-16T06:22:54.177683Z",
     "iopub.status.idle": "2025-04-16T06:22:54.184230Z",
     "shell.execute_reply": "2025-04-16T06:22:54.183444Z",
     "shell.execute_reply.started": "2025-04-16T06:22:54.178433Z"
    },
    "trusted": true
   },
   "outputs": [],
   "source": [
    "image_files = os.listdir(target_path)\n",
    "len(image_files)"
   ]
  },
  {
   "cell_type": "code",
   "execution_count": null,
   "metadata": {
    "execution": {
     "iopub.execute_input": "2025-04-16T06:25:00.087281Z",
     "iopub.status.busy": "2025-04-16T06:25:00.086974Z",
     "iopub.status.idle": "2025-04-16T06:25:00.107826Z",
     "shell.execute_reply": "2025-04-16T06:25:00.107139Z",
     "shell.execute_reply.started": "2025-04-16T06:25:00.087259Z"
    },
    "trusted": true
   },
   "outputs": [],
   "source": [
    "len( os.listdir(target_path + '/train'))"
   ]
  },
  {
   "cell_type": "code",
   "execution_count": null,
   "metadata": {
    "execution": {
     "iopub.execute_input": "2025-04-16T06:51:10.278434Z",
     "iopub.status.busy": "2025-04-16T06:51:10.278130Z",
     "iopub.status.idle": "2025-04-16T06:51:10.291044Z",
     "shell.execute_reply": "2025-04-16T06:51:10.290281Z",
     "shell.execute_reply.started": "2025-04-16T06:51:10.278412Z"
    },
    "trusted": true
   },
   "outputs": [],
   "source": [
    "len(os.listdir('/kaggle/working/test1'))"
   ]
  },
  {
   "cell_type": "code",
   "execution_count": null,
   "metadata": {
    "execution": {
     "iopub.execute_input": "2025-04-16T06:28:53.873251Z",
     "iopub.status.busy": "2025-04-16T06:28:53.872479Z",
     "iopub.status.idle": "2025-04-16T06:28:53.878875Z",
     "shell.execute_reply": "2025-04-16T06:28:53.878218Z",
     "shell.execute_reply.started": "2025-04-16T06:28:53.873219Z"
    },
    "trusted": true
   },
   "outputs": [],
   "source": [
    "len(os.listdir('./data/sample/dog'))"
   ]
  },
  {
   "cell_type": "code",
   "execution_count": null,
   "metadata": {
    "execution": {
     "iopub.execute_input": "2025-04-16T06:28:58.915335Z",
     "iopub.status.busy": "2025-04-16T06:28:58.915037Z",
     "iopub.status.idle": "2025-04-16T06:28:58.921276Z",
     "shell.execute_reply": "2025-04-16T06:28:58.920604Z",
     "shell.execute_reply.started": "2025-04-16T06:28:58.915311Z"
    },
    "trusted": true
   },
   "outputs": [],
   "source": [
    "len(os.listdir('./data/sample/cat'))"
   ]
  },
  {
   "cell_type": "markdown",
   "metadata": {},
   "source": [
    "### 여기서 부터는 로컬 작업과 일치"
   ]
  },
  {
   "cell_type": "code",
   "execution_count": null,
   "metadata": {
    "execution": {
     "iopub.execute_input": "2025-04-16T06:27:30.637681Z",
     "iopub.status.busy": "2025-04-16T06:27:30.637085Z",
     "iopub.status.idle": "2025-04-16T06:27:30.642963Z",
     "shell.execute_reply": "2025-04-16T06:27:30.642047Z",
     "shell.execute_reply.started": "2025-04-16T06:27:30.637656Z"
    },
    "trusted": true
   },
   "outputs": [],
   "source": [
    "# 500개씩 샘플링 함수\n",
    "def sample_data(src_dir, dst_dir, num_samples=500):\n",
    "    os.makedirs(dst_dir, exist_ok=True)  # 폴더 생성, exist_ok=True 이미 존재하면 다시 만들지 않음\n",
    "    all_files = [f for f in os.listdir(src_dir) if f.startswith(dst_dir.split('/')[-1])]\n",
    "    samples = random.sample(all_files, num_samples)\n",
    "    for f in samples:\n",
    "        shutil.copy(os.path.join(src_dir, f), os.path.join(dst_dir, f))"
   ]
  },
  {
   "cell_type": "markdown",
   "metadata": {},
   "source": [
    "#### 아래 경로만 캐글에 맞게 변경할 것"
   ]
  },
  {
   "cell_type": "code",
   "execution_count": null,
   "metadata": {
    "execution": {
     "iopub.execute_input": "2025-04-16T06:28:28.753465Z",
     "iopub.status.busy": "2025-04-16T06:28:28.753169Z",
     "iopub.status.idle": "2025-04-16T06:28:28.933654Z",
     "shell.execute_reply": "2025-04-16T06:28:28.933090Z",
     "shell.execute_reply.started": "2025-04-16T06:28:28.753441Z"
    },
    "trusted": true
   },
   "outputs": [],
   "source": [
    "# sample_data() 함수 사용\n",
    "sample_data(target_path + '/train', './data/sample/cat', 500)\n",
    "sample_data(target_path + '/train', './data/sample/dog', 500)"
   ]
  },
  {
   "cell_type": "code",
   "execution_count": null,
   "metadata": {
    "execution": {
     "iopub.execute_input": "2025-04-16T06:29:14.196613Z",
     "iopub.status.busy": "2025-04-16T06:29:14.196347Z",
     "iopub.status.idle": "2025-04-16T06:29:14.201227Z",
     "shell.execute_reply": "2025-04-16T06:29:14.200285Z",
     "shell.execute_reply.started": "2025-04-16T06:29:14.196593Z"
    },
    "trusted": true
   },
   "outputs": [],
   "source": [
    "# 파이토치 모듈 로드\n",
    "from torchvision.datasets import ImageFolder\n",
    "from torchvision import transforms\n",
    "from torch.utils.data import Dataset, DataLoader"
   ]
  },
  {
   "cell_type": "code",
   "execution_count": null,
   "metadata": {
    "execution": {
     "iopub.execute_input": "2025-04-16T06:29:22.084018Z",
     "iopub.status.busy": "2025-04-16T06:29:22.083671Z",
     "iopub.status.idle": "2025-04-16T06:29:22.088428Z",
     "shell.execute_reply": "2025-04-16T06:29:22.087700Z",
     "shell.execute_reply.started": "2025-04-16T06:29:22.083994Z"
    },
    "trusted": true
   },
   "outputs": [],
   "source": [
    "transform = transforms.Compose([\n",
    "    transforms.Resize((128, 128)),\n",
    "    transforms.ToTensor()\n",
    "])"
   ]
  },
  {
   "cell_type": "code",
   "execution_count": null,
   "metadata": {
    "execution": {
     "iopub.execute_input": "2025-04-16T06:29:45.304405Z",
     "iopub.status.busy": "2025-04-16T06:29:45.303627Z",
     "iopub.status.idle": "2025-04-16T06:29:45.312472Z",
     "shell.execute_reply": "2025-04-16T06:29:45.311834Z",
     "shell.execute_reply.started": "2025-04-16T06:29:45.304379Z"
    },
    "trusted": true
   },
   "outputs": [],
   "source": [
    "train_dataset = ImageFolder('./data/sample', transform=transform)\n",
    "train_loader = DataLoader(train_dataset, batch_size=32, shuffle=True)"
   ]
  },
  {
   "cell_type": "code",
   "execution_count": null,
   "metadata": {
    "execution": {
     "iopub.execute_input": "2025-04-16T06:29:53.108393Z",
     "iopub.status.busy": "2025-04-16T06:29:53.108116Z",
     "iopub.status.idle": "2025-04-16T06:29:53.114498Z",
     "shell.execute_reply": "2025-04-16T06:29:53.113079Z",
     "shell.execute_reply.started": "2025-04-16T06:29:53.108373Z"
    },
    "trusted": true
   },
   "outputs": [],
   "source": [
    "len(train_loader)"
   ]
  },
  {
   "cell_type": "code",
   "execution_count": null,
   "metadata": {
    "execution": {
     "iopub.execute_input": "2025-04-16T06:30:39.863303Z",
     "iopub.status.busy": "2025-04-16T06:30:39.863006Z",
     "iopub.status.idle": "2025-04-16T06:30:40.180102Z",
     "shell.execute_reply": "2025-04-16T06:30:40.179172Z",
     "shell.execute_reply.started": "2025-04-16T06:30:39.863280Z"
    },
    "trusted": true
   },
   "outputs": [],
   "source": [
    "# 배치하나 꺼내기\n",
    "images, labels = next(iter(train_loader))"
   ]
  },
  {
   "cell_type": "code",
   "execution_count": null,
   "metadata": {
    "execution": {
     "iopub.execute_input": "2025-04-16T06:30:47.455089Z",
     "iopub.status.busy": "2025-04-16T06:30:47.454719Z",
     "iopub.status.idle": "2025-04-16T06:30:47.464666Z",
     "shell.execute_reply": "2025-04-16T06:30:47.463682Z",
     "shell.execute_reply.started": "2025-04-16T06:30:47.455065Z"
    },
    "trusted": true
   },
   "outputs": [],
   "source": [
    "images[0].shape"
   ]
  },
  {
   "cell_type": "code",
   "execution_count": null,
   "metadata": {
    "execution": {
     "iopub.execute_input": "2025-04-16T06:30:57.913276Z",
     "iopub.status.busy": "2025-04-16T06:30:57.912497Z",
     "iopub.status.idle": "2025-04-16T06:30:57.916917Z",
     "shell.execute_reply": "2025-04-16T06:30:57.916122Z",
     "shell.execute_reply.started": "2025-04-16T06:30:57.913246Z"
    },
    "trusted": true
   },
   "outputs": [],
   "source": [
    "class_names = ['cat', 'dog']"
   ]
  },
  {
   "cell_type": "code",
   "execution_count": null,
   "metadata": {
    "execution": {
     "iopub.execute_input": "2025-04-16T06:31:04.585161Z",
     "iopub.status.busy": "2025-04-16T06:31:04.584827Z",
     "iopub.status.idle": "2025-04-16T06:31:05.831679Z",
     "shell.execute_reply": "2025-04-16T06:31:05.830700Z",
     "shell.execute_reply.started": "2025-04-16T06:31:04.585137Z"
    },
    "trusted": true
   },
   "outputs": [],
   "source": [
    "# 시각화\n",
    "plt.figure(figsize=(12, 4))\n",
    "for i in range(16): # 32개 중 반만 표현\n",
    "    plt.subplot(2, 8, i+1)\n",
    "\n",
    "    img = images[i].permute(1, 2, 0)  # 컬러채널이기 때문에 matplotlib 표현시 순서 변경\n",
    "    plt.imshow(img)\n",
    "    plt.title(f'{class_names[labels[i].item()]}')\n",
    "    plt.axis('off')\n",
    "\n",
    "plt.tight_layout()\n",
    "plt.show()"
   ]
  },
  {
   "cell_type": "markdown",
   "metadata": {},
   "source": [
    "### CNN Model"
   ]
  },
  {
   "cell_type": "code",
   "execution_count": null,
   "metadata": {
    "execution": {
     "iopub.execute_input": "2025-04-16T06:42:05.532468Z",
     "iopub.status.busy": "2025-04-16T06:42:05.532185Z",
     "iopub.status.idle": "2025-04-16T06:42:05.536997Z",
     "shell.execute_reply": "2025-04-16T06:42:05.536219Z",
     "shell.execute_reply.started": "2025-04-16T06:42:05.532448Z"
    },
    "trusted": true
   },
   "outputs": [],
   "source": [
    "# 사용모듈 로드\n",
    "import torch\n",
    "import torch.nn as nn\n",
    "import torch.nn.functional as F"
   ]
  },
  {
   "cell_type": "code",
   "execution_count": null,
   "metadata": {
    "execution": {
     "iopub.execute_input": "2025-04-16T06:42:17.596632Z",
     "iopub.status.busy": "2025-04-16T06:42:17.596299Z",
     "iopub.status.idle": "2025-04-16T06:42:17.604427Z",
     "shell.execute_reply": "2025-04-16T06:42:17.603289Z",
     "shell.execute_reply.started": "2025-04-16T06:42:17.596604Z"
    },
    "trusted": true
   },
   "outputs": [],
   "source": [
    "# 클래스 정의\n",
    "class CatDogCNN(nn.Module):\n",
    "    def __init__(self):\n",
    "        super(CatDogCNN, self).__init__()\n",
    "        self.conv1 = nn.Conv2d(3, 32, kernel_size=3, padding=1)\n",
    "        self.pool = nn.MaxPool2d(2, 2)  # conv1, conv2 모두 사용\n",
    "        self.conv2 = nn.Conv2d(32, 64, kernel_size=3, padding=1)\n",
    "        self.fc1 = nn.Linear(64 * 32 * 32, 128) # MaxPool(128) -> MaxPool(64) -> 32x32 \n",
    "        self.fc2 = nn.Linear(128, 1)  # 마지막 분류가 0, 1 \n",
    "\n",
    "    def forward(self, x):\n",
    "        # conv -> activation -> maxpooling 2회실시\n",
    "        # dense1, 2 통과\n",
    "        x = self.pool(F.relu(self.conv1(x)))\n",
    "        x = self.pool(F.relu(self.conv2(x)))        \n",
    "        x = x.view(-1, 64 * 32 * 32)                # flattern -> 1차원 배열화, 65,536개 입력\n",
    "        x = F.relu(self.fc1(x))\n",
    "        x = torch.sigmoid(self.fc2(x))              # F.sigmoid() deprecated\n",
    "        return x"
   ]
  },
  {
   "cell_type": "markdown",
   "metadata": {},
   "source": [
    "### Train"
   ]
  },
  {
   "cell_type": "code",
   "execution_count": null,
   "metadata": {
    "execution": {
     "iopub.execute_input": "2025-04-16T06:42:34.828634Z",
     "iopub.status.busy": "2025-04-16T06:42:34.828323Z",
     "iopub.status.idle": "2025-04-16T06:42:34.934420Z",
     "shell.execute_reply": "2025-04-16T06:42:34.933668Z",
     "shell.execute_reply.started": "2025-04-16T06:42:34.828609Z"
    },
    "trusted": true
   },
   "outputs": [],
   "source": [
    "# cuda 준비\n",
    "device = torch.device('cuda' if torch.cuda.is_available() else 'cpu')\n",
    "model = CatDogCNN().to(device)\n",
    "criterion = nn.BCELoss()  # Binary Cross Entropy 손실함수\n",
    "optimizer = torch.optim.Adam(model.parameters(), lr=0.001)"
   ]
  },
  {
   "cell_type": "code",
   "execution_count": null,
   "metadata": {
    "execution": {
     "iopub.execute_input": "2025-04-16T06:42:41.996305Z",
     "iopub.status.busy": "2025-04-16T06:42:41.996010Z",
     "iopub.status.idle": "2025-04-16T06:42:42.001986Z",
     "shell.execute_reply": "2025-04-16T06:42:42.001278Z",
     "shell.execute_reply.started": "2025-04-16T06:42:41.996282Z"
    },
    "trusted": true
   },
   "outputs": [],
   "source": [
    "device"
   ]
  },
  {
   "cell_type": "code",
   "execution_count": null,
   "metadata": {
    "execution": {
     "iopub.execute_input": "2025-04-16T06:43:04.461961Z",
     "iopub.status.busy": "2025-04-16T06:43:04.461584Z",
     "iopub.status.idle": "2025-04-16T06:43:04.467990Z",
     "shell.execute_reply": "2025-04-16T06:43:04.466802Z",
     "shell.execute_reply.started": "2025-04-16T06:43:04.461934Z"
    },
    "trusted": true
   },
   "outputs": [],
   "source": [
    "# 훈련함수 정의\n",
    "def train(model, loader, criterion, optimizer):\n",
    "    model.train()  # 훈련모드\n",
    "    total_loss = 0\n",
    "\n",
    "    for images, labels in loader:\n",
    "        images, labels = images.to(device), labels.float().to(device).unsqueeze(1)  # 1, 0 -> [1,], [0,]\n",
    "        optimizer.zero_grad()\n",
    "        outputs = model(images)\n",
    "        loss = criterion(outputs, labels)\n",
    "        loss.backward()\n",
    "        optimizer.step()        \n",
    "        total_loss += loss.item()\n",
    "\n",
    "    return total_loss / len(loader)"
   ]
  },
  {
   "cell_type": "code",
   "execution_count": null,
   "metadata": {
    "execution": {
     "iopub.execute_input": "2025-04-16T06:43:15.758163Z",
     "iopub.status.busy": "2025-04-16T06:43:15.757855Z",
     "iopub.status.idle": "2025-04-16T06:47:43.143163Z",
     "shell.execute_reply": "2025-04-16T06:47:43.142184Z",
     "shell.execute_reply.started": "2025-04-16T06:43:15.758141Z"
    },
    "trusted": true
   },
   "outputs": [],
   "source": [
    "# 훈련\n",
    "EPOCH = 10\n",
    "for epoch in range(EPOCH):\n",
    "    loss = train(model, train_loader, criterion, optimizer)\n",
    "    print(f'[{epoch+1}/{EPOCH}] Loss: {loss:.4f}')"
   ]
  },
  {
   "cell_type": "code",
   "execution_count": null,
   "metadata": {
    "execution": {
     "iopub.execute_input": "2025-04-16T06:48:43.206102Z",
     "iopub.status.busy": "2025-04-16T06:48:43.205339Z",
     "iopub.status.idle": "2025-04-16T06:48:44.671206Z",
     "shell.execute_reply": "2025-04-16T06:48:44.670194Z",
     "shell.execute_reply.started": "2025-04-16T06:48:43.206066Z"
    },
    "trusted": true
   },
   "outputs": [],
   "source": [
    "# 검증\n",
    "model.eval()\n",
    "images, labels = next(iter(train_loader))\n",
    "images = images.to(device) \n",
    "with torch.no_grad():\n",
    "    outputs = model(images)\n",
    "    preds = (outputs > 0.5).int().cpu().squeeze()\n",
    "\n",
    "plt.figure(figsize=(12, 4))\n",
    "for i in range(16):\n",
    "    plt.subplot(2, 8, i+1)\n",
    "    plt.imshow(images[i].cpu().permute(1, 2, 0))\n",
    "    pred_label = 'dog' if preds[i] == 1 else 'cat'\n",
    "    true_label = 'dog' if labels[i] == 1 else 'cat'\n",
    "    color = 'green' if pred_label == true_label else 'red'\n",
    "    plt.title(f'Pred : {pred_label}\\nTrue : {true_label}', color=color)\n",
    "    plt.axis('off')\n",
    "\n",
    "plt.tight_layout()\n",
    "plt.show()"
   ]
  },
  {
   "cell_type": "markdown",
   "metadata": {},
   "source": [
    "#### 캐글 경로 주의!"
   ]
  },
  {
   "cell_type": "code",
   "execution_count": null,
   "metadata": {
    "execution": {
     "iopub.execute_input": "2025-04-16T06:52:18.490516Z",
     "iopub.status.busy": "2025-04-16T06:52:18.489718Z",
     "iopub.status.idle": "2025-04-16T06:52:18.505402Z",
     "shell.execute_reply": "2025-04-16T06:52:18.504352Z",
     "shell.execute_reply.started": "2025-04-16T06:52:18.490488Z"
    },
    "trusted": true
   },
   "outputs": [],
   "source": [
    "test_dir = '/kaggle/working/test1'\n",
    "image_files = [f for f in os.listdir(test_dir) if f.endswith(('.jpg', '.png'))]\n",
    "len(image_files)"
   ]
  },
  {
   "cell_type": "code",
   "execution_count": null,
   "metadata": {
    "execution": {
     "iopub.execute_input": "2025-04-16T06:52:32.267600Z",
     "iopub.status.busy": "2025-04-16T06:52:32.267302Z",
     "iopub.status.idle": "2025-04-16T06:52:34.259825Z",
     "shell.execute_reply": "2025-04-16T06:52:34.258832Z",
     "shell.execute_reply.started": "2025-04-16T06:52:32.267577Z"
    },
    "trusted": true
   },
   "outputs": [],
   "source": [
    "# 예측과 시각화 동시\n",
    "plt.figure(figsize=(12, 12))\n",
    "for i, fname in enumerate(image_files[0:16]):  # 최대 16장까지 출력 0:16, 16:32, 32:48\n",
    "    img_path = os.path.join(test_dir, fname)\n",
    "    img = Image.open(img_path).convert('RGB')\n",
    "    img_tensor = transform(img).unsqueeze(0).to(device)\n",
    "\n",
    "    with torch.no_grad():\n",
    "        output = model(img_tensor)\n",
    "        pred = 'Dog' if output.item() > 0.5 else 'Cat'\n",
    "\n",
    "    # 이미지 출력\n",
    "    plt.subplot(4, 4, i + 1)\n",
    "    plt.imshow(img)\n",
    "    plt.title(f'{pred}\\n({fname})', fontsize=10)\n",
    "    plt.axis('off')\n",
    "\n",
    "plt.tight_layout()\n",
    "plt.show()"
   ]
  },
  {
   "cell_type": "markdown",
   "metadata": {},
   "source": [
    "### making Submission.csv \n",
    "\n",
    "- 캐글에 맞춰서 추가 작성할 것"
   ]
  },
  {
   "cell_type": "code",
   "execution_count": null,
   "metadata": {
    "execution": {
     "iopub.execute_input": "2025-04-16T06:55:32.357013Z",
     "iopub.status.busy": "2025-04-16T06:55:32.356659Z",
     "iopub.status.idle": "2025-04-16T06:55:32.362307Z",
     "shell.execute_reply": "2025-04-16T06:55:32.361407Z",
     "shell.execute_reply.started": "2025-04-16T06:55:32.356979Z"
    },
    "trusted": true
   },
   "outputs": [],
   "source": [
    "test_dir = '/kaggle/working/test1'\n",
    "\n",
    "test_transform = transforms.Compose([\n",
    "    transforms.Resize((128, 128)),\n",
    "    transforms.ToTensor(),\n",
    "    transforms.Normalize((0.5,), (0.5,))\n",
    "])"
   ]
  },
  {
   "cell_type": "code",
   "execution_count": null,
   "metadata": {
    "execution": {
     "iopub.execute_input": "2025-04-16T06:56:03.765882Z",
     "iopub.status.busy": "2025-04-16T06:56:03.765552Z",
     "iopub.status.idle": "2025-04-16T06:56:03.772942Z",
     "shell.execute_reply": "2025-04-16T06:56:03.772215Z",
     "shell.execute_reply.started": "2025-04-16T06:56:03.765857Z"
    },
    "trusted": true
   },
   "outputs": [],
   "source": [
    "class TestDataset(torch.utils.data.Dataset):\n",
    "    def __init__(self, path, transform):\n",
    "        self.path = path\n",
    "        self.files = sorted([f for f in os.listdir(path) if f.endswith('.jpg')],\n",
    "                            key=lambda x: int(x.split('.')[0]))\n",
    "        self.transform = transform\n",
    "\n",
    "    def __len__(self):\n",
    "        return len(self.files)\n",
    "\n",
    "    def __getitem__(self, idx):\n",
    "        img_name = self.files[idx]\n",
    "        img_path = os.path.join(self.path, img_name)\n",
    "        image = Image.open(img_path).convert('RGB')\n",
    "        image = self.transform(image)\n",
    "        img_id = int(img_name.split('.')[0])\n",
    "        return image, img_id"
   ]
  },
  {
   "cell_type": "code",
   "execution_count": null,
   "metadata": {
    "execution": {
     "iopub.execute_input": "2025-04-16T06:56:23.542740Z",
     "iopub.status.busy": "2025-04-16T06:56:23.542438Z",
     "iopub.status.idle": "2025-04-16T06:56:23.565017Z",
     "shell.execute_reply": "2025-04-16T06:56:23.564232Z",
     "shell.execute_reply.started": "2025-04-16T06:56:23.542715Z"
    },
    "trusted": true
   },
   "outputs": [],
   "source": [
    "test_dataset = TestDataset(test_dir, test_transform)"
   ]
  },
  {
   "cell_type": "code",
   "execution_count": null,
   "metadata": {
    "execution": {
     "iopub.execute_input": "2025-04-16T06:56:32.503904Z",
     "iopub.status.busy": "2025-04-16T06:56:32.503458Z",
     "iopub.status.idle": "2025-04-16T06:56:32.509507Z",
     "shell.execute_reply": "2025-04-16T06:56:32.508618Z",
     "shell.execute_reply.started": "2025-04-16T06:56:32.503876Z"
    },
    "trusted": true
   },
   "outputs": [],
   "source": [
    "len(test_dataset)"
   ]
  },
  {
   "cell_type": "code",
   "execution_count": null,
   "metadata": {
    "execution": {
     "iopub.execute_input": "2025-04-16T06:56:57.336615Z",
     "iopub.status.busy": "2025-04-16T06:56:57.336337Z",
     "iopub.status.idle": "2025-04-16T06:56:57.341488Z",
     "shell.execute_reply": "2025-04-16T06:56:57.340524Z",
     "shell.execute_reply.started": "2025-04-16T06:56:57.336579Z"
    },
    "trusted": true
   },
   "outputs": [],
   "source": [
    "test_loader = DataLoader(test_dataset, batch_size=64)"
   ]
  },
  {
   "cell_type": "code",
   "execution_count": null,
   "metadata": {
    "execution": {
     "iopub.execute_input": "2025-04-16T06:57:03.081210Z",
     "iopub.status.busy": "2025-04-16T06:57:03.080483Z",
     "iopub.status.idle": "2025-04-16T06:57:03.086781Z",
     "shell.execute_reply": "2025-04-16T06:57:03.085895Z",
     "shell.execute_reply.started": "2025-04-16T06:57:03.081176Z"
    },
    "trusted": true
   },
   "outputs": [],
   "source": [
    "len(test_loader)"
   ]
  },
  {
   "cell_type": "code",
   "execution_count": null,
   "metadata": {
    "execution": {
     "iopub.execute_input": "2025-04-16T07:00:03.955624Z",
     "iopub.status.busy": "2025-04-16T07:00:03.955318Z",
     "iopub.status.idle": "2025-04-16T07:02:55.830573Z",
     "shell.execute_reply": "2025-04-16T07:02:55.829851Z",
     "shell.execute_reply.started": "2025-04-16T07:00:03.955600Z"
    },
    "trusted": true
   },
   "outputs": [],
   "source": [
    "model.eval()\n",
    "results = []\n",
    "\n",
    "with torch.no_grad():\n",
    "    for images, img_ids in test_loader:\n",
    "        images = images.to(device)\n",
    "        outputs = model(images)\n",
    "        preds = (outputs > 0.5).int().squeeze().cpu().numpy()\n",
    "        for img_id, pred in zip(img_ids, preds):\n",
    "            results.append((img_id, pred))"
   ]
  },
  {
   "cell_type": "code",
   "execution_count": null,
   "metadata": {
    "execution": {
     "iopub.execute_input": "2025-04-16T07:03:26.830202Z",
     "iopub.status.busy": "2025-04-16T07:03:26.829876Z",
     "iopub.status.idle": "2025-04-16T07:03:26.835930Z",
     "shell.execute_reply": "2025-04-16T07:03:26.834985Z",
     "shell.execute_reply.started": "2025-04-16T07:03:26.830181Z"
    },
    "trusted": true
   },
   "outputs": [],
   "source": [
    "len(results)"
   ]
  },
  {
   "cell_type": "code",
   "execution_count": null,
   "metadata": {
    "execution": {
     "iopub.execute_input": "2025-04-16T07:09:49.523213Z",
     "iopub.status.busy": "2025-04-16T07:09:49.522931Z",
     "iopub.status.idle": "2025-04-16T07:09:49.529341Z",
     "shell.execute_reply": "2025-04-16T07:09:49.528364Z",
     "shell.execute_reply.started": "2025-04-16T07:09:49.523193Z"
    },
    "trusted": true
   },
   "outputs": [],
   "source": [
    "type(results[0][0])"
   ]
  },
  {
   "cell_type": "markdown",
   "metadata": {},
   "source": [
    "### results to csv\n",
    "\n",
    "- submission.csv 파일을 submit 할것!"
   ]
  },
  {
   "cell_type": "code",
   "execution_count": null,
   "metadata": {
    "execution": {
     "iopub.execute_input": "2025-04-16T07:04:01.471710Z",
     "iopub.status.busy": "2025-04-16T07:04:01.471397Z",
     "iopub.status.idle": "2025-04-16T07:04:01.475559Z",
     "shell.execute_reply": "2025-04-16T07:04:01.474891Z",
     "shell.execute_reply.started": "2025-04-16T07:04:01.471685Z"
    },
    "trusted": true
   },
   "outputs": [],
   "source": [
    "import pandas as pd"
   ]
  },
  {
   "cell_type": "code",
   "execution_count": null,
   "metadata": {
    "execution": {
     "iopub.execute_input": "2025-04-16T07:04:38.401979Z",
     "iopub.status.busy": "2025-04-16T07:04:38.401321Z",
     "iopub.status.idle": "2025-04-16T07:04:38.449588Z",
     "shell.execute_reply": "2025-04-16T07:04:38.448589Z",
     "shell.execute_reply.started": "2025-04-16T07:04:38.401946Z"
    },
    "trusted": true
   },
   "outputs": [],
   "source": [
    "results.sort(key=lambda x: x[0])"
   ]
  },
  {
   "cell_type": "code",
   "execution_count": null,
   "metadata": {
    "execution": {
     "iopub.execute_input": "2025-04-16T07:09:58.147415Z",
     "iopub.status.busy": "2025-04-16T07:09:58.147053Z",
     "iopub.status.idle": "2025-04-16T07:09:58.166153Z",
     "shell.execute_reply": "2025-04-16T07:09:58.165263Z",
     "shell.execute_reply.started": "2025-04-16T07:09:58.147390Z"
    },
    "trusted": true
   },
   "outputs": [],
   "source": [
    "results = [(int(i), int(label)) for i, label in results]"
   ]
  },
  {
   "cell_type": "code",
   "execution_count": null,
   "metadata": {
    "execution": {
     "iopub.execute_input": "2025-04-16T07:10:00.037002Z",
     "iopub.status.busy": "2025-04-16T07:10:00.036630Z",
     "iopub.status.idle": "2025-04-16T07:10:00.053718Z",
     "shell.execute_reply": "2025-04-16T07:10:00.052957Z",
     "shell.execute_reply.started": "2025-04-16T07:10:00.036977Z"
    },
    "trusted": true
   },
   "outputs": [],
   "source": [
    "df = pd.DataFrame(results, columns=['id', 'label'])\n",
    "df.tail()"
   ]
  },
  {
   "cell_type": "code",
   "execution_count": null,
   "metadata": {
    "execution": {
     "iopub.execute_input": "2025-04-16T07:10:03.218131Z",
     "iopub.status.busy": "2025-04-16T07:10:03.217809Z",
     "iopub.status.idle": "2025-04-16T07:10:03.233399Z",
     "shell.execute_reply": "2025-04-16T07:10:03.232445Z",
     "shell.execute_reply.started": "2025-04-16T07:10:03.218108Z"
    },
    "trusted": true
   },
   "outputs": [],
   "source": [
    "df.to_csv('submission.csv', index=False)"
   ]
  },
  {
   "cell_type": "code",
   "execution_count": null,
   "metadata": {
    "execution": {
     "iopub.execute_input": "2025-04-16T07:10:05.557241Z",
     "iopub.status.busy": "2025-04-16T07:10:05.556949Z",
     "iopub.status.idle": "2025-04-16T07:10:05.569523Z",
     "shell.execute_reply": "2025-04-16T07:10:05.568392Z",
     "shell.execute_reply.started": "2025-04-16T07:10:05.557221Z"
    },
    "trusted": true
   },
   "outputs": [],
   "source": [
    "df2 = pd.read_csv('submission.csv')\n",
    "df2.tail()"
   ]
  }
 ],
 "metadata": {
  "kaggle": {
   "accelerator": "none",
   "dataSources": [
    {
     "databundleVersionId": 31148,
     "sourceId": 3362,
     "sourceType": "competition"
    }
   ],
   "dockerImageVersionId": 31012,
   "isGpuEnabled": false,
   "isInternetEnabled": true,
   "language": "python",
   "sourceType": "notebook"
  },
  "kernelspec": {
   "display_name": "mlvenv",
   "language": "python",
   "name": "python3"
  },
  "language_info": {
   "codemirror_mode": {
    "name": "ipython",
    "version": 3
   },
   "file_extension": ".py",
   "mimetype": "text/x-python",
   "name": "python",
   "nbconvert_exporter": "python",
   "pygments_lexer": "ipython3",
   "version": "3.11.9"
  }
 },
 "nbformat": 4,
 "nbformat_minor": 4
}
