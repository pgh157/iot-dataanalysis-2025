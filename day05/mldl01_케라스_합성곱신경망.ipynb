{
 "cells": [
  {
   "cell_type": "markdown",
   "id": "4a73cbae",
   "metadata": {},
   "source": [
    "## 합성곱 신경망\n",
    "\n",
    "### 패션 MNIST CNN\n",
    "\n",
    "- "
   ]
  },
  {
   "cell_type": "code",
   "execution_count": 1,
   "id": "6a689315",
   "metadata": {},
   "outputs": [
    {
     "name": "stdout",
     "output_type": "stream",
     "text": [
      "WARNING:tensorflow:From c:\\source\\iot-dataanalysis-2025\\mlvenv\\Lib\\site-packages\\keras\\src\\losses.py:2976: The name tf.losses.sparse_softmax_cross_entropy is deprecated. Please use tf.compat.v1.losses.sparse_softmax_cross_entropy instead.\n",
      "\n"
     ]
    }
   ],
   "source": [
    "from tensorflow import keras\n",
    "from sklearn.model_selection import train_test_split"
   ]
  },
  {
   "cell_type": "code",
   "execution_count": 2,
   "id": "2fff69dd",
   "metadata": {},
   "outputs": [],
   "source": [
    "(train_input, train_target), (test_input, test_target) = keras.datasets.fashion_mnist.load_data()"
   ]
  },
  {
   "cell_type": "code",
   "execution_count": 3,
   "id": "7f1ed306",
   "metadata": {},
   "outputs": [
    {
     "name": "stdout",
     "output_type": "stream",
     "text": [
      "(60000, 28, 28) (10000, 28, 28)\n"
     ]
    }
   ],
   "source": [
    "print(train_input.shape, test_input.shape)"
   ]
  },
  {
   "cell_type": "code",
   "execution_count": 4,
   "id": "4eb06e1d",
   "metadata": {},
   "outputs": [],
   "source": [
    "# 255.0 - 정규화처리\n",
    "# reshape(-1, 28, 28, 1) - 4차원 배열로 변경\n",
    "train_scaled = train_input.reshape(-1, 28, 28, 1) / 255.0"
   ]
  },
  {
   "cell_type": "code",
   "execution_count": 5,
   "id": "05352baf",
   "metadata": {},
   "outputs": [
    {
     "data": {
      "text/plain": [
       "(60000, 28, 28, 1)"
      ]
     },
     "execution_count": 5,
     "metadata": {},
     "output_type": "execute_result"
    }
   ],
   "source": [
    "train_scaled.shape"
   ]
  },
  {
   "cell_type": "code",
   "execution_count": 6,
   "id": "37089a22",
   "metadata": {},
   "outputs": [],
   "source": [
    "test_scaled = test_input.reshape(-1, 28, 28, 1) # 이게맞나?"
   ]
  },
  {
   "cell_type": "markdown",
   "id": "13fac9ff",
   "metadata": {},
   "source": [
    "- train_scaled에서 1차원을 더 추가한 이유\n",
    "- channel 값 : 흑백이기 때문에 1채널만 있으면 됨\n",
    "    - 60000(데이터수), 28(이미지넓이), 28(이미지높이), 1(입력채널)"
   ]
  },
  {
   "cell_type": "code",
   "execution_count": 7,
   "id": "b8f2380a",
   "metadata": {},
   "outputs": [],
   "source": [
    "## 훈련세트, 검증세트 분리\n",
    "train_scaled, val_scaled, train_target, val_target = train_test_split(\n",
    "    train_scaled, train_target, test_size=0.2, random_state=42\n",
    ")"
   ]
  },
  {
   "cell_type": "code",
   "execution_count": 8,
   "id": "8c468b89",
   "metadata": {},
   "outputs": [
    {
     "name": "stdout",
     "output_type": "stream",
     "text": [
      "(48000, 28, 28, 1) (12000, 28, 28, 1)\n",
      "(48000,) (12000,)\n"
     ]
    }
   ],
   "source": [
    "print(train_scaled.shape, val_scaled.shape)\n",
    "print(train_target.shape, val_target.shape)"
   ]
  },
  {
   "cell_type": "markdown",
   "id": "678ac011",
   "metadata": {},
   "source": [
    "### 합성곱 신경망 만들기"
   ]
  },
  {
   "cell_type": "code",
   "execution_count": 9,
   "id": "3fba716f",
   "metadata": {},
   "outputs": [
    {
     "name": "stdout",
     "output_type": "stream",
     "text": [
      "WARNING:tensorflow:From c:\\source\\iot-dataanalysis-2025\\mlvenv\\Lib\\site-packages\\keras\\src\\backend.py:873: The name tf.get_default_graph is deprecated. Please use tf.compat.v1.get_default_graph instead.\n",
      "\n"
     ]
    }
   ],
   "source": [
    "model = keras.Sequential(name= 'CNN1')\n",
    "\n",
    "# 32 - 합성곱 층의 필터 갯수\n",
    "# kernel_size, 3 - (3x3)\n",
    "# padding, same -> 패딩 추가해서 특성맵사이즈를 원본과 동일하게\n",
    "model.add(keras.layers.Conv2D(32, kernel_size = 3, activation = 'relu', padding = 'same', input_shape = (28, 28, 1)))"
   ]
  },
  {
   "cell_type": "code",
   "execution_count": 10,
   "id": "ba55eab0",
   "metadata": {},
   "outputs": [
    {
     "name": "stdout",
     "output_type": "stream",
     "text": [
      "Model: \"CNN1\"\n",
      "_________________________________________________________________\n",
      " Layer (type)                Output Shape              Param #   \n",
      "=================================================================\n",
      " conv2d (Conv2D)             (None, 28, 28, 32)        320       \n",
      "                                                                 \n",
      "=================================================================\n",
      "Total params: 320 (1.25 KB)\n",
      "Trainable params: 320 (1.25 KB)\n",
      "Non-trainable params: 0 (0.00 Byte)\n",
      "_________________________________________________________________\n"
     ]
    }
   ],
   "source": [
    "model.summary()"
   ]
  },
  {
   "cell_type": "code",
   "execution_count": 11,
   "id": "0c7b19bf",
   "metadata": {},
   "outputs": [
    {
     "name": "stdout",
     "output_type": "stream",
     "text": [
      "WARNING:tensorflow:From c:\\source\\iot-dataanalysis-2025\\mlvenv\\Lib\\site-packages\\keras\\src\\layers\\pooling\\max_pooling2d.py:161: The name tf.nn.max_pool is deprecated. Please use tf.nn.max_pool2d instead.\n",
      "\n"
     ]
    }
   ],
   "source": [
    "model.add(keras.layers.MaxPooling2D(2))         # 특성맵이 반으로 줄어듬.  14x14 사이즈의 특성맵"
   ]
  },
  {
   "cell_type": "code",
   "execution_count": 12,
   "id": "ddd67c98",
   "metadata": {},
   "outputs": [
    {
     "name": "stdout",
     "output_type": "stream",
     "text": [
      "Model: \"CNN1\"\n",
      "_________________________________________________________________\n",
      " Layer (type)                Output Shape              Param #   \n",
      "=================================================================\n",
      " conv2d (Conv2D)             (None, 28, 28, 32)        320       \n",
      "                                                                 \n",
      " max_pooling2d (MaxPooling2  (None, 14, 14, 32)        0         \n",
      " D)                                                              \n",
      "                                                                 \n",
      "=================================================================\n",
      "Total params: 320 (1.25 KB)\n",
      "Trainable params: 320 (1.25 KB)\n",
      "Non-trainable params: 0 (0.00 Byte)\n",
      "_________________________________________________________________\n"
     ]
    }
   ],
   "source": [
    "model.summary()"
   ]
  },
  {
   "cell_type": "code",
   "execution_count": 13,
   "id": "ce79f546",
   "metadata": {},
   "outputs": [],
   "source": [
    "# 두번째 합성곱/풀링층 추가\n",
    "model.add(keras.layers.Conv2D(64, kernel_size = 3, activation = 'relu', padding = 'same'))\n",
    "model.add(keras.layers.MaxPooling2D(2))         # 사이즈 반으로, 7x7x64 특성맵 -> 3136 출력"
   ]
  },
  {
   "cell_type": "code",
   "execution_count": 14,
   "id": "ac365080",
   "metadata": {},
   "outputs": [],
   "source": [
    "# 심층신경망을 붙임\n",
    "model.add(keras.layers.Flatten())\n",
    "model.add(keras.layers.Dense(100, activation = 'relu'))\n",
    "model.add(keras.layers.Dropout(0,4))\n",
    "model.add(keras.layers.Dense(10, activation = 'softmax'))"
   ]
  },
  {
   "cell_type": "markdown",
   "id": "f9d18816",
   "metadata": {},
   "source": [
    "#### 위에 까지 학습을 위해서 나눠놓은 것\n",
    "- 아래에 다시 하나의 셀에 합침"
   ]
  },
  {
   "cell_type": "code",
   "execution_count": 15,
   "id": "517e8df5",
   "metadata": {},
   "outputs": [],
   "source": [
    "model = keras.Sequential(name= 'CNN1')\n",
    "\n",
    "# 32 - 합성곱 층의 필터 갯수\n",
    "# kernel_size, 3 - (3x3)\n",
    "# padding, same -> 패딩 추가해서 특성맵사이즈를 원본과 동일하게\n",
    "model.add(keras.layers.Conv2D( 32, kernel_size = 3, activation = 'relu', padding = 'same', input_shape = (28, 28, 1),name = 'First_CNN'))\n",
    "model.add(keras.layers.MaxPooling2D(2, name='First_Pooling'))         # 특성맵이 반으로 줄어듬.  14x14 사이즈의 특성맵\n",
    "\n",
    "# 두번째 합성곱/풀링층 추가\n",
    "model.add(keras.layers.Conv2D(64, kernel_size = 3, activation = 'relu', padding = 'same', name= 'Second_CNN'))\n",
    "model.add(keras.layers.MaxPooling2D(2, name='Second_Pooling'))         # 사이즈 반으로, 7x7x64 특성맵 -> 3136 출력\n",
    "\n",
    "# 심층신경망을 붙임\n",
    "model.add(keras.layers.Flatten(name='Flatten'))\n",
    "model.add(keras.layers.Dense(100, activation = 'relu', name='Hidden'))\n",
    "model.add(keras.layers.Dropout(0,4,name= 'Dropout'))\n",
    "model.add(keras.layers.Dense(10, activation = 'softmax', name='Output'))"
   ]
  },
  {
   "cell_type": "code",
   "execution_count": 16,
   "id": "6536d5d7",
   "metadata": {},
   "outputs": [
    {
     "name": "stdout",
     "output_type": "stream",
     "text": [
      "Model: \"CNN1\"\n",
      "_________________________________________________________________\n",
      " Layer (type)                Output Shape              Param #   \n",
      "=================================================================\n",
      " First_CNN (Conv2D)          (None, 28, 28, 32)        320       \n",
      "                                                                 \n",
      " First_Pooling (MaxPooling2  (None, 14, 14, 32)        0         \n",
      " D)                                                              \n",
      "                                                                 \n",
      " Second_CNN (Conv2D)         (None, 14, 14, 64)        18496     \n",
      "                                                                 \n",
      " Second_Pooling (MaxPooling  (None, 7, 7, 64)          0         \n",
      " 2D)                                                             \n",
      "                                                                 \n",
      " Flatten (Flatten)           (None, 3136)              0         \n",
      "                                                                 \n",
      " Hidden (Dense)              (None, 100)               313700    \n",
      "                                                                 \n",
      " Dropout (Dropout)           (None, 100)               0         \n",
      "                                                                 \n",
      " Output (Dense)              (None, 10)                1010      \n",
      "                                                                 \n",
      "=================================================================\n",
      "Total params: 333526 (1.27 MB)\n",
      "Trainable params: 333526 (1.27 MB)\n",
      "Non-trainable params: 0 (0.00 Byte)\n",
      "_________________________________________________________________\n"
     ]
    }
   ],
   "source": [
    "model.summary()"
   ]
  },
  {
   "cell_type": "code",
   "execution_count": 17,
   "id": "2934c49f",
   "metadata": {},
   "outputs": [
    {
     "data": {
      "image/png": "[encoded data removed]",
      "text/plain": [
       "<IPython.core.display.Image object>"
      ]
     },
     "execution_count": 17,
     "metadata": {},
     "output_type": "execute_result"
    }
   ],
   "source": [
    "#  모델 시각화\n",
    "keras.utils.plot_model(model)"
   ]
  },
  {
   "cell_type": "markdown",
   "id": "ff19ec81",
   "metadata": {},
   "source": [
    "- graphviz 설치(graphviz-12.2.1 (64-bit) EXE installer [sha256], 중간꺼 클릭, 맨밑 create도 클릭)\n",
    "- pydot 파이썬 모듈 설치\n",
    "- VS code 재시작"
   ]
  },
  {
   "cell_type": "code",
   "execution_count": 18,
   "id": "b4df4914",
   "metadata": {},
   "outputs": [
    {
     "name": "stdout",
     "output_type": "stream",
     "text": [
      "Requirement already satisfied: pydot in c:\\source\\iot-dataanalysis-2025\\mlvenv\\lib\\site-packages (3.0.4)\n",
      "Requirement already satisfied: pyparsing>=3.0.9 in c:\\source\\iot-dataanalysis-2025\\mlvenv\\lib\\site-packages (from pydot) (3.2.3)\n"
     ]
    },
    {
     "name": "stderr",
     "output_type": "stream",
     "text": [
      "\n",
      "[notice] A new release of pip is available: 24.0 -> 25.0.1\n",
      "[notice] To update, run: python.exe -m pip install --upgrade pip\n"
     ]
    }
   ],
   "source": [
    "!pip install pydot"
   ]
  },
  {
   "cell_type": "code",
   "execution_count": 42,
   "id": "76d9f4dc",
   "metadata": {},
   "outputs": [
    {
     "data": {
      "image/png": "[encoded data removed]",
      "text/plain": [
       "<IPython.core.display.Image object>"
      ]
     },
     "execution_count": 42,
     "metadata": {},
     "output_type": "execute_result"
    }
   ],
   "source": [
    "## 상세 모델 시각화\n",
    "keras.utils.plot_model(model, show_shapes=True)"
   ]
  },
  {
   "cell_type": "markdown",
   "id": "b7789142",
   "metadata": {},
   "source": [
    "#### 모델 컴파일, 훈련"
   ]
  },
  {
   "cell_type": "code",
   "execution_count": 20,
   "id": "14eda11d",
   "metadata": {},
   "outputs": [],
   "source": [
    "# 모델 컴파일\n",
    "model.compile(optimizer='adam', loss='sparse_categorical_crossentropy', metrics = 'accuracy')\n",
    "\n",
    "checkpoint_cb = keras.callbacks.ModelCheckpoint('best-cnn-model.h5', save_best_only = True)\n",
    "early_stopping_cb = keras.callbacks.EarlyStopping(patience=2, restore_best_weights= True)"
   ]
  },
  {
   "cell_type": "code",
   "execution_count": 22,
   "id": "41cfe639",
   "metadata": {},
   "outputs": [
    {
     "name": "stdout",
     "output_type": "stream",
     "text": [
      "Epoch 1/50\n",
      "WARNING:tensorflow:From c:\\source\\iot-dataanalysis-2025\\mlvenv\\Lib\\site-packages\\keras\\src\\utils\\tf_utils.py:492: The name tf.ragged.RaggedTensorValue is deprecated. Please use tf.compat.v1.ragged.RaggedTensorValue instead.\n",
      "\n",
      "WARNING:tensorflow:From c:\\source\\iot-dataanalysis-2025\\mlvenv\\Lib\\site-packages\\keras\\src\\engine\\base_layer_utils.py:384: The name tf.executing_eagerly_outside_functions is deprecated. Please use tf.compat.v1.executing_eagerly_outside_functions instead.\n",
      "\n",
      "1500/1500 [==============================] - 13s 8ms/step - loss: 0.4283 - accuracy: 0.8454 - val_loss: 0.3013 - val_accuracy: 0.8915\n",
      "Epoch 2/50\n",
      "  14/1500 [..............................] - ETA: 12s - loss: 0.3427 - accuracy: 0.8862"
     ]
    },
    {
     "name": "stderr",
     "output_type": "stream",
     "text": [
      "c:\\source\\iot-dataanalysis-2025\\mlvenv\\Lib\\site-packages\\keras\\src\\engine\\training.py:3103: UserWarning: You are saving your model as an HDF5 file via `model.save()`. This file format is considered legacy. We recommend using instead the native Keras format, e.g. `model.save('my_model.keras')`.\n",
      "  saving_api.save_model(\n"
     ]
    },
    {
     "name": "stdout",
     "output_type": "stream",
     "text": [
      "1500/1500 [==============================] - 12s 8ms/step - loss: 0.2853 - accuracy: 0.8972 - val_loss: 0.2690 - val_accuracy: 0.9020\n",
      "Epoch 3/50\n",
      "1500/1500 [==============================] - 13s 9ms/step - loss: 0.2406 - accuracy: 0.9134 - val_loss: 0.2541 - val_accuracy: 0.9086\n",
      "Epoch 4/50\n",
      "1500/1500 [==============================] - 13s 8ms/step - loss: 0.2078 - accuracy: 0.9248 - val_loss: 0.2526 - val_accuracy: 0.9061\n",
      "Epoch 5/50\n",
      "1500/1500 [==============================] - 13s 8ms/step - loss: 0.1799 - accuracy: 0.9337 - val_loss: 0.2262 - val_accuracy: 0.9172\n",
      "Epoch 6/50\n",
      "1500/1500 [==============================] - 12s 8ms/step - loss: 0.1562 - accuracy: 0.9421 - val_loss: 0.2392 - val_accuracy: 0.9169\n",
      "Epoch 7/50\n",
      "1500/1500 [==============================] - 12s 8ms/step - loss: 0.1331 - accuracy: 0.9511 - val_loss: 0.2317 - val_accuracy: 0.9174\n"
     ]
    }
   ],
   "source": [
    "# 모델 훈련\n",
    "history = model.fit(train_scaled, train_target, epochs = 50, validation_data = (val_scaled, val_target), callbacks = [checkpoint_cb, early_stopping_cb])"
   ]
  },
  {
   "cell_type": "code",
   "execution_count": 23,
   "id": "290fa6fe",
   "metadata": {},
   "outputs": [
    {
     "data": {
      "image/png": "[encoded data removed]",
      "text/plain": [
       "<Figure size 640x480 with 1 Axes>"
      ]
     },
     "metadata": {},
     "output_type": "display_data"
    }
   ],
   "source": [
    "# 정확도 확인\n",
    "import matplotlib.pyplot as plt\n",
    "\n",
    "plt.plot(history.history['loss'])\n",
    "plt.plot(history.history['val_loss'])\n",
    "plt.xlabel('epoch')\n",
    "plt.ylabel('loss')\n",
    "plt.legend(['train', 'val'])\n",
    "plt.show()"
   ]
  },
  {
   "cell_type": "code",
   "execution_count": 24,
   "id": "c0f0d5a3",
   "metadata": {},
   "outputs": [
    {
     "name": "stdout",
     "output_type": "stream",
     "text": [
      "375/375 [==============================] - 1s 2ms/step - loss: 0.2262 - accuracy: 0.9172\n"
     ]
    },
    {
     "data": {
      "text/plain": [
       "[0.22619296610355377, 0.9171666502952576]"
      ]
     },
     "execution_count": 24,
     "metadata": {},
     "output_type": "execute_result"
    }
   ],
   "source": [
    "# 모델 검증정확도\n",
    "model.evaluate(val_scaled, val_target)"
   ]
  },
  {
   "cell_type": "code",
   "execution_count": 27,
   "id": "de1dc5c1",
   "metadata": {},
   "outputs": [
    {
     "data": {
      "image/png": "[encoded data removed]",
      "text/plain": [
       "<Figure size 640x480 with 1 Axes>"
      ]
     },
     "metadata": {},
     "output_type": "display_data"
    }
   ],
   "source": [
    "# val_scaled[0]\n",
    "plt.imshow(val_scaled[0].reshape(28, 28), cmap='gray_r')\n",
    "plt.axis('off')\n",
    "plt.show()"
   ]
  },
  {
   "cell_type": "code",
   "execution_count": 30,
   "id": "fa240aca",
   "metadata": {},
   "outputs": [
    {
     "name": "stdout",
     "output_type": "stream",
     "text": [
      "1/1 [==============================] - 0s 21ms/step\n"
     ]
    },
    {
     "data": {
      "text/plain": [
       "array([[0., 0., 0., 0., 0., 0., 0., 0., 1., 0.]], dtype=float32)"
      ]
     },
     "execution_count": 30,
     "metadata": {},
     "output_type": "execute_result"
    }
   ],
   "source": [
    "model.predict(val_scaled[0:1]).round(3)"
   ]
  },
  {
   "cell_type": "markdown",
   "id": "dbf86d60",
   "metadata": {},
   "source": [
    "#### 예측 시각화"
   ]
  },
  {
   "cell_type": "code",
   "execution_count": 32,
   "id": "259413b8",
   "metadata": {},
   "outputs": [],
   "source": [
    "import matplotlib.pyplot as plt\n",
    "import seaborn as sns\n",
    "import numpy as np"
   ]
  },
  {
   "cell_type": "code",
   "execution_count": 33,
   "id": "d43ed919",
   "metadata": {},
   "outputs": [],
   "source": [
    "# 한글로 Matplotlib 사용시 항상 필요\n",
    "from matplotlib import rcParams, font_manager, rc\n",
    "\n",
    "font_path = 'C:/Windows/Fonts/malgun.ttf'\n",
    "font = font_manager.FontProperties(fname=font_path).get_name()\n",
    "rc('font', family=font)\n",
    "rcParams['axes.unicode_minus'] = False\n",
    "\n",
    "sns.set_style('darkgrid')\n",
    "sns.set_theme(font='Malgun Gothic', rc={'axes.unicode_minus': False})"
   ]
  },
  {
   "cell_type": "code",
   "execution_count": 34,
   "id": "82590da0",
   "metadata": {},
   "outputs": [],
   "source": [
    "class_names = ['티셔츠', '바지', '스웨터', '드레스', '코트', '샌달', '셔츠', '스니커즈', '가방', '앵클부츠']"
   ]
  },
  {
   "cell_type": "code",
   "execution_count": 35,
   "id": "8f1a89d8",
   "metadata": {},
   "outputs": [
    {
     "name": "stdout",
     "output_type": "stream",
     "text": [
      "313/313 [==============================] - 1s 2ms/step\n"
     ]
    }
   ],
   "source": [
    "pred_result = model.predict(test_scaled)"
   ]
  },
  {
   "cell_type": "code",
   "execution_count": 36,
   "id": "833a2569",
   "metadata": {},
   "outputs": [],
   "source": [
    "# 테스트이미지와 예측결과 시각화\n",
    "def show_image(index):\n",
    "    plt.figure(figsize=(2,2))\n",
    "    plt.imshow(test_input[index].reshape(28, 28), cmap='gray_r')\n",
    "    true_label = class_names[test_target[index]]\n",
    "    pred_label = class_names[np.argmax(pred_result[index])]\n",
    "\n",
    "    #plt.title(f'실제: {true_label}, 예측: {pred_label}')\n",
    "    plt.text(0, -6, f'실제: {true_label}', fontsize=12, color='blue')\n",
    "    plt.text(0, -3, f'예측: {pred_label}', fontsize=12, color='red', fontweight='bold')\n",
    "\n",
    "    plt.axis('off')\n",
    "    plt.show()"
   ]
  },
  {
   "cell_type": "code",
   "execution_count": 40,
   "id": "dfd77677",
   "metadata": {},
   "outputs": [
    {
     "data": {
      "image/png": "[encoded data removed]",
      "text/plain": [
       "<Figure size 200x200 with 1 Axes>"
      ]
     },
     "metadata": {},
     "output_type": "display_data"
    },
    {
     "data": {
      "image/png": "[encoded data removed]",
      "text/plain": [
       "<Figure size 200x200 with 1 Axes>"
      ]
     },
     "metadata": {},
     "output_type": "display_data"
    },
    {
     "data": {
      "image/png": "[encoded data removed]",
      "text/plain": [
       "<Figure size 200x200 with 1 Axes>"
      ]
     },
     "metadata": {},
     "output_type": "display_data"
    },
    {
     "data": {
      "image/png": "[encoded data removed]",
      "text/plain": [
       "<Figure size 200x200 with 1 Axes>"
      ]
     },
     "metadata": {},
     "output_type": "display_data"
    },
    {
     "data": {
      "image/png": "[encoded data removed]",
      "text/plain": [
       "<Figure size 200x200 with 1 Axes>"
      ]
     },
     "metadata": {},
     "output_type": "display_data"
    }
   ],
   "source": [
    "for i in range(40,45):\n",
    "    show_image(i)"
   ]
  },
  {
   "cell_type": "code",
   "execution_count": 41,
   "id": "7cabbb25",
   "metadata": {},
   "outputs": [
    {
     "name": "stdout",
     "output_type": "stream",
     "text": [
      "313/313 [==============================] - 1s 2ms/step - loss: 36.0742 - accuracy: 0.9005\n"
     ]
    },
    {
     "data": {
      "text/plain": [
       "[36.07417678833008, 0.9004999995231628]"
      ]
     },
     "execution_count": 41,
     "metadata": {},
     "output_type": "execute_result"
    }
   ],
   "source": [
    "## 테스트세트로 검증\n",
    "model.evaluate(test_scaled, test_target)"
   ]
  },
  {
   "cell_type": "markdown",
   "id": "8ef44494",
   "metadata": {},
   "source": [
    "#### 결론\n",
    "- 일반신경망이나 심층신경망으로 훈련했을 때 보다 정확도가 높아짐\n",
    "- 심층신경망 : 대략 88%\n",
    "- `합성곱신경망` : 대략 92%"
   ]
  }
 ],
 "metadata": {
  "kernelspec": {
   "display_name": "mlvenv",
   "language": "python",
   "name": "python3"
  },
  "language_info": {
   "codemirror_mode": {
    "name": "ipython",
    "version": 3
   },
   "file_extension": ".py",
   "mimetype": "text/x-python",
   "name": "python",
   "nbconvert_exporter": "python",
   "pygments_lexer": "ipython3",
   "version": "3.11.9"
  }
 },
 "nbformat": 4,
 "nbformat_minor": 5
}
