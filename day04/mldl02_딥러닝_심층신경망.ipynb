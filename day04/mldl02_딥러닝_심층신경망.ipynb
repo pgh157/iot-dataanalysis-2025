{
 "cells": [
  {
   "cell_type": "markdown",
   "id": "14839f8f",
   "metadata": {},
   "source": [
    "## 딥러닝\n",
    "\n",
    "### 심층신경망"
   ]
  },
  {
   "cell_type": "code",
   "execution_count": 1,
   "id": "1d5a3fec",
   "metadata": {},
   "outputs": [
    {
     "name": "stdout",
     "output_type": "stream",
     "text": [
      "WARNING:tensorflow:From c:\\IOT_STUDY\\GitHub\\iot-dataanalysis-2025\\mlvenv\\Lib\\site-packages\\keras\\src\\losses.py:2976: The name tf.losses.sparse_softmax_cross_entropy is deprecated. Please use tf.compat.v1.losses.sparse_softmax_cross_entropy instead.\n",
      "\n"
     ]
    }
   ],
   "source": [
    "# 모듈 로드\n",
    "import tensorflow as tf\n",
    "from tensorflow import keras\n",
    "import numpy as np"
   ]
  },
  {
   "cell_type": "code",
   "execution_count": 2,
   "id": "f2492b53",
   "metadata": {},
   "outputs": [],
   "source": [
    "(train_input, train_target), (test_input, test_target) = keras.datasets.fashion_mnist.load_data()"
   ]
  },
  {
   "cell_type": "markdown",
   "id": "e94eb3d6",
   "metadata": {},
   "source": [
    "- 이미 이전장에서 다운로드 했기때문에 다시 다운로드 하지 않음"
   ]
  },
  {
   "cell_type": "code",
   "execution_count": 3,
   "id": "1b5653b2",
   "metadata": {},
   "outputs": [],
   "source": [
    "from sklearn.model_selection import train_test_split\n",
    "from sklearn.preprocessing import StandardScaler"
   ]
  },
  {
   "cell_type": "code",
   "execution_count": 4,
   "id": "8e854ef0",
   "metadata": {},
   "outputs": [],
   "source": [
    "train_input = train_input.reshape(-1, 28*28)\n",
    "test_input = test_input.reshape(-1, 28*28)"
   ]
  },
  {
   "cell_type": "code",
   "execution_count": 5,
   "id": "ccb057b9",
   "metadata": {},
   "outputs": [],
   "source": [
    "# 스케일링\n",
    "scaler = StandardScaler()\n",
    "train_scaled = scaler.fit_transform(train_input.astype(np.float64))\n",
    "test_scaled = scaler.transform(test_input.astype(np.float64))"
   ]
  },
  {
   "cell_type": "code",
   "execution_count": 6,
   "id": "17529aea",
   "metadata": {},
   "outputs": [],
   "source": [
    "# 훈련세트, 검증세트 분리\n",
    "train_scaled, val_scaled, train_target, val_target = train_test_split(\n",
    "    train_scaled, train_target, test_size=0.2, random_state=42\n",
    ")"
   ]
  },
  {
   "cell_type": "code",
   "execution_count": 7,
   "id": "bee95dcc",
   "metadata": {},
   "outputs": [
    {
     "name": "stdout",
     "output_type": "stream",
     "text": [
      "(48000, 784) (12000, 784) (10000, 784)\n",
      "(48000,) (12000,) (10000,)\n"
     ]
    }
   ],
   "source": [
    "print(train_scaled.shape, val_scaled.shape, test_scaled.shape)\n",
    "print(train_target.shape, val_target.shape, test_target.shape)"
   ]
  },
  {
   "cell_type": "markdown",
   "id": "ef2d5c65",
   "metadata": {},
   "source": [
    "##### 심층신경망 만들기1"
   ]
  },
  {
   "cell_type": "code",
   "execution_count": 8,
   "id": "3aac28f8",
   "metadata": {},
   "outputs": [],
   "source": [
    "# 밀집층 생성\n",
    "dense1 = keras.layers.Dense(100, activation='sigmoid', input_shape=(784,), name='hidden')\n",
    "dense2 = keras.layers.Dense(10, activation='softmax', name='output')"
   ]
  },
  {
   "cell_type": "code",
   "execution_count": 9,
   "id": "72fc720b",
   "metadata": {},
   "outputs": [
    {
     "name": "stdout",
     "output_type": "stream",
     "text": [
      "WARNING:tensorflow:From c:\\IOT_STUDY\\GitHub\\iot-dataanalysis-2025\\mlvenv\\Lib\\site-packages\\keras\\src\\backend.py:873: The name tf.get_default_graph is deprecated. Please use tf.compat.v1.get_default_graph instead.\n",
      "\n"
     ]
    }
   ],
   "source": [
    "# 신경망 모델 생성\n",
    "model = keras.Sequential([dense1, dense2])"
   ]
  },
  {
   "cell_type": "code",
   "execution_count": 10,
   "id": "d0a74d45",
   "metadata": {},
   "outputs": [
    {
     "name": "stdout",
     "output_type": "stream",
     "text": [
      "Model: \"sequential\"\n",
      "_________________________________________________________________\n",
      " Layer (type)                Output Shape              Param #   \n",
      "=================================================================\n",
      " hidden (Dense)              (None, 100)               78500     \n",
      "                                                                 \n",
      " output (Dense)              (None, 10)                1010      \n",
      "                                                                 \n",
      "=================================================================\n",
      "Total params: 79510 (310.59 KB)\n",
      "Trainable params: 79510 (310.59 KB)\n",
      "Non-trainable params: 0 (0.00 Byte)\n",
      "_________________________________________________________________\n"
     ]
    }
   ],
   "source": [
    "# 모델 요약\n",
    "model.summary()"
   ]
  },
  {
   "cell_type": "markdown",
   "id": "1a8cf752",
   "metadata": {},
   "source": [
    "#### 심층신경망 만들기2"
   ]
  },
  {
   "cell_type": "code",
   "execution_count": 11,
   "id": "51443b81",
   "metadata": {},
   "outputs": [],
   "source": [
    "model = keras.Sequential([\n",
    "    keras.layers.Dense(100, activation='sigmoid', input_shape=(784,), name='hidden'),\n",
    "    keras.layers.Dense(10, activation='softmax', name='output')\n",
    "], name='Fashion_MNIST_Model')"
   ]
  },
  {
   "cell_type": "code",
   "execution_count": 12,
   "id": "30d53ad6",
   "metadata": {},
   "outputs": [
    {
     "name": "stdout",
     "output_type": "stream",
     "text": [
      "Model: \"Fashion_MNIST_Model\"\n",
      "_________________________________________________________________\n",
      " Layer (type)                Output Shape              Param #   \n",
      "=================================================================\n",
      " hidden (Dense)              (None, 100)               78500     \n",
      "                                                                 \n",
      " output (Dense)              (None, 10)                1010      \n",
      "                                                                 \n",
      "=================================================================\n",
      "Total params: 79510 (310.59 KB)\n",
      "Trainable params: 79510 (310.59 KB)\n",
      "Non-trainable params: 0 (0.00 Byte)\n",
      "_________________________________________________________________\n"
     ]
    }
   ],
   "source": [
    "model.summary()"
   ]
  },
  {
   "cell_type": "code",
   "execution_count": 13,
   "id": "aa8c209a",
   "metadata": {},
   "outputs": [
    {
     "name": "stdout",
     "output_type": "stream",
     "text": [
      "WARNING:tensorflow:From c:\\IOT_STUDY\\GitHub\\iot-dataanalysis-2025\\mlvenv\\Lib\\site-packages\\keras\\src\\optimizers\\__init__.py:309: The name tf.train.Optimizer is deprecated. Please use tf.compat.v1.train.Optimizer instead.\n",
      "\n"
     ]
    }
   ],
   "source": [
    "# 모델 훈련전 설정\n",
    "model.compile(loss='sparse_categorical_crossentropy', metrics='accuracy')"
   ]
  },
  {
   "cell_type": "code",
   "execution_count": 14,
   "id": "6ac6edda",
   "metadata": {},
   "outputs": [
    {
     "name": "stdout",
     "output_type": "stream",
     "text": [
      "Epoch 1/100\n",
      "WARNING:tensorflow:From c:\\IOT_STUDY\\GitHub\\iot-dataanalysis-2025\\mlvenv\\Lib\\site-packages\\keras\\src\\utils\\tf_utils.py:492: The name tf.ragged.RaggedTensorValue is deprecated. Please use tf.compat.v1.ragged.RaggedTensorValue instead.\n",
      "\n",
      "WARNING:tensorflow:From c:\\IOT_STUDY\\GitHub\\iot-dataanalysis-2025\\mlvenv\\Lib\\site-packages\\keras\\src\\engine\\base_layer_utils.py:384: The name tf.executing_eagerly_outside_functions is deprecated. Please use tf.compat.v1.executing_eagerly_outside_functions instead.\n",
      "\n",
      "1500/1500 [==============================] - 1s 759us/step - loss: 0.4703 - accuracy: 0.8359\n",
      "Epoch 2/100\n",
      "1500/1500 [==============================] - 1s 681us/step - loss: 0.3583 - accuracy: 0.8708\n",
      "Epoch 3/100\n",
      "1500/1500 [==============================] - 1s 691us/step - loss: 0.3221 - accuracy: 0.8848\n",
      "Epoch 4/100\n",
      "1500/1500 [==============================] - 1s 703us/step - loss: 0.2962 - accuracy: 0.8939\n",
      "Epoch 5/100\n",
      "1500/1500 [==============================] - 1s 725us/step - loss: 0.2772 - accuracy: 0.9006\n",
      "Epoch 6/100\n",
      "1500/1500 [==============================] - 1s 750us/step - loss: 0.2599 - accuracy: 0.9070\n",
      "Epoch 7/100\n",
      "1500/1500 [==============================] - 1s 750us/step - loss: 0.2450 - accuracy: 0.9120\n",
      "Epoch 8/100\n",
      "1500/1500 [==============================] - 1s 738us/step - loss: 0.2318 - accuracy: 0.9178\n",
      "Epoch 9/100\n",
      "1500/1500 [==============================] - 1s 730us/step - loss: 0.2202 - accuracy: 0.9220\n",
      "Epoch 10/100\n",
      "1500/1500 [==============================] - 1s 724us/step - loss: 0.2088 - accuracy: 0.9269\n",
      "Epoch 11/100\n",
      "1500/1500 [==============================] - 1s 705us/step - loss: 0.1972 - accuracy: 0.9303\n",
      "Epoch 12/100\n",
      "1500/1500 [==============================] - 1s 721us/step - loss: 0.1873 - accuracy: 0.9339\n",
      "Epoch 13/100\n",
      "1500/1500 [==============================] - 1s 747us/step - loss: 0.1783 - accuracy: 0.9390\n",
      "Epoch 14/100\n",
      "1500/1500 [==============================] - 1s 781us/step - loss: 0.1683 - accuracy: 0.9414\n",
      "Epoch 15/100\n",
      "1500/1500 [==============================] - 1s 803us/step - loss: 0.1609 - accuracy: 0.9448\n",
      "Epoch 16/100\n",
      "1500/1500 [==============================] - 1s 757us/step - loss: 0.1524 - accuracy: 0.9471\n",
      "Epoch 17/100\n",
      "1500/1500 [==============================] - 1s 699us/step - loss: 0.1466 - accuracy: 0.9500\n",
      "Epoch 18/100\n",
      "1500/1500 [==============================] - 1s 723us/step - loss: 0.1390 - accuracy: 0.9523\n",
      "Epoch 19/100\n",
      "1500/1500 [==============================] - 1s 855us/step - loss: 0.1323 - accuracy: 0.9553\n",
      "Epoch 20/100\n",
      "1500/1500 [==============================] - 2s 1ms/step - loss: 0.1268 - accuracy: 0.9580\n",
      "Epoch 21/100\n",
      "1500/1500 [==============================] - 2s 1ms/step - loss: 0.1198 - accuracy: 0.9595\n",
      "Epoch 22/100\n",
      "1500/1500 [==============================] - 2s 1ms/step - loss: 0.1158 - accuracy: 0.9622\n",
      "Epoch 23/100\n",
      "1500/1500 [==============================] - 2s 1ms/step - loss: 0.1094 - accuracy: 0.9636\n",
      "Epoch 24/100\n",
      "1500/1500 [==============================] - 2s 1ms/step - loss: 0.1049 - accuracy: 0.9655\n",
      "Epoch 25/100\n",
      "1500/1500 [==============================] - 2s 1ms/step - loss: 0.0995 - accuracy: 0.9678\n",
      "Epoch 26/100\n",
      "1500/1500 [==============================] - 2s 1ms/step - loss: 0.0950 - accuracy: 0.9693\n",
      "Epoch 27/100\n",
      "1500/1500 [==============================] - 2s 1ms/step - loss: 0.0904 - accuracy: 0.9709\n",
      "Epoch 28/100\n",
      "1500/1500 [==============================] - 2s 1ms/step - loss: 0.0866 - accuracy: 0.9721\n",
      "Epoch 29/100\n",
      "1500/1500 [==============================] - 2s 1ms/step - loss: 0.0823 - accuracy: 0.9737\n",
      "Epoch 30/100\n",
      "1500/1500 [==============================] - 1s 708us/step - loss: 0.0793 - accuracy: 0.9751\n",
      "Epoch 31/100\n",
      "1500/1500 [==============================] - 1s 797us/step - loss: 0.0748 - accuracy: 0.9764\n",
      "Epoch 32/100\n",
      "1500/1500 [==============================] - 1s 739us/step - loss: 0.0716 - accuracy: 0.9773\n",
      "Epoch 33/100\n",
      "1500/1500 [==============================] - 1s 784us/step - loss: 0.0684 - accuracy: 0.9788\n",
      "Epoch 34/100\n",
      "1500/1500 [==============================] - 1s 779us/step - loss: 0.0662 - accuracy: 0.9791\n",
      "Epoch 35/100\n",
      "1500/1500 [==============================] - 1s 752us/step - loss: 0.0632 - accuracy: 0.9809\n",
      "Epoch 36/100\n",
      "1500/1500 [==============================] - 1s 762us/step - loss: 0.0596 - accuracy: 0.9814\n",
      "Epoch 37/100\n",
      "1500/1500 [==============================] - 1s 758us/step - loss: 0.0577 - accuracy: 0.9827\n",
      "Epoch 38/100\n",
      "1500/1500 [==============================] - 1s 743us/step - loss: 0.0550 - accuracy: 0.9833\n",
      "Epoch 39/100\n",
      "1500/1500 [==============================] - 1s 702us/step - loss: 0.0526 - accuracy: 0.9844\n",
      "Epoch 40/100\n",
      "1500/1500 [==============================] - 1s 718us/step - loss: 0.0497 - accuracy: 0.9859\n",
      "Epoch 41/100\n",
      "1500/1500 [==============================] - 1s 730us/step - loss: 0.0477 - accuracy: 0.9860\n",
      "Epoch 42/100\n",
      "1500/1500 [==============================] - 1s 708us/step - loss: 0.0467 - accuracy: 0.9860\n",
      "Epoch 43/100\n",
      "1500/1500 [==============================] - 1s 703us/step - loss: 0.0439 - accuracy: 0.9873\n",
      "Epoch 44/100\n",
      "1500/1500 [==============================] - 1s 725us/step - loss: 0.0425 - accuracy: 0.9875\n",
      "Epoch 45/100\n",
      "1500/1500 [==============================] - 1s 780us/step - loss: 0.0389 - accuracy: 0.9887\n",
      "Epoch 46/100\n",
      "1500/1500 [==============================] - 1s 729us/step - loss: 0.0375 - accuracy: 0.9896\n",
      "Epoch 47/100\n",
      "1500/1500 [==============================] - 1s 713us/step - loss: 0.0361 - accuracy: 0.9898\n",
      "Epoch 48/100\n",
      "1500/1500 [==============================] - 1s 726us/step - loss: 0.0346 - accuracy: 0.9905\n",
      "Epoch 49/100\n",
      "1500/1500 [==============================] - 1s 724us/step - loss: 0.0329 - accuracy: 0.9909\n",
      "Epoch 50/100\n",
      "1500/1500 [==============================] - 1s 727us/step - loss: 0.0323 - accuracy: 0.9905\n",
      "Epoch 51/100\n",
      "1500/1500 [==============================] - 1s 703us/step - loss: 0.0301 - accuracy: 0.9914\n",
      "Epoch 52/100\n",
      "1500/1500 [==============================] - 1s 714us/step - loss: 0.0287 - accuracy: 0.9928\n",
      "Epoch 53/100\n",
      "1500/1500 [==============================] - 1s 711us/step - loss: 0.0279 - accuracy: 0.9924\n",
      "Epoch 54/100\n",
      "1500/1500 [==============================] - 1s 703us/step - loss: 0.0264 - accuracy: 0.9931\n",
      "Epoch 55/100\n",
      "1500/1500 [==============================] - 1s 716us/step - loss: 0.0251 - accuracy: 0.9935\n",
      "Epoch 56/100\n",
      "1500/1500 [==============================] - 1s 705us/step - loss: 0.0243 - accuracy: 0.9936\n",
      "Epoch 57/100\n",
      "1500/1500 [==============================] - 1s 726us/step - loss: 0.0232 - accuracy: 0.9941\n",
      "Epoch 58/100\n",
      "1500/1500 [==============================] - 1s 730us/step - loss: 0.0223 - accuracy: 0.9940\n",
      "Epoch 59/100\n",
      "1500/1500 [==============================] - 1s 709us/step - loss: 0.0209 - accuracy: 0.9944\n",
      "Epoch 60/100\n",
      "1500/1500 [==============================] - 1s 708us/step - loss: 0.0193 - accuracy: 0.9950\n",
      "Epoch 61/100\n",
      "1500/1500 [==============================] - 1s 711us/step - loss: 0.0185 - accuracy: 0.9952\n",
      "Epoch 62/100\n",
      "1500/1500 [==============================] - 1s 705us/step - loss: 0.0178 - accuracy: 0.9953\n",
      "Epoch 63/100\n",
      "1500/1500 [==============================] - 1s 712us/step - loss: 0.0171 - accuracy: 0.9956\n",
      "Epoch 64/100\n",
      "1500/1500 [==============================] - 1s 772us/step - loss: 0.0163 - accuracy: 0.9960\n",
      "Epoch 65/100\n",
      "1500/1500 [==============================] - 1s 737us/step - loss: 0.0156 - accuracy: 0.9962\n",
      "Epoch 66/100\n",
      "1500/1500 [==============================] - 1s 735us/step - loss: 0.0146 - accuracy: 0.9967\n",
      "Epoch 67/100\n",
      "1500/1500 [==============================] - 1s 715us/step - loss: 0.0139 - accuracy: 0.9965\n",
      "Epoch 68/100\n",
      "1500/1500 [==============================] - 1s 723us/step - loss: 0.0134 - accuracy: 0.9969\n",
      "Epoch 69/100\n",
      "1500/1500 [==============================] - 1s 731us/step - loss: 0.0128 - accuracy: 0.9970\n",
      "Epoch 70/100\n",
      "1500/1500 [==============================] - 1s 717us/step - loss: 0.0121 - accuracy: 0.9972\n",
      "Epoch 71/100\n",
      "1500/1500 [==============================] - 1s 736us/step - loss: 0.0116 - accuracy: 0.9971\n",
      "Epoch 72/100\n",
      "1500/1500 [==============================] - 1s 710us/step - loss: 0.0106 - accuracy: 0.9976\n",
      "Epoch 73/100\n",
      "1500/1500 [==============================] - 1s 697us/step - loss: 0.0102 - accuracy: 0.9976\n",
      "Epoch 74/100\n",
      "1500/1500 [==============================] - 1s 703us/step - loss: 0.0096 - accuracy: 0.9980\n",
      "Epoch 75/100\n",
      "1500/1500 [==============================] - 1s 719us/step - loss: 0.0087 - accuracy: 0.9981\n",
      "Epoch 76/100\n",
      "1500/1500 [==============================] - 1s 725us/step - loss: 0.0087 - accuracy: 0.9979\n",
      "Epoch 77/100\n",
      "1500/1500 [==============================] - 1s 712us/step - loss: 0.0084 - accuracy: 0.9981\n",
      "Epoch 78/100\n",
      "1500/1500 [==============================] - 1s 717us/step - loss: 0.0083 - accuracy: 0.9980\n",
      "Epoch 79/100\n",
      "1500/1500 [==============================] - 1s 729us/step - loss: 0.0077 - accuracy: 0.9982\n",
      "Epoch 80/100\n",
      "1500/1500 [==============================] - 1s 708us/step - loss: 0.0069 - accuracy: 0.9985\n",
      "Epoch 81/100\n",
      "1500/1500 [==============================] - 1s 729us/step - loss: 0.0067 - accuracy: 0.9985\n",
      "Epoch 82/100\n",
      "1500/1500 [==============================] - 1s 723us/step - loss: 0.0062 - accuracy: 0.9988\n",
      "Epoch 83/100\n",
      "1500/1500 [==============================] - 1s 710us/step - loss: 0.0065 - accuracy: 0.9986\n",
      "Epoch 84/100\n",
      "1500/1500 [==============================] - 1s 730us/step - loss: 0.0056 - accuracy: 0.9989\n",
      "Epoch 85/100\n",
      "1500/1500 [==============================] - 1s 711us/step - loss: 0.0048 - accuracy: 0.9990\n",
      "Epoch 86/100\n",
      "1500/1500 [==============================] - 1s 712us/step - loss: 0.0045 - accuracy: 0.9991\n",
      "Epoch 87/100\n",
      "1500/1500 [==============================] - 1s 720us/step - loss: 0.0044 - accuracy: 0.9991\n",
      "Epoch 88/100\n",
      "1500/1500 [==============================] - 1s 703us/step - loss: 0.0042 - accuracy: 0.9990\n",
      "Epoch 89/100\n",
      "1500/1500 [==============================] - 1s 804us/step - loss: 0.0038 - accuracy: 0.9992\n",
      "Epoch 90/100\n",
      "1500/1500 [==============================] - 1s 830us/step - loss: 0.0034 - accuracy: 0.9995\n",
      "Epoch 91/100\n",
      "1500/1500 [==============================] - 1s 718us/step - loss: 0.0030 - accuracy: 0.9994\n",
      "Epoch 92/100\n",
      "1500/1500 [==============================] - 1s 790us/step - loss: 0.0031 - accuracy: 0.9993\n",
      "Epoch 93/100\n",
      "1500/1500 [==============================] - 1s 732us/step - loss: 0.0026 - accuracy: 0.9996\n",
      "Epoch 94/100\n",
      "1500/1500 [==============================] - 1s 721us/step - loss: 0.0025 - accuracy: 0.9995\n",
      "Epoch 95/100\n",
      "1500/1500 [==============================] - 1s 802us/step - loss: 0.0021 - accuracy: 0.9996\n",
      "Epoch 96/100\n",
      "1500/1500 [==============================] - 1s 757us/step - loss: 0.0017 - accuracy: 0.9997\n",
      "Epoch 97/100\n",
      "1500/1500 [==============================] - 1s 749us/step - loss: 0.0018 - accuracy: 0.9997\n",
      "Epoch 98/100\n",
      "1500/1500 [==============================] - 1s 697us/step - loss: 0.0016 - accuracy: 0.9997\n",
      "Epoch 99/100\n",
      "1500/1500 [==============================] - 1s 686us/step - loss: 0.0016 - accuracy: 0.9998\n",
      "Epoch 100/100\n",
      "1500/1500 [==============================] - 1s 669us/step - loss: 0.0013 - accuracy: 0.9998\n"
     ]
    },
    {
     "data": {
      "text/plain": [
       "<keras.src.callbacks.History at 0x1ff10c33d50>"
      ]
     },
     "execution_count": 14,
     "metadata": {},
     "output_type": "execute_result"
    }
   ],
   "source": [
    "# 훈련\n",
    "model.fit(train_scaled, train_target, epochs=100)"
   ]
  },
  {
   "cell_type": "code",
   "execution_count": 15,
   "id": "015eab96",
   "metadata": {},
   "outputs": [
    {
     "name": "stdout",
     "output_type": "stream",
     "text": [
      "375/375 [==============================] - 0s 591us/step - loss: 0.8667 - accuracy: 0.8755\n"
     ]
    },
    {
     "data": {
      "text/plain": [
       "[0.866679847240448, 0.8755000233650208]"
      ]
     },
     "execution_count": 15,
     "metadata": {},
     "output_type": "execute_result"
    }
   ],
   "source": [
    "model.evaluate(val_scaled, val_target)\n",
    "# 검증 정확도 : 87.8%"
   ]
  },
  {
   "cell_type": "code",
   "execution_count": 16,
   "id": "da470e82",
   "metadata": {},
   "outputs": [
    {
     "name": "stdout",
     "output_type": "stream",
     "text": [
      "313/313 [==============================] - 0s 494us/step\n"
     ]
    }
   ],
   "source": [
    "pred_result = model.predict(test_scaled)"
   ]
  },
  {
   "cell_type": "code",
   "execution_count": 17,
   "id": "eed383cd",
   "metadata": {},
   "outputs": [],
   "source": [
    "import matplotlib.pyplot as plt\n",
    "import seaborn as sns\n",
    "import numpy as np"
   ]
  },
  {
   "cell_type": "code",
   "execution_count": 18,
   "id": "45f6613a",
   "metadata": {},
   "outputs": [],
   "source": [
    "# 한글로 Matplotlib 사용시 항상 필요\n",
    "from matplotlib import rcParams, font_manager, rc\n",
    "\n",
    "font_path = 'C:/Windows/Fonts/malgun.ttf'\n",
    "font = font_manager.FontProperties(fname=font_path).get_name()\n",
    "rc('font', family=font)\n",
    "rcParams['axes.unicode_minus'] = False\n",
    "\n",
    "sns.set_style('darkgrid')\n",
    "sns.set_theme(font='Malgun Gothic', rc={'axes.unicode_minus': False})"
   ]
  },
  {
   "cell_type": "code",
   "execution_count": 19,
   "id": "73311489",
   "metadata": {},
   "outputs": [],
   "source": [
    "class_names = ['티셔츠', '바지', '스웨터', '드레스', '코트', '샌달', '셔츠', '스니커즈', '가방', '앵클부츠']"
   ]
  },
  {
   "cell_type": "code",
   "execution_count": 20,
   "id": "b9a89c14",
   "metadata": {},
   "outputs": [],
   "source": [
    "# 테스트이미지와 예측결과 시각화\n",
    "def show_image(index):\n",
    "    plt.figure(figsize=(2,2))\n",
    "    plt.imshow(test_input[index].reshape(28, 28), cmap='gray_r')\n",
    "    true_label = class_names[test_target[index]]\n",
    "    pred_label = class_names[np.argmax(pred_result[index])]\n",
    "\n",
    "    #plt.title(f'실제: {true_label}, 예측: {pred_label}')\n",
    "    plt.text(0, -6, f'실제: {true_label}', fontsize=12, color='blue')\n",
    "    plt.text(0, -3, f'예측: {pred_label}', fontsize=12, color='red', fontweight='bold')\n",
    "\n",
    "    plt.axis('off')\n",
    "    plt.show()"
   ]
  },
  {
   "cell_type": "code",
   "execution_count": 21,
   "id": "361ad8d4",
   "metadata": {},
   "outputs": [
    {
     "data": {
      "image/png": "[encoded data removed]",
      "text/plain": [
       "<Figure size 200x200 with 1 Axes>"
      ]
     },
     "metadata": {},
     "output_type": "display_data"
    },
    {
     "data": {
      "image/png": "[encoded data removed]",
      "text/plain": [
       "<Figure size 200x200 with 1 Axes>"
      ]
     },
     "metadata": {},
     "output_type": "display_data"
    },
    {
     "data": {
      "image/png": "[encoded data removed]",
      "text/plain": [
       "<Figure size 200x200 with 1 Axes>"
      ]
     },
     "metadata": {},
     "output_type": "display_data"
    }
   ],
   "source": [
    "for i in range(10,13):\n",
    "    show_image(i)"
   ]
  },
  {
   "cell_type": "markdown",
   "id": "55acde42",
   "metadata": {},
   "source": [
    "#### 렐루 함수\n",
    "\n",
    "- 인공신경망 은닉층에 초기에는 Sigmoid 함수 사용\n",
    "    - 단점 : 오른쪽, 왼쪽 끝으로 갈 수록 그래프가 누워있어서 올바른 출력을 못만듬\n",
    "\n",
    "- 렐루함수(ReLU) : 수정된 선형유닛 뜻의 함수\n",
    "\n",
    "    <img src=\"../image/ml0011.png\" width=\"500\">"
   ]
  },
  {
   "cell_type": "markdown",
   "id": "694ff699",
   "metadata": {},
   "source": [
    "#### Flatten 객체\n",
    "- 이미지 2차원배열을 1차원으로 변경할때 np.reshape() 사용\n",
    "- Flatten 클래스가 위의 일을 대신해줌"
   ]
  },
  {
   "cell_type": "code",
   "execution_count": 22,
   "id": "cc97d57c",
   "metadata": {},
   "outputs": [],
   "source": [
    "model2 = keras.Sequential([\n",
    "    keras.layers.Flatten(input_shape=(28, 28), name='flatten'),\n",
    "    keras.layers.Dense(100, activation='relu', name='hidden'),\n",
    "    keras.layers.Dense(10, activation='softmax', name='output')\n",
    "], name='Fashion_MNIST_RELU')"
   ]
  },
  {
   "cell_type": "code",
   "execution_count": 23,
   "id": "5f6999cd",
   "metadata": {},
   "outputs": [
    {
     "name": "stdout",
     "output_type": "stream",
     "text": [
      "Model: \"Fashion_MNIST_RELU\"\n",
      "_________________________________________________________________\n",
      " Layer (type)                Output Shape              Param #   \n",
      "=================================================================\n",
      " flatten (Flatten)           (None, 784)               0         \n",
      "                                                                 \n",
      " hidden (Dense)              (None, 100)               78500     \n",
      "                                                                 \n",
      " output (Dense)              (None, 10)                1010      \n",
      "                                                                 \n",
      "=================================================================\n",
      "Total params: 79510 (310.59 KB)\n",
      "Trainable params: 79510 (310.59 KB)\n",
      "Non-trainable params: 0 (0.00 Byte)\n",
      "_________________________________________________________________\n"
     ]
    }
   ],
   "source": [
    "model2.summary()"
   ]
  },
  {
   "cell_type": "code",
   "execution_count": 24,
   "id": "932d55a2",
   "metadata": {},
   "outputs": [],
   "source": [
    "(train_input, train_target), (test_input, test_target) = keras.datasets.fashion_mnist.load_data()"
   ]
  },
  {
   "cell_type": "code",
   "execution_count": 25,
   "id": "ac0e7071",
   "metadata": {},
   "outputs": [],
   "source": [
    "train_scaled = train_input / 255.0\n",
    "test_scaled = test_input / 255.0"
   ]
  },
  {
   "cell_type": "code",
   "execution_count": 26,
   "id": "894bf51c",
   "metadata": {},
   "outputs": [],
   "source": [
    "# 훈련세트, 검증세트 분리\n",
    "train_scaled, val_scaled, train_target, val_target = train_test_split(\n",
    "    train_scaled, train_target, test_size=0.2, random_state=42\n",
    ")"
   ]
  },
  {
   "cell_type": "code",
   "execution_count": 27,
   "id": "4a65cf15",
   "metadata": {},
   "outputs": [],
   "source": [
    "# 모델 설정\n",
    "model2.compile(loss='sparse_categorical_crossentropy', metrics='accuracy')"
   ]
  },
  {
   "cell_type": "code",
   "execution_count": 28,
   "id": "212088a0",
   "metadata": {},
   "outputs": [
    {
     "name": "stdout",
     "output_type": "stream",
     "text": [
      "Epoch 1/20\n",
      "1500/1500 [==============================] - 1s 702us/step - loss: 0.5245 - accuracy: 0.8154\n",
      "Epoch 2/20\n",
      "1500/1500 [==============================] - 1s 700us/step - loss: 0.3946 - accuracy: 0.8582\n",
      "Epoch 3/20\n",
      "1500/1500 [==============================] - 1s 676us/step - loss: 0.3549 - accuracy: 0.8728\n",
      "Epoch 4/20\n",
      "1500/1500 [==============================] - 1s 709us/step - loss: 0.3306 - accuracy: 0.8808\n",
      "Epoch 5/20\n",
      "1500/1500 [==============================] - 1s 742us/step - loss: 0.3153 - accuracy: 0.8880\n",
      "Epoch 6/20\n",
      "1500/1500 [==============================] - 1s 690us/step - loss: 0.3034 - accuracy: 0.8904\n",
      "Epoch 7/20\n",
      "1500/1500 [==============================] - 1s 746us/step - loss: 0.2940 - accuracy: 0.8955\n",
      "Epoch 8/20\n",
      "1500/1500 [==============================] - 1s 735us/step - loss: 0.2838 - accuracy: 0.8990\n",
      "Epoch 9/20\n",
      "1500/1500 [==============================] - 1s 694us/step - loss: 0.2765 - accuracy: 0.9016\n",
      "Epoch 10/20\n",
      "1500/1500 [==============================] - 1s 720us/step - loss: 0.2703 - accuracy: 0.9036\n",
      "Epoch 11/20\n",
      "1500/1500 [==============================] - 1s 700us/step - loss: 0.2661 - accuracy: 0.9059\n",
      "Epoch 12/20\n",
      "1500/1500 [==============================] - 1s 673us/step - loss: 0.2565 - accuracy: 0.9092\n",
      "Epoch 13/20\n",
      "1500/1500 [==============================] - 1s 682us/step - loss: 0.2517 - accuracy: 0.9111\n",
      "Epoch 14/20\n",
      "1500/1500 [==============================] - 1s 716us/step - loss: 0.2477 - accuracy: 0.9133\n",
      "Epoch 15/20\n",
      "1500/1500 [==============================] - 1s 682us/step - loss: 0.2415 - accuracy: 0.9162\n",
      "Epoch 16/20\n",
      "1500/1500 [==============================] - 1s 679us/step - loss: 0.2385 - accuracy: 0.9172\n",
      "Epoch 17/20\n",
      "1500/1500 [==============================] - 1s 678us/step - loss: 0.2339 - accuracy: 0.9191\n",
      "Epoch 18/20\n",
      "1500/1500 [==============================] - 1s 661us/step - loss: 0.2278 - accuracy: 0.9210\n",
      "Epoch 19/20\n",
      "1500/1500 [==============================] - 1s 674us/step - loss: 0.2251 - accuracy: 0.9225\n",
      "Epoch 20/20\n",
      "1500/1500 [==============================] - 1s 680us/step - loss: 0.2203 - accuracy: 0.9242\n"
     ]
    },
    {
     "data": {
      "text/plain": [
       "<keras.src.callbacks.History at 0x1ff864ba810>"
      ]
     },
     "execution_count": 28,
     "metadata": {},
     "output_type": "execute_result"
    }
   ],
   "source": [
    "# 모델 훈련\n",
    "model2.fit(train_scaled, train_target, epochs=20)"
   ]
  },
  {
   "cell_type": "code",
   "execution_count": 29,
   "id": "b92a4cfa",
   "metadata": {},
   "outputs": [
    {
     "name": "stdout",
     "output_type": "stream",
     "text": [
      "375/375 [==============================] - 0s 534us/step - loss: 0.4198 - accuracy: 0.8842\n"
     ]
    },
    {
     "data": {
      "text/plain": [
       "[0.41984498500823975, 0.8842499852180481]"
      ]
     },
     "execution_count": 29,
     "metadata": {},
     "output_type": "execute_result"
    }
   ],
   "source": [
    "model2.evaluate(val_scaled, val_target)\n",
    "# ReLU함수 사용시, Sigmoid함수 사용시 0.01% 개선"
   ]
  },
  {
   "cell_type": "markdown",
   "id": "176e3d9e",
   "metadata": {},
   "source": [
    "#### 옵티마이저\n",
    "- 하이퍼파라미터 값 최적화"
   ]
  },
  {
   "cell_type": "code",
   "execution_count": 30,
   "id": "ccbd4661",
   "metadata": {},
   "outputs": [],
   "source": [
    "model3 = keras.Sequential([\n",
    "    keras.layers.Flatten(input_shape=(28, 28), name='flatten'),\n",
    "    keras.layers.Dense(100, activation='relu', name='hidden'),\n",
    "    keras.layers.Dense(10, activation='softmax', name='output')\n",
    "], name='Fashion_MNIST_RELU')"
   ]
  },
  {
   "cell_type": "code",
   "execution_count": 31,
   "id": "f0159844",
   "metadata": {},
   "outputs": [],
   "source": [
    "# 모델3 설정, 최적화는 adam클래스만 사용할 것\n",
    "model3.compile(loss='sparse_categorical_crossentropy', metrics='accuracy', optimizer='adam')"
   ]
  },
  {
   "cell_type": "code",
   "execution_count": 32,
   "id": "bc9d74fc",
   "metadata": {},
   "outputs": [
    {
     "name": "stdout",
     "output_type": "stream",
     "text": [
      "Epoch 1/20\n",
      "1500/1500 [==============================] - 1s 778us/step - loss: 0.5261 - accuracy: 0.8157\n",
      "Epoch 2/20\n",
      "1500/1500 [==============================] - 1s 764us/step - loss: 0.3972 - accuracy: 0.8578\n",
      "Epoch 3/20\n",
      "1500/1500 [==============================] - 1s 722us/step - loss: 0.3554 - accuracy: 0.8718\n",
      "Epoch 4/20\n",
      "1500/1500 [==============================] - 1s 730us/step - loss: 0.3261 - accuracy: 0.8813\n",
      "Epoch 5/20\n",
      "1500/1500 [==============================] - 1s 727us/step - loss: 0.3066 - accuracy: 0.8851\n",
      "Epoch 6/20\n",
      "1500/1500 [==============================] - 1s 726us/step - loss: 0.2899 - accuracy: 0.8934\n",
      "Epoch 7/20\n",
      "1500/1500 [==============================] - 1s 723us/step - loss: 0.2771 - accuracy: 0.8972\n",
      "Epoch 8/20\n",
      "1500/1500 [==============================] - 1s 737us/step - loss: 0.2656 - accuracy: 0.9010\n",
      "Epoch 9/20\n",
      "1500/1500 [==============================] - 1s 722us/step - loss: 0.2558 - accuracy: 0.9054\n",
      "Epoch 10/20\n",
      "1500/1500 [==============================] - 1s 722us/step - loss: 0.2472 - accuracy: 0.9080\n",
      "Epoch 11/20\n",
      "1500/1500 [==============================] - 1s 752us/step - loss: 0.2399 - accuracy: 0.9109\n",
      "Epoch 12/20\n",
      "1500/1500 [==============================] - 1s 718us/step - loss: 0.2298 - accuracy: 0.9147\n",
      "Epoch 13/20\n",
      "1500/1500 [==============================] - 1s 723us/step - loss: 0.2278 - accuracy: 0.9148\n",
      "Epoch 14/20\n",
      "1500/1500 [==============================] - 1s 747us/step - loss: 0.2191 - accuracy: 0.9176\n",
      "Epoch 15/20\n",
      "1500/1500 [==============================] - 1s 733us/step - loss: 0.2122 - accuracy: 0.9210\n",
      "Epoch 16/20\n",
      "1500/1500 [==============================] - 1s 742us/step - loss: 0.2070 - accuracy: 0.9218\n",
      "Epoch 17/20\n",
      "1500/1500 [==============================] - 1s 759us/step - loss: 0.2023 - accuracy: 0.9246\n",
      "Epoch 18/20\n",
      "1500/1500 [==============================] - 1s 743us/step - loss: 0.1983 - accuracy: 0.9260\n",
      "Epoch 19/20\n",
      "1500/1500 [==============================] - 1s 739us/step - loss: 0.1920 - accuracy: 0.9274\n",
      "Epoch 20/20\n",
      "1500/1500 [==============================] - 1s 749us/step - loss: 0.1856 - accuracy: 0.9295\n"
     ]
    },
    {
     "data": {
      "text/plain": [
       "<keras.src.callbacks.History at 0x1ffa6c73090>"
      ]
     },
     "execution_count": 32,
     "metadata": {},
     "output_type": "execute_result"
    }
   ],
   "source": [
    "# 모델 훈련. 모델훈련은 정보를 저장하기 때문에 다시 수행하면 이전 정보를 담고 시작\n",
    "model3.fit(train_scaled, train_target, epochs=20)"
   ]
  },
  {
   "cell_type": "markdown",
   "id": "b9b39476",
   "metadata": {},
   "source": [
    "- optimizer 사용시 0.01정도 개선"
   ]
  },
  {
   "cell_type": "code",
   "execution_count": 33,
   "id": "c0a5b0b2",
   "metadata": {},
   "outputs": [
    {
     "name": "stdout",
     "output_type": "stream",
     "text": [
      "375/375 [==============================] - 0s 569us/step - loss: 0.3509 - accuracy: 0.8846\n"
     ]
    },
    {
     "data": {
      "text/plain": [
       "[0.35086390376091003, 0.8845833539962769]"
      ]
     },
     "execution_count": 33,
     "metadata": {},
     "output_type": "execute_result"
    }
   ],
   "source": [
    "model3.evaluate(val_scaled, val_target)\n",
    "# 훈련 95%, 검증 88% - 7정도 차이"
   ]
  },
  {
   "cell_type": "markdown",
   "id": "6b0e1809",
   "metadata": {},
   "source": [
    "#### 드롭아웃\n",
    "- 훈련과정 밀집층에 일부 뉴런을 꺼버림. "
   ]
  },
  {
   "cell_type": "code",
   "execution_count": 34,
   "id": "51c792d7",
   "metadata": {},
   "outputs": [],
   "source": [
    "model4 = keras.Sequential([\n",
    "    keras.layers.Flatten(input_shape=(28, 28), name='flatten'),\n",
    "    keras.layers.Dense(100, activation='relu', name='hidden'),\n",
    "    keras.layers.Dropout(0.3, name='dropout'), \n",
    "    keras.layers.Dense(10, activation='softmax', name='output')\n",
    "], name='Fashion_MNIST_RELU')"
   ]
  },
  {
   "cell_type": "code",
   "execution_count": 35,
   "id": "9b3f779a",
   "metadata": {},
   "outputs": [
    {
     "name": "stdout",
     "output_type": "stream",
     "text": [
      "Model: \"Fashion_MNIST_RELU\"\n",
      "_________________________________________________________________\n",
      " Layer (type)                Output Shape              Param #   \n",
      "=================================================================\n",
      " flatten (Flatten)           (None, 784)               0         \n",
      "                                                                 \n",
      " hidden (Dense)              (None, 100)               78500     \n",
      "                                                                 \n",
      " dropout (Dropout)           (None, 100)               0         \n",
      "                                                                 \n",
      " output (Dense)              (None, 10)                1010      \n",
      "                                                                 \n",
      "=================================================================\n",
      "Total params: 79510 (310.59 KB)\n",
      "Trainable params: 79510 (310.59 KB)\n",
      "Non-trainable params: 0 (0.00 Byte)\n",
      "_________________________________________________________________\n"
     ]
    }
   ],
   "source": [
    "model4.summary()"
   ]
  },
  {
   "cell_type": "code",
   "execution_count": 36,
   "id": "8a2f4a51",
   "metadata": {},
   "outputs": [],
   "source": [
    "# 모델4 설정, 최적화는 adam클래스만 사용할 것\n",
    "model4.compile(loss='sparse_categorical_crossentropy', metrics='accuracy', optimizer='adam')"
   ]
  },
  {
   "cell_type": "code",
   "execution_count": 37,
   "id": "1311d72d",
   "metadata": {},
   "outputs": [
    {
     "name": "stdout",
     "output_type": "stream",
     "text": [
      "Epoch 1/20\n",
      "1500/1500 [==============================] - 1s 775us/step - loss: 0.5873 - accuracy: 0.7936\n",
      "Epoch 2/20\n",
      "1500/1500 [==============================] - 1s 782us/step - loss: 0.4370 - accuracy: 0.8428\n",
      "Epoch 3/20\n",
      "1500/1500 [==============================] - 1s 754us/step - loss: 0.4037 - accuracy: 0.8524\n",
      "Epoch 4/20\n",
      "1500/1500 [==============================] - 1s 771us/step - loss: 0.3824 - accuracy: 0.8606\n",
      "Epoch 5/20\n",
      "1500/1500 [==============================] - 1s 773us/step - loss: 0.3665 - accuracy: 0.8662\n",
      "Epoch 6/20\n",
      "1500/1500 [==============================] - 1s 762us/step - loss: 0.3550 - accuracy: 0.8707\n",
      "Epoch 7/20\n",
      "1500/1500 [==============================] - 1s 776us/step - loss: 0.3444 - accuracy: 0.8739\n",
      "Epoch 8/20\n",
      "1500/1500 [==============================] - 1s 756us/step - loss: 0.3350 - accuracy: 0.8765\n",
      "Epoch 9/20\n",
      "1500/1500 [==============================] - 1s 763us/step - loss: 0.3265 - accuracy: 0.8797\n",
      "Epoch 10/20\n",
      "1500/1500 [==============================] - 1s 769us/step - loss: 0.3218 - accuracy: 0.8804\n",
      "Epoch 11/20\n",
      "1500/1500 [==============================] - 1s 752us/step - loss: 0.3165 - accuracy: 0.8834\n",
      "Epoch 12/20\n",
      "1500/1500 [==============================] - 1s 752us/step - loss: 0.3140 - accuracy: 0.8845\n",
      "Epoch 13/20\n",
      "1500/1500 [==============================] - 1s 751us/step - loss: 0.3029 - accuracy: 0.8889\n",
      "Epoch 14/20\n",
      "1500/1500 [==============================] - 1s 746us/step - loss: 0.2967 - accuracy: 0.8881\n",
      "Epoch 15/20\n",
      "1500/1500 [==============================] - 1s 741us/step - loss: 0.2953 - accuracy: 0.8903\n",
      "Epoch 16/20\n",
      "1500/1500 [==============================] - 1s 745us/step - loss: 0.2909 - accuracy: 0.8909\n",
      "Epoch 17/20\n",
      "1500/1500 [==============================] - 1s 762us/step - loss: 0.2875 - accuracy: 0.8915\n",
      "Epoch 18/20\n",
      "1500/1500 [==============================] - 1s 773us/step - loss: 0.2826 - accuracy: 0.8929\n",
      "Epoch 19/20\n",
      "1500/1500 [==============================] - 1s 748us/step - loss: 0.2786 - accuracy: 0.8960\n",
      "Epoch 20/20\n",
      "1500/1500 [==============================] - 1s 746us/step - loss: 0.2770 - accuracy: 0.8947\n"
     ]
    },
    {
     "data": {
      "text/plain": [
       "<keras.src.callbacks.History at 0x1ff8658ac10>"
      ]
     },
     "execution_count": 37,
     "metadata": {},
     "output_type": "execute_result"
    }
   ],
   "source": [
    "# 모델 훈련. 모델훈련은 정보를 저장하기 때문에 다시 수행하면 이전 정보를 담고 시작\n",
    "model4.fit(train_scaled, train_target, epochs=20)"
   ]
  },
  {
   "cell_type": "code",
   "execution_count": 38,
   "id": "1c2d81c8",
   "metadata": {},
   "outputs": [
    {
     "name": "stdout",
     "output_type": "stream",
     "text": [
      "375/375 [==============================] - 0s 540us/step - loss: 0.3101 - accuracy: 0.8891\n"
     ]
    },
    {
     "data": {
      "text/plain": [
       "[0.3101227879524231, 0.8890833258628845]"
      ]
     },
     "execution_count": 38,
     "metadata": {},
     "output_type": "execute_result"
    }
   ],
   "source": [
    "model4.evaluate(val_scaled, val_target)\n",
    "# 훈련 89%, 검증 88% - 1차이(훈련과 검증사이에 차이가 거의 없음)"
   ]
  },
  {
   "cell_type": "markdown",
   "id": "c3731f18",
   "metadata": {},
   "source": [
    "- 드롭아웃하면 정확도가 떨어짐 > 훈련과 검증(테스트)사이에 정확도 차이가 줄어듬\n",
    "- `과대적합`(훈련세트 훈련에 너무 치중하여서 정확도가 너무 높은 것) 방지"
   ]
  },
  {
   "cell_type": "markdown",
   "id": "6c262961",
   "metadata": {},
   "source": [
    "#### 모델의 저장과 복원\n",
    "- 훈련시간이 딥러닝에 크게 좌우됨. 저장이 없으면 다시 훈련시키고 시간을 소요해야 됨\n",
    "- 파일로 저장 후 모델에 대한 구조와 파라미터 만 저장하는 두가지 방법이 존재"
   ]
  },
  {
   "cell_type": "code",
   "execution_count": 39,
   "id": "f72ae5c2",
   "metadata": {},
   "outputs": [],
   "source": [
    "# 모델4 저장 - 파라미터만 저장\n",
    "model4.save_weights('./model4-weight.h5')"
   ]
  },
  {
   "cell_type": "code",
   "execution_count": 40,
   "id": "23620fba",
   "metadata": {},
   "outputs": [
    {
     "name": "stderr",
     "output_type": "stream",
     "text": [
      "c:\\IOT_STUDY\\GitHub\\iot-dataanalysis-2025\\mlvenv\\Lib\\site-packages\\keras\\src\\engine\\training.py:3103: UserWarning: You are saving your model as an HDF5 file via `model.save()`. This file format is considered legacy. We recommend using instead the native Keras format, e.g. `model.save('my_model.keras')`.\n",
      "  saving_api.save_model(\n"
     ]
    }
   ],
   "source": [
    "# 모델4 저장 - 전체(모델 구조와 파라미터) 저장\n",
    "model4.save('./model4-whole.h5')"
   ]
  },
  {
   "cell_type": "markdown",
   "id": "915a2b61",
   "metadata": {},
   "source": [
    "##### 모델 사용\n",
    "- 파라미터만 저장한 파일을 사용하려면, 먼저 모델을 생성해야 \n"
   ]
  },
  {
   "cell_type": "code",
   "execution_count": 41,
   "id": "18810562",
   "metadata": {},
   "outputs": [],
   "source": [
    "model5 = keras.Sequential([\n",
    "    keras.layers.Flatten(input_shape=(28, 28), name='flatten5'),\n",
    "    keras.layers.Dense(100, activation='relu', name='hidden5'),\n",
    "    keras.layers.Dropout(0.3, name='dropout5'), \n",
    "    keras.layers.Dense(10, activation='softmax', name='output5')\n",
    "], name='Fashion_MNIST_RELU5')"
   ]
  },
  {
   "cell_type": "code",
   "execution_count": 42,
   "id": "8d5b158b",
   "metadata": {},
   "outputs": [],
   "source": [
    "model5.load_weights('./model4-weight.h5')"
   ]
  },
  {
   "cell_type": "code",
   "execution_count": 43,
   "id": "51d20607",
   "metadata": {},
   "outputs": [
    {
     "name": "stdout",
     "output_type": "stream",
     "text": [
      "Model: \"Fashion_MNIST_RELU5\"\n",
      "_________________________________________________________________\n",
      " Layer (type)                Output Shape              Param #   \n",
      "=================================================================\n",
      " flatten5 (Flatten)          (None, 784)               0         \n",
      "                                                                 \n",
      " hidden5 (Dense)             (None, 100)               78500     \n",
      "                                                                 \n",
      " dropout5 (Dropout)          (None, 100)               0         \n",
      "                                                                 \n",
      " output5 (Dense)             (None, 10)                1010      \n",
      "                                                                 \n",
      "=================================================================\n",
      "Total params: 79510 (310.59 KB)\n",
      "Trainable params: 79510 (310.59 KB)\n",
      "Non-trainable params: 0 (0.00 Byte)\n",
      "_________________________________________________________________\n"
     ]
    }
   ],
   "source": [
    "model5.summary()"
   ]
  },
  {
   "cell_type": "code",
   "execution_count": 44,
   "id": "aeec28a8",
   "metadata": {},
   "outputs": [
    {
     "name": "stdout",
     "output_type": "stream",
     "text": [
      "313/313 [==============================] - 0s 632us/step\n"
     ]
    }
   ],
   "source": [
    "pred_result = model5.predict(test_scaled)"
   ]
  },
  {
   "cell_type": "markdown",
   "id": "bc3118d3",
   "metadata": {},
   "source": [
    "- 모델까지 전부 생성해주는 방법"
   ]
  },
  {
   "cell_type": "code",
   "execution_count": 45,
   "id": "5e73125a",
   "metadata": {},
   "outputs": [],
   "source": [
    "model6 = keras.models.load_model('./model4-whole.h5')"
   ]
  },
  {
   "cell_type": "code",
   "execution_count": 46,
   "id": "fa8cc6cf",
   "metadata": {},
   "outputs": [
    {
     "name": "stdout",
     "output_type": "stream",
     "text": [
      "Model: \"Fashion_MNIST_RELU\"\n",
      "_________________________________________________________________\n",
      " Layer (type)                Output Shape              Param #   \n",
      "=================================================================\n",
      " flatten (Flatten)           (None, 784)               0         \n",
      "                                                                 \n",
      " hidden (Dense)              (None, 100)               78500     \n",
      "                                                                 \n",
      " dropout (Dropout)           (None, 100)               0         \n",
      "                                                                 \n",
      " output (Dense)              (None, 10)                1010      \n",
      "                                                                 \n",
      "=================================================================\n",
      "Total params: 79510 (310.59 KB)\n",
      "Trainable params: 79510 (310.59 KB)\n",
      "Non-trainable params: 0 (0.00 Byte)\n",
      "_________________________________________________________________\n"
     ]
    }
   ],
   "source": [
    "model6.summary()"
   ]
  },
  {
   "cell_type": "code",
   "execution_count": 47,
   "id": "932842eb",
   "metadata": {},
   "outputs": [
    {
     "name": "stdout",
     "output_type": "stream",
     "text": [
      "313/313 [==============================] - 0s 562us/step - loss: 0.3417 - accuracy: 0.8815\n"
     ]
    },
    {
     "data": {
      "text/plain": [
       "[0.34169480204582214, 0.8815000057220459]"
      ]
     },
     "execution_count": 47,
     "metadata": {},
     "output_type": "execute_result"
    }
   ],
   "source": [
    "model6.evaluate(test_scaled, test_target)"
   ]
  },
  {
   "cell_type": "markdown",
   "id": "63f319f5",
   "metadata": {},
   "source": [
    "#### 콜백\n",
    "- 실행도중 다른 일을 할 수 있도록 해주는 기능\n",
    "- `조기종료`를 위해서 사용."
   ]
  },
  {
   "cell_type": "code",
   "execution_count": 48,
   "id": "ecd459b6",
   "metadata": {},
   "outputs": [],
   "source": [
    "model7 = keras.Sequential([\n",
    "    keras.layers.Flatten(input_shape=(28, 28), name='flatten'),\n",
    "    keras.layers.Dense(100, activation='relu', name='hidden'),\n",
    "    keras.layers.Dropout(0.3, name='dropout'), \n",
    "    keras.layers.Dense(10, activation='softmax', name='output')\n",
    "], name='Fashion_MNIST_RELU7')"
   ]
  },
  {
   "cell_type": "code",
   "execution_count": 49,
   "id": "2a5454d4",
   "metadata": {},
   "outputs": [],
   "source": [
    "model7.compile(loss='sparse_categorical_crossentropy', metrics='accuracy', optimizer='adam')"
   ]
  },
  {
   "cell_type": "code",
   "execution_count": 50,
   "id": "210c98ef",
   "metadata": {},
   "outputs": [],
   "source": [
    "# 에포크마다 모델 저장기능 콜백\n",
    "checkpoint_cb = keras.callbacks.ModelCheckpoint('./best-model.h5', save_best_only=True) # 최고 상태면 저장\n",
    "# 조기종료 콜백\n",
    "## 두번이상 훈련값이 동일하면 조기종료, 이전 최고상태로 복구\n",
    "early_stopp_cb = keras.callbacks.EarlyStopping(patience=2, restore_best_weights=True)"
   ]
  },
  {
   "cell_type": "code",
   "execution_count": 51,
   "id": "b16f8a3d",
   "metadata": {},
   "outputs": [
    {
     "name": "stdout",
     "output_type": "stream",
     "text": [
      "Epoch 1/20\n",
      "1500/1500 [==============================] - 2s 979us/step - loss: 0.5876 - accuracy: 0.7911 - val_loss: 0.4224 - val_accuracy: 0.8473\n",
      "Epoch 2/20\n",
      "1500/1500 [==============================] - 1s 911us/step - loss: 0.4378 - accuracy: 0.8422 - val_loss: 0.3857 - val_accuracy: 0.8596\n",
      "Epoch 3/20\n",
      "1500/1500 [==============================] - 1s 888us/step - loss: 0.4042 - accuracy: 0.8522 - val_loss: 0.3633 - val_accuracy: 0.8659\n",
      "Epoch 4/20\n",
      "1500/1500 [==============================] - 1s 915us/step - loss: 0.3811 - accuracy: 0.8613 - val_loss: 0.3626 - val_accuracy: 0.8677\n",
      "Epoch 5/20\n",
      "1500/1500 [==============================] - 1s 903us/step - loss: 0.3621 - accuracy: 0.8668 - val_loss: 0.3385 - val_accuracy: 0.8753\n",
      "Epoch 6/20\n",
      "1500/1500 [==============================] - 1s 933us/step - loss: 0.3511 - accuracy: 0.8708 - val_loss: 0.3540 - val_accuracy: 0.8692\n",
      "Epoch 7/20\n",
      "1500/1500 [==============================] - 1s 900us/step - loss: 0.3388 - accuracy: 0.8746 - val_loss: 0.3396 - val_accuracy: 0.8763\n"
     ]
    },
    {
     "data": {
      "text/plain": [
       "<keras.src.callbacks.History at 0x1ffb1815150>"
      ]
     },
     "execution_count": 51,
     "metadata": {},
     "output_type": "execute_result"
    }
   ],
   "source": [
    "# 모델 훈련. 모델훈련은 정보를 저장하기 때문에 다시 수행하면 이전 정보를 담고 시작\n",
    "model7.fit(train_scaled, train_target, epochs=20, validation_data=(val_scaled, val_target),\n",
    "           callbacks=[checkpoint_cb, early_stopp_cb])"
   ]
  },
  {
   "cell_type": "code",
   "execution_count": 52,
   "id": "893f2bc1",
   "metadata": {},
   "outputs": [
    {
     "name": "stdout",
     "output_type": "stream",
     "text": [
      "375/375 [==============================] - 0s 535us/step - loss: 0.3385 - accuracy: 0.8753\n"
     ]
    },
    {
     "data": {
      "text/plain": [
       "[0.33854788541793823, 0.875333309173584]"
      ]
     },
     "execution_count": 52,
     "metadata": {},
     "output_type": "execute_result"
    }
   ],
   "source": [
    "model7.evaluate(val_scaled, val_target)"
   ]
  },
  {
   "cell_type": "code",
   "execution_count": 53,
   "id": "6c1fe840",
   "metadata": {},
   "outputs": [
    {
     "name": "stdout",
     "output_type": "stream",
     "text": [
      "313/313 [==============================] - 0s 558us/step - loss: 0.3674 - accuracy: 0.8700\n"
     ]
    },
    {
     "data": {
      "text/plain": [
       "[0.3674261271953583, 0.8700000047683716]"
      ]
     },
     "execution_count": 53,
     "metadata": {},
     "output_type": "execute_result"
    }
   ],
   "source": [
    "model7.evaluate(test_scaled, test_target)"
   ]
  },
  {
   "cell_type": "code",
   "execution_count": 54,
   "id": "80fabebb",
   "metadata": {},
   "outputs": [
    {
     "data": {
      "text/plain": [
       "6"
      ]
     },
     "execution_count": 54,
     "metadata": {},
     "output_type": "execute_result"
    }
   ],
   "source": [
    "early_stopp_cb.stopped_epoch"
   ]
  },
  {
   "cell_type": "markdown",
   "id": "61488fe7",
   "metadata": {},
   "source": [
    "- 20번중 15번반복에서 조기종료"
   ]
  },
  {
   "cell_type": "markdown",
   "id": "33d0890f",
   "metadata": {},
   "source": [
    "#### 결론\n",
    "- `심층 신경망` : 2개 이상의 밀집층을 포함한 신경망 모델. 다층 인공신경망\n",
    "- `렐루함수` : 시그모이드 함수의 단점을 보완한 활성화 함수\n",
    "- `옵티마이저` : 신경망의 가중치(기울기)와 절편을 학습하기 위한 알고리즘 또는 방법. `Adam`, SGD(확률적 경사하강법), RMSprop...\n",
    "\n",
    "- `드롭아웃` : 밀집층의 뉴런을 임의로 꺼서 훈련을 덜 시키는 것. 과대적합 막기위해서 수행\n",
    "- 모델 저장과 복원 : 이미 훈련된 데이터를 저장했다가 나중에 다시 쓰기 위해서 \n",
    "- `콜백` : 에포크마다 모델 저장 또는 조기종료 를 위해서 훈련 도중에 다른 기능을 수행하는 것"
   ]
  }
 ],
 "metadata": {
  "kernelspec": {
   "display_name": "mlvenv",
   "language": "python",
   "name": "python3"
  },
  "language_info": {
   "codemirror_mode": {
    "name": "ipython",
    "version": 3
   },
   "file_extension": ".py",
   "mimetype": "text/x-python",
   "name": "python",
   "nbconvert_exporter": "python",
   "pygments_lexer": "ipython3",
   "version": "3.11.9"
  }
 },
 "nbformat": 4,
 "nbformat_minor": 5
}
