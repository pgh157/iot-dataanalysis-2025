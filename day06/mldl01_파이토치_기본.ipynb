{
 "cells": [
  {
   "cell_type": "markdown",
   "id": "425e87ee",
   "metadata": {},
   "source": [
    "## 파이토치 기본\n",
    "\n",
    "### 파이토치 공식 튜토리얼\n",
    "- https://tutorials.pytorch.kr/\n",
    "\n",
    "### 파이토치 패키지(API)\n",
    "- `torch` : 메인 네임스페이스. 텐서(기본단위) 등 수학함수 포함. Numpy와 유사한 구조\n",
    "- `torch.autograd` : 자동 미분을 위한 함수들 포함. 컨텍스트 매니저, 기반클래스 포함\n",
    "- `torch.nn` / `torch.nn.functional` : neuralnetwork. 신경망 구축위한 데이터 구조, 레이어등이 정의되어 있는 모듈. ReLU 등도 포함\n",
    "- `torch.optim` : SGD(확률적 경사 하강법) 중심 파라미터 최적화 알고리즘 포함\n",
    "- `torch.utills` : SGD 반복 연산 시 배치용 유틸리티 함수 포함\n",
    "- torch.multiprocessing : 파이토치용 병렬프로세싱 환경을 안전하게 다루기 위한 모듈"
   ]
  },
  {
   "cell_type": "markdown",
   "id": "03a644e4",
   "metadata": {},
   "source": [
    "### 텐서\n",
    "- 파이토치 기본단위\n",
    "    - 1차원 배열 - 벡터\n",
    "    - 2차원 배열 - 행렬(매트릭스)\n",
    "    - 3차원 배열 - 텐서\n",
    "\n",
    "- <img src ='../image/ml0018.png' width = '600'>\n",
    "\n",
    "- <img src ='../image/ml0019.png' width = '600'>"
   ]
  },
  {
   "cell_type": "code",
   "execution_count": 1,
   "id": "4cafbe27",
   "metadata": {},
   "outputs": [],
   "source": [
    "import torch\n",
    "import numpy as np "
   ]
  },
  {
   "cell_type": "code",
   "execution_count": 2,
   "id": "b5641c2b",
   "metadata": {},
   "outputs": [
    {
     "data": {
      "text/plain": [
       "tensor([1., 2., 3.])"
      ]
     },
     "execution_count": 2,
     "metadata": {},
     "output_type": "execute_result"
    }
   ],
   "source": [
    "t1 = torch.tensor([1.0, 2.0, 3.0])\n",
    "t1"
   ]
  },
  {
   "cell_type": "code",
   "execution_count": 3,
   "id": "951c45fd",
   "metadata": {},
   "outputs": [
    {
     "name": "stdout",
     "output_type": "stream",
     "text": [
      "torch.Size([3]) torch.float32 torch.FloatTensor cpu\n"
     ]
    }
   ],
   "source": [
    "# 텐서의 크기, 텐서자료형, 자료형 + 전체타입, 어느 디바이스에서 사용중\n",
    "print(t1.shape, t1.dtype, t1.type(), t1.device)"
   ]
  },
  {
   "cell_type": "code",
   "execution_count": 4,
   "id": "b3b4381b",
   "metadata": {},
   "outputs": [
    {
     "data": {
      "text/plain": [
       "array([1., 2., 3.])"
      ]
     },
     "execution_count": 4,
     "metadata": {},
     "output_type": "execute_result"
    }
   ],
   "source": [
    "n1 = np.array([1.0, 2.0, 3.0])\n",
    "n1"
   ]
  },
  {
   "cell_type": "code",
   "execution_count": 5,
   "id": "ea3831a4",
   "metadata": {},
   "outputs": [
    {
     "name": "stdout",
     "output_type": "stream",
     "text": [
      "(3,) float64\n"
     ]
    }
   ],
   "source": [
    "print(n1.shape, n1.dtype)"
   ]
  },
  {
   "cell_type": "code",
   "execution_count": 6,
   "id": "9feb8bcd",
   "metadata": {},
   "outputs": [
    {
     "data": {
      "text/plain": [
       "array([[1., 1., 1.],\n",
       "       [1., 1., 1.]])"
      ]
     },
     "execution_count": 6,
     "metadata": {},
     "output_type": "execute_result"
    }
   ],
   "source": [
    "## numpy에서 1, 0 으로 초기화 되는 \n",
    "n2 = np.ones([2, 3])\n",
    "n2"
   ]
  },
  {
   "cell_type": "code",
   "execution_count": 7,
   "id": "7a418ca5",
   "metadata": {},
   "outputs": [
    {
     "data": {
      "text/plain": [
       "array([[0., 0., 0.],\n",
       "       [0., 0., 0.]])"
      ]
     },
     "execution_count": 7,
     "metadata": {},
     "output_type": "execute_result"
    }
   ],
   "source": [
    "n3 = np.zeros([2, 3])\n",
    "n3"
   ]
  },
  {
   "cell_type": "code",
   "execution_count": 8,
   "id": "4b33e40b",
   "metadata": {},
   "outputs": [
    {
     "data": {
      "text/plain": [
       "tensor([[1., 1., 1.],\n",
       "        [1., 1., 1.]])"
      ]
     },
     "execution_count": 8,
     "metadata": {},
     "output_type": "execute_result"
    }
   ],
   "source": [
    "t2 = torch.ones(2,3)\n",
    "t2"
   ]
  },
  {
   "cell_type": "code",
   "execution_count": 9,
   "id": "fc200484",
   "metadata": {},
   "outputs": [
    {
     "name": "stdout",
     "output_type": "stream",
     "text": [
      "torch.Size([2, 3]) torch.float32 torch.FloatTensor cpu\n"
     ]
    }
   ],
   "source": [
    "print(t2.shape, t2.dtype, t2.type(), t2.device)"
   ]
  },
  {
   "cell_type": "code",
   "execution_count": 10,
   "id": "ada07850",
   "metadata": {},
   "outputs": [
    {
     "data": {
      "text/plain": [
       "tensor([[0., 0., 0.],\n",
       "        [0., 0., 0.]])"
      ]
     },
     "execution_count": 10,
     "metadata": {},
     "output_type": "execute_result"
    }
   ],
   "source": [
    "t3 = torch.zeros(2,3)\n",
    "t3"
   ]
  },
  {
   "cell_type": "code",
   "execution_count": 11,
   "id": "8bded8e2",
   "metadata": {},
   "outputs": [
    {
     "data": {
      "text/plain": [
       "tensor([[0., 0., 0.],\n",
       "        [0., 0., 0.]], dtype=torch.float64)"
      ]
     },
     "execution_count": 11,
     "metadata": {},
     "output_type": "execute_result"
    }
   ],
   "source": [
    "# numpy로 만든 배열을 텐서로 변환\n",
    "t4 = torch.from_numpy(n3)\n",
    "t4"
   ]
  },
  {
   "cell_type": "markdown",
   "id": "cd64e52f",
   "metadata": {},
   "source": [
    "- 넘파이와 파이토치 텐서간의 형변환 아주 쉽다"
   ]
  },
  {
   "cell_type": "code",
   "execution_count": 12,
   "id": "a6db9f43",
   "metadata": {},
   "outputs": [
    {
     "data": {
      "text/plain": [
       "tensor([[[1., 1., 1.],\n",
       "         [1., 1., 1.],\n",
       "         [1., 1., 1.]],\n",
       "\n",
       "        [[1., 1., 1.],\n",
       "         [1., 1., 1.],\n",
       "         [1., 1., 1.]],\n",
       "\n",
       "        [[1., 1., 1.],\n",
       "         [1., 1., 1.],\n",
       "         [1., 1., 1.]]])"
      ]
     },
     "execution_count": 12,
     "metadata": {},
     "output_type": "execute_result"
    }
   ],
   "source": [
    "t5 = torch.ones(3,3,3)\n",
    "t5"
   ]
  },
  {
   "cell_type": "code",
   "execution_count": 13,
   "id": "4e6e8718",
   "metadata": {},
   "outputs": [
    {
     "name": "stdout",
     "output_type": "stream",
     "text": [
      "torch.Size([3, 3, 3]) torch.float32 torch.FloatTensor cpu\n",
      "torch.Size([3, 3, 3])\n"
     ]
    }
   ],
   "source": [
    "print(t5.shape, t5.dtype, t5.type(), t5.device)\n",
    "print(t5.size())"
   ]
  },
  {
   "cell_type": "code",
   "execution_count": 14,
   "id": "d9849057",
   "metadata": {},
   "outputs": [
    {
     "data": {
      "text/plain": [
       "device(type='cuda')"
      ]
     },
     "execution_count": 14,
     "metadata": {},
     "output_type": "execute_result"
    }
   ],
   "source": [
    "# cpu에 있는 텐서를 cuda로 이동\n",
    "device = torch.device('cuda' if torch.cuda.is_available() else 'cpu')\n",
    "device"
   ]
  },
  {
   "cell_type": "code",
   "execution_count": 15,
   "id": "c4f40e2c",
   "metadata": {},
   "outputs": [
    {
     "data": {
      "text/plain": [
       "tensor([[0.4352, 0.6607, 0.2443],\n",
       "        [0.5066, 0.9721, 0.2804]])"
      ]
     },
     "execution_count": 15,
     "metadata": {},
     "output_type": "execute_result"
    }
   ],
   "source": [
    "# 랜덤값, randn()은 정규화값\n",
    "t6 = torch.rand(2,3)\n",
    "t6"
   ]
  },
  {
   "cell_type": "code",
   "execution_count": 16,
   "id": "ea9572c0",
   "metadata": {},
   "outputs": [],
   "source": [
    "# t5(cpu)에 있는 텐서를 cuda로 변수명을 다르게 하면 복사, 변수명을 똑같이 하면 이동\n",
    "t5 = t5.to(device=device)"
   ]
  },
  {
   "cell_type": "code",
   "execution_count": 17,
   "id": "1b3b6eff",
   "metadata": {},
   "outputs": [
    {
     "name": "stdout",
     "output_type": "stream",
     "text": [
      "torch.Size([3, 3, 3]) torch.float32 torch.cuda.FloatTensor cuda:0\n"
     ]
    }
   ],
   "source": [
    "print(t5.shape, t5.dtype, t5.type(), t5.device)"
   ]
  },
  {
   "cell_type": "markdown",
   "id": "0eb6b93e",
   "metadata": {},
   "source": [
    "- cuda(GPU사용하는 것) : 0(그래픽카드가 다수일 수 있음)\n",
    "- 파이토치의 텐서사용  == 넘파이 배열사용"
   ]
  },
  {
   "cell_type": "markdown",
   "id": "735078c9",
   "metadata": {},
   "source": [
    "#### GPU 사용법"
   ]
  },
  {
   "cell_type": "code",
   "execution_count": 18,
   "id": "28bc9b46",
   "metadata": {},
   "outputs": [
    {
     "data": {
      "text/plain": [
       "tensor([[1.0710]], grad_fn=<AddmmBackward0>)"
      ]
     },
     "execution_count": 18,
     "metadata": {},
     "output_type": "execute_result"
    }
   ],
   "source": [
    "# CPU 사용\n",
    "import torch.nn\n",
    "\n",
    "# 신경망 모델 생성  - 3개의 입력을 넣어서 하나의 출력을 내는 신경망\n",
    "model = torch.nn.Linear(3,1)\n",
    "\n",
    "sample_input = torch.tensor([[1.0, 2.0, 3.0]])\n",
    "output = model(sample_input)\n",
    "\n",
    "output"
   ]
  },
  {
   "cell_type": "code",
   "execution_count": 19,
   "id": "061bcf6e",
   "metadata": {},
   "outputs": [
    {
     "data": {
      "text/plain": [
       "tensor([[1.0223]], device='cuda:0', grad_fn=<AddmmBackward0>)"
      ]
     },
     "execution_count": 19,
     "metadata": {},
     "output_type": "execute_result"
    }
   ],
   "source": [
    "# CPU 사용\n",
    "import torch.nn\n",
    "\n",
    "# 신경망 모델 생성  - 3개의 입력을 넣어서 하나의 출력을 내는 신경망\n",
    "model = torch.nn.Linear(3,1)\n",
    "model.to(device)\n",
    "\n",
    "sample_input = torch.tensor([[1.0, 2.0, 3.0]]).to(device)\n",
    "output = model(sample_input)\n",
    "\n",
    "output"
   ]
  },
  {
   "cell_type": "markdown",
   "id": "ef5dae24",
   "metadata": {},
   "source": [
    "### PyTorch 모델 학습\n",
    "- torch.nn.Module 로 신경망 모델 만들기 - 텐서플로우(함수)와 차이점 확인\n",
    "- 손실함수, 옵티마이저 설정 학습\n",
    "- 학습 루프 기본 구조 학습"
   ]
  },
  {
   "cell_type": "markdown",
   "id": "6e203aa0",
   "metadata": {},
   "source": [
    "#### 기본 구조 추가"
   ]
  },
  {
   "cell_type": "code",
   "execution_count": 20,
   "id": "32c3aa99",
   "metadata": {},
   "outputs": [],
   "source": [
    "# 파이토치 모듈 로드\n",
    "import torch\n",
    "import torch.nn as nn\n",
    "import torch.nn.functional as F         # 보통 F로 사용\n",
    "\n",
    "# 모델 선언(클래스)\n",
    "class SimpleNet(nn.Module):             ## nn.Module 클래스를 상속해서 클래스 생성\n",
    "    def __init__(self):\n",
    "        super(SimpleNet, self).__init__()\n",
    "        # Linear : Dense Layer(케라스의 Dense()와 동일)\n",
    "        self.fc1 = nn.Linear(4, 16)   # input : 4개 입력, output 16개 뉴런\n",
    "        self.fc2 = nn.Linear(16,3)    # input : 16개 입력, output 3개 클래스(3가지 분류 예측)\n",
    "\n",
    "    def forward(self, x):              # 실제 연산이 수행되는 함수(자동 호출)\n",
    "        x = F.relu(self.fc1(x))         # 첫번째 레이어통과 - 활성화함수(시그모이드, 스프트맥스, 렐루 모두 존재)\n",
    "        x = self.fc2(x)                 # 두번째 레이어통과 - 출력층(필요시 softmax함수 사용)\n",
    "        return x\n"
   ]
  },
  {
   "cell_type": "markdown",
   "id": "9351134d",
   "metadata": {},
   "source": [
    "- 텐서플로우(케라스)는 중간층에서 입력값을 설정하지 않아도 됨\n",
    "- 파이토치는 입력값, 출력값을 모두 설정해야 함"
   ]
  },
  {
   "cell_type": "markdown",
   "id": "190f7d12",
   "metadata": {},
   "source": [
    "### 모델 생성"
   ]
  },
  {
   "cell_type": "code",
   "execution_count": 21,
   "id": "8677308d",
   "metadata": {},
   "outputs": [
    {
     "data": {
      "text/plain": [
       "SimpleNet(\n",
       "  (fc1): Linear(in_features=4, out_features=16, bias=True)\n",
       "  (fc2): Linear(in_features=16, out_features=3, bias=True)\n",
       ")"
      ]
     },
     "execution_count": 21,
     "metadata": {},
     "output_type": "execute_result"
    }
   ],
   "source": [
    "# 모델확인\n",
    "model = SimpleNet()\n",
    "model"
   ]
  },
  {
   "cell_type": "code",
   "execution_count": 22,
   "id": "c90a5765",
   "metadata": {},
   "outputs": [
    {
     "data": {
      "text/plain": [
       "tensor([[0.9170, 0.4075, 0.2609, 0.8542]])"
      ]
     },
     "execution_count": 22,
     "metadata": {},
     "output_type": "execute_result"
    }
   ],
   "source": [
    "# 샘플입력값\n",
    "x = torch.rand(1,4)\n",
    "x"
   ]
  },
  {
   "cell_type": "code",
   "execution_count": 23,
   "id": "fd712b7b",
   "metadata": {},
   "outputs": [
    {
     "data": {
      "text/plain": [
       "tensor([[-0.1306,  0.1168, -0.1128]], grad_fn=<AddmmBackward0>)"
      ]
     },
     "execution_count": 23,
     "metadata": {},
     "output_type": "execute_result"
    }
   ],
   "source": [
    "out = model(x)\n",
    "out"
   ]
  },
  {
   "cell_type": "markdown",
   "id": "98de0c4a",
   "metadata": {},
   "source": [
    "#### 손실함수/옵티마이저 설정"
   ]
  },
  {
   "cell_type": "code",
   "execution_count": 24,
   "id": "b05c4ff2",
   "metadata": {},
   "outputs": [],
   "source": [
    "# 분류(마지막 출력 3개) CrossEntropyLoss - \n",
    "criterion = nn.CrossEntropyLoss()\n",
    "\n",
    "# 옵티마이저(Adam 권장)\n",
    "optimizer = torch.optim.Adam(model.parameters(), lr = 0.01) # lr(lerning rate)학습률 : 보통 0.01 ~ 0.0001 사이로 지정"
   ]
  },
  {
   "cell_type": "markdown",
   "id": "fa2faf8e",
   "metadata": {},
   "source": [
    "#### 1회 Epoch 학습"
   ]
  },
  {
   "cell_type": "code",
   "execution_count": 25,
   "id": "ba51ee22",
   "metadata": {},
   "outputs": [
    {
     "data": {
      "text/plain": [
       "0.9461016654968262"
      ]
     },
     "execution_count": 25,
     "metadata": {},
     "output_type": "execute_result"
    }
   ],
   "source": [
    "y = torch.tensor([1])\n",
    "\n",
    "# Forward \n",
    "# 예측\n",
    "outputs = model(x)\n",
    "# 손실계산\n",
    "loss = criterion(outputs, y)\n",
    "\n",
    "# Backward (역전파) : 뉴런을 통과한 값이 다시 다음 훈련의 입력으로 사용\n",
    "# 기울기 초기화\n",
    "optimizer.zero_grad()       # 이전 단계 계산되 gradient(기울기/가중치) 초기화\n",
    "# 역전파 계산\n",
    "loss.backward()             # 손실 기준으로 각 파라미터에 대한 gradient 계산(오차 역전파)\n",
    "# 파라미터 업데이트\n",
    "optimizer.step()            # 계산한 gradient를 이용, 파라미터 업데이트(학습훈련)\n",
    "\n",
    "# 현재 손실값을 출력\n",
    "loss.item()"
   ]
  },
  {
   "cell_type": "markdown",
   "id": "43f3f080",
   "metadata": {},
   "source": [
    "### 데이터셋, 데이터로더\n",
    "- `Dataset`, `DataLoader` 학습\n",
    "- 내장 데이터셋\n",
    "- 커스텀 데이터셋 만들기\n",
    "- 배치 학습 처리"
   ]
  },
  {
   "cell_type": "markdown",
   "id": "47fb6a72",
   "metadata": {},
   "source": [
    "#### 데이터셋, 데이터로더란?\n",
    "- Dataset - 데이터를 불러오는 방법\n",
    "- DataLoader - 데이터를 배치 단위로 나누기, 셔플, 병렬처리 방법 "
   ]
  },
  {
   "cell_type": "markdown",
   "id": "46d6f6a1",
   "metadata": {},
   "source": [
    "#### 추가\n",
    "- 머신러닝, 딥러닝에 사용되는 데이터샘플 종류 예제"
   ]
  },
  {
   "cell_type": "code",
   "execution_count": 26,
   "id": "0f73a0a4",
   "metadata": {},
   "outputs": [
    {
     "name": "stdout",
     "output_type": "stream",
     "text": [
      "WARNING:tensorflow:From c:\\source\\iot-dataanalysis-2025\\mlvenv\\Lib\\site-packages\\keras\\src\\losses.py:2976: The name tf.losses.sparse_softmax_cross_entropy is deprecated. Please use tf.compat.v1.losses.sparse_softmax_cross_entropy instead.\n",
      "\n"
     ]
    }
   ],
   "source": [
    "from sklearn.datasets import load_breast_cancer, load_iris, load_wine    # 11개 데이터셋\n",
    "import seaborn as sns\n",
    "\n",
    "datas = sns.load_dataset('titanic')        # https://github.com/mwaskom/seaborn-data 확인\n",
    "\n",
    "from torchvision.datasets import FashionMNIST, MNIST, CIFAR10       # 이미지 데이터셋\n",
    "from keras.datasets import mnist, fashion_mnist, boston_housing, cifar10, cifar100, imdb    # 이미지, 텍스트 데이터셋"
   ]
  },
  {
   "cell_type": "code",
   "execution_count": 27,
   "id": "18d15245",
   "metadata": {},
   "outputs": [
    {
     "data": {
      "text/html": [
       "<div>\n",
       "<style scoped>\n",
       "    .dataframe tbody tr th:only-of-type {\n",
       "        vertical-align: middle;\n",
       "    }\n",
       "\n",
       "    .dataframe tbody tr th {\n",
       "        vertical-align: top;\n",
       "    }\n",
       "\n",
       "    .dataframe thead th {\n",
       "        text-align: right;\n",
       "    }\n",
       "</style>\n",
       "<table border=\"1\" class=\"dataframe\">\n",
       "  <thead>\n",
       "    <tr style=\"text-align: right;\">\n",
       "      <th></th>\n",
       "      <th>survived</th>\n",
       "      <th>pclass</th>\n",
       "      <th>sex</th>\n",
       "      <th>age</th>\n",
       "      <th>sibsp</th>\n",
       "      <th>parch</th>\n",
       "      <th>fare</th>\n",
       "      <th>embarked</th>\n",
       "      <th>class</th>\n",
       "      <th>who</th>\n",
       "      <th>adult_male</th>\n",
       "      <th>deck</th>\n",
       "      <th>embark_town</th>\n",
       "      <th>alive</th>\n",
       "      <th>alone</th>\n",
       "    </tr>\n",
       "  </thead>\n",
       "  <tbody>\n",
       "    <tr>\n",
       "      <th>0</th>\n",
       "      <td>0</td>\n",
       "      <td>3</td>\n",
       "      <td>male</td>\n",
       "      <td>22.0</td>\n",
       "      <td>1</td>\n",
       "      <td>0</td>\n",
       "      <td>7.2500</td>\n",
       "      <td>S</td>\n",
       "      <td>Third</td>\n",
       "      <td>man</td>\n",
       "      <td>True</td>\n",
       "      <td>NaN</td>\n",
       "      <td>Southampton</td>\n",
       "      <td>no</td>\n",
       "      <td>False</td>\n",
       "    </tr>\n",
       "    <tr>\n",
       "      <th>1</th>\n",
       "      <td>1</td>\n",
       "      <td>1</td>\n",
       "      <td>female</td>\n",
       "      <td>38.0</td>\n",
       "      <td>1</td>\n",
       "      <td>0</td>\n",
       "      <td>71.2833</td>\n",
       "      <td>C</td>\n",
       "      <td>First</td>\n",
       "      <td>woman</td>\n",
       "      <td>False</td>\n",
       "      <td>C</td>\n",
       "      <td>Cherbourg</td>\n",
       "      <td>yes</td>\n",
       "      <td>False</td>\n",
       "    </tr>\n",
       "    <tr>\n",
       "      <th>2</th>\n",
       "      <td>1</td>\n",
       "      <td>3</td>\n",
       "      <td>female</td>\n",
       "      <td>26.0</td>\n",
       "      <td>0</td>\n",
       "      <td>0</td>\n",
       "      <td>7.9250</td>\n",
       "      <td>S</td>\n",
       "      <td>Third</td>\n",
       "      <td>woman</td>\n",
       "      <td>False</td>\n",
       "      <td>NaN</td>\n",
       "      <td>Southampton</td>\n",
       "      <td>yes</td>\n",
       "      <td>True</td>\n",
       "    </tr>\n",
       "    <tr>\n",
       "      <th>3</th>\n",
       "      <td>1</td>\n",
       "      <td>1</td>\n",
       "      <td>female</td>\n",
       "      <td>35.0</td>\n",
       "      <td>1</td>\n",
       "      <td>0</td>\n",
       "      <td>53.1000</td>\n",
       "      <td>S</td>\n",
       "      <td>First</td>\n",
       "      <td>woman</td>\n",
       "      <td>False</td>\n",
       "      <td>C</td>\n",
       "      <td>Southampton</td>\n",
       "      <td>yes</td>\n",
       "      <td>False</td>\n",
       "    </tr>\n",
       "    <tr>\n",
       "      <th>4</th>\n",
       "      <td>0</td>\n",
       "      <td>3</td>\n",
       "      <td>male</td>\n",
       "      <td>35.0</td>\n",
       "      <td>0</td>\n",
       "      <td>0</td>\n",
       "      <td>8.0500</td>\n",
       "      <td>S</td>\n",
       "      <td>Third</td>\n",
       "      <td>man</td>\n",
       "      <td>True</td>\n",
       "      <td>NaN</td>\n",
       "      <td>Southampton</td>\n",
       "      <td>no</td>\n",
       "      <td>True</td>\n",
       "    </tr>\n",
       "    <tr>\n",
       "      <th>...</th>\n",
       "      <td>...</td>\n",
       "      <td>...</td>\n",
       "      <td>...</td>\n",
       "      <td>...</td>\n",
       "      <td>...</td>\n",
       "      <td>...</td>\n",
       "      <td>...</td>\n",
       "      <td>...</td>\n",
       "      <td>...</td>\n",
       "      <td>...</td>\n",
       "      <td>...</td>\n",
       "      <td>...</td>\n",
       "      <td>...</td>\n",
       "      <td>...</td>\n",
       "      <td>...</td>\n",
       "    </tr>\n",
       "    <tr>\n",
       "      <th>886</th>\n",
       "      <td>0</td>\n",
       "      <td>2</td>\n",
       "      <td>male</td>\n",
       "      <td>27.0</td>\n",
       "      <td>0</td>\n",
       "      <td>0</td>\n",
       "      <td>13.0000</td>\n",
       "      <td>S</td>\n",
       "      <td>Second</td>\n",
       "      <td>man</td>\n",
       "      <td>True</td>\n",
       "      <td>NaN</td>\n",
       "      <td>Southampton</td>\n",
       "      <td>no</td>\n",
       "      <td>True</td>\n",
       "    </tr>\n",
       "    <tr>\n",
       "      <th>887</th>\n",
       "      <td>1</td>\n",
       "      <td>1</td>\n",
       "      <td>female</td>\n",
       "      <td>19.0</td>\n",
       "      <td>0</td>\n",
       "      <td>0</td>\n",
       "      <td>30.0000</td>\n",
       "      <td>S</td>\n",
       "      <td>First</td>\n",
       "      <td>woman</td>\n",
       "      <td>False</td>\n",
       "      <td>B</td>\n",
       "      <td>Southampton</td>\n",
       "      <td>yes</td>\n",
       "      <td>True</td>\n",
       "    </tr>\n",
       "    <tr>\n",
       "      <th>888</th>\n",
       "      <td>0</td>\n",
       "      <td>3</td>\n",
       "      <td>female</td>\n",
       "      <td>NaN</td>\n",
       "      <td>1</td>\n",
       "      <td>2</td>\n",
       "      <td>23.4500</td>\n",
       "      <td>S</td>\n",
       "      <td>Third</td>\n",
       "      <td>woman</td>\n",
       "      <td>False</td>\n",
       "      <td>NaN</td>\n",
       "      <td>Southampton</td>\n",
       "      <td>no</td>\n",
       "      <td>False</td>\n",
       "    </tr>\n",
       "    <tr>\n",
       "      <th>889</th>\n",
       "      <td>1</td>\n",
       "      <td>1</td>\n",
       "      <td>male</td>\n",
       "      <td>26.0</td>\n",
       "      <td>0</td>\n",
       "      <td>0</td>\n",
       "      <td>30.0000</td>\n",
       "      <td>C</td>\n",
       "      <td>First</td>\n",
       "      <td>man</td>\n",
       "      <td>True</td>\n",
       "      <td>C</td>\n",
       "      <td>Cherbourg</td>\n",
       "      <td>yes</td>\n",
       "      <td>True</td>\n",
       "    </tr>\n",
       "    <tr>\n",
       "      <th>890</th>\n",
       "      <td>0</td>\n",
       "      <td>3</td>\n",
       "      <td>male</td>\n",
       "      <td>32.0</td>\n",
       "      <td>0</td>\n",
       "      <td>0</td>\n",
       "      <td>7.7500</td>\n",
       "      <td>Q</td>\n",
       "      <td>Third</td>\n",
       "      <td>man</td>\n",
       "      <td>True</td>\n",
       "      <td>NaN</td>\n",
       "      <td>Queenstown</td>\n",
       "      <td>no</td>\n",
       "      <td>True</td>\n",
       "    </tr>\n",
       "  </tbody>\n",
       "</table>\n",
       "<p>891 rows × 15 columns</p>\n",
       "</div>"
      ],
      "text/plain": [
       "     survived  pclass     sex   age  sibsp  parch     fare embarked   class  \\\n",
       "0           0       3    male  22.0      1      0   7.2500        S   Third   \n",
       "1           1       1  female  38.0      1      0  71.2833        C   First   \n",
       "2           1       3  female  26.0      0      0   7.9250        S   Third   \n",
       "3           1       1  female  35.0      1      0  53.1000        S   First   \n",
       "4           0       3    male  35.0      0      0   8.0500        S   Third   \n",
       "..        ...     ...     ...   ...    ...    ...      ...      ...     ...   \n",
       "886         0       2    male  27.0      0      0  13.0000        S  Second   \n",
       "887         1       1  female  19.0      0      0  30.0000        S   First   \n",
       "888         0       3  female   NaN      1      2  23.4500        S   Third   \n",
       "889         1       1    male  26.0      0      0  30.0000        C   First   \n",
       "890         0       3    male  32.0      0      0   7.7500        Q   Third   \n",
       "\n",
       "       who  adult_male deck  embark_town alive  alone  \n",
       "0      man        True  NaN  Southampton    no  False  \n",
       "1    woman       False    C    Cherbourg   yes  False  \n",
       "2    woman       False  NaN  Southampton   yes   True  \n",
       "3    woman       False    C  Southampton   yes  False  \n",
       "4      man        True  NaN  Southampton    no   True  \n",
       "..     ...         ...  ...          ...   ...    ...  \n",
       "886    man        True  NaN  Southampton    no   True  \n",
       "887  woman       False    B  Southampton   yes   True  \n",
       "888  woman       False  NaN  Southampton    no  False  \n",
       "889    man        True    C    Cherbourg   yes   True  \n",
       "890    man        True  NaN   Queenstown    no   True  \n",
       "\n",
       "[891 rows x 15 columns]"
      ]
     },
     "execution_count": 27,
     "metadata": {},
     "output_type": "execute_result"
    }
   ],
   "source": [
    "datas           # pandas로 넘어옴"
   ]
  },
  {
   "cell_type": "markdown",
   "id": "d8b4d4a9",
   "metadata": {},
   "source": [
    "#### 붓꽃(Iris) 데이터셋 사용"
   ]
  },
  {
   "cell_type": "code",
   "execution_count": 28,
   "id": "4e8ea625",
   "metadata": {},
   "outputs": [],
   "source": [
    "# 데이터셋 처리 모듈 로드\n",
    "from sklearn.datasets import load_iris, load_wine\n",
    "from sklearn.preprocessing import StandardScaler\n",
    "from sklearn.model_selection import train_test_split\n",
    "import torch\n",
    "from torch.utils.data import Dataset, DataLoader"
   ]
  },
  {
   "cell_type": "code",
   "execution_count": 29,
   "id": "f2e5698e",
   "metadata": {},
   "outputs": [
    {
     "name": "stdout",
     "output_type": "stream",
     "text": [
      "(150, 4) (150,)\n"
     ]
    }
   ],
   "source": [
    "# 데이터 로드\n",
    "iris = load_iris()\n",
    "\n",
    "## 입력(특성)데이터 X, 타겟 y == input, target\n",
    "X = iris['data']\n",
    "y = iris['target']\n",
    "\n",
    "print(X.shape, y.shape)     # numpy 데이터"
   ]
  },
  {
   "cell_type": "code",
   "execution_count": 30,
   "id": "58a26490",
   "metadata": {},
   "outputs": [
    {
     "data": {
      "text/plain": [
       "array([5.1, 3.5, 1.4, 0.2])"
      ]
     },
     "execution_count": 30,
     "metadata": {},
     "output_type": "execute_result"
    }
   ],
   "source": [
    "# sepal(꽃받침) length(cm), sepal width(cm), petal(꽃잎) length(cm), petal width(cm)\n",
    "X[0, :]"
   ]
  },
  {
   "cell_type": "code",
   "execution_count": 31,
   "id": "49fb066a",
   "metadata": {},
   "outputs": [
    {
     "data": {
      "text/plain": [
       "array([0, 0, 0, 0, 0, 0, 0, 0, 0, 0, 0, 0, 0, 0, 0, 0, 0, 0, 0, 0, 0, 0,\n",
       "       0, 0, 0, 0, 0, 0, 0, 0, 0, 0, 0, 0, 0, 0, 0, 0, 0, 0, 0, 0, 0, 0,\n",
       "       0, 0, 0, 0, 0, 0, 1, 1, 1, 1, 1, 1, 1, 1, 1, 1, 1, 1, 1, 1, 1, 1,\n",
       "       1, 1, 1, 1, 1, 1, 1, 1, 1, 1, 1, 1, 1, 1, 1, 1, 1, 1, 1, 1, 1, 1,\n",
       "       1, 1, 1, 1, 1, 1, 1, 1, 1, 1, 1, 1, 2, 2, 2, 2, 2, 2, 2, 2, 2, 2,\n",
       "       2, 2, 2, 2, 2, 2, 2, 2, 2, 2, 2, 2, 2, 2, 2, 2, 2, 2, 2, 2, 2, 2,\n",
       "       2, 2, 2, 2, 2, 2, 2, 2, 2, 2, 2, 2, 2, 2, 2, 2, 2, 2])"
      ]
     },
     "execution_count": 31,
     "metadata": {},
     "output_type": "execute_result"
    }
   ],
   "source": [
    "# 꽃 종류: 0(setosa), 1(versicolor), 2(virginica)\n",
    "y"
   ]
  },
  {
   "cell_type": "code",
   "execution_count": 32,
   "id": "4f182f22",
   "metadata": {},
   "outputs": [],
   "source": [
    "# 표준화(정규화)\n",
    "scaler = StandardScaler() # 사이킷런의 표준정규화 클래스 사용\n",
    "X = scaler.fit_transform(X)"
   ]
  },
  {
   "cell_type": "code",
   "execution_count": 33,
   "id": "d3b35389",
   "metadata": {},
   "outputs": [
    {
     "data": {
      "text/plain": [
       "array([-0.90068117,  1.01900435, -1.34022653, -1.3154443 ])"
      ]
     },
     "execution_count": 33,
     "metadata": {},
     "output_type": "execute_result"
    }
   ],
   "source": [
    "X[0, :]"
   ]
  },
  {
   "cell_type": "code",
   "execution_count": 34,
   "id": "89fa33eb",
   "metadata": {},
   "outputs": [],
   "source": [
    "# 훈련/테스트세트 분리\n",
    "train_scaled, test_scaled, train_target, test_target = train_test_split(X, y, test_size=0.2, random_state=42)"
   ]
  },
  {
   "cell_type": "code",
   "execution_count": 35,
   "id": "0efac472",
   "metadata": {},
   "outputs": [],
   "source": [
    "train_scaled, val_scaled, train_target, val_target = train_test_split(train_scaled, train_target, test_size=0.2, random_state=42)"
   ]
  },
  {
   "cell_type": "code",
   "execution_count": 36,
   "id": "6039545d",
   "metadata": {},
   "outputs": [
    {
     "name": "stdout",
     "output_type": "stream",
     "text": [
      "(96, 4) (24, 4) (30, 4)\n"
     ]
    }
   ],
   "source": [
    "print(train_scaled.shape, val_scaled.shape, test_scaled.shape)"
   ]
  },
  {
   "cell_type": "code",
   "execution_count": 37,
   "id": "9ce339ec",
   "metadata": {},
   "outputs": [
    {
     "data": {
      "text/plain": [
       "array([2, 1, 1, 0, 2, 2, 2, 0, 1, 2, 2, 1, 2, 1, 1, 0, 0, 1, 2, 0, 0, 2,\n",
       "       2, 1, 2, 1, 1, 0, 2, 0, 1, 2, 0, 2, 0, 0, 2, 0, 2, 1, 2, 0, 0, 0,\n",
       "       0, 2, 0, 0, 1, 2, 1, 0, 1, 2, 1, 2, 2, 2, 2, 1, 1, 0, 0, 0, 2, 0,\n",
       "       0, 0, 2, 1, 2, 1, 2, 1, 1, 0, 0, 2, 1, 0, 2, 1, 2, 1, 2, 1, 1, 2,\n",
       "       1, 1, 0, 2, 0, 1, 0, 0])"
      ]
     },
     "execution_count": 37,
     "metadata": {},
     "output_type": "execute_result"
    }
   ],
   "source": [
    "train_target"
   ]
  },
  {
   "cell_type": "markdown",
   "id": "0f9528c0",
   "metadata": {},
   "source": [
    "#### 커스텀 데이터셋 만들기"
   ]
  },
  {
   "cell_type": "code",
   "execution_count": 38,
   "id": "37b63cc4",
   "metadata": {},
   "outputs": [],
   "source": [
    "class IrisDataset(Dataset):\n",
    "    def __init__(self, X, y):\n",
    "        self.X = torch.tensor(X, dtype=torch.float32)       # 특성(입력)값은 실수\n",
    "        self.y = torch.tensor(y, dtype= torch.long)         # CorssEntropyLoss 에서는 long 타입 필요\n",
    "\n",
    "    def __len__(self):\n",
    "        return len(self.X)\n",
    "    \n",
    "    def __getitem__(self, index):\n",
    "        return self.X[index], self.y[index]"
   ]
  },
  {
   "cell_type": "markdown",
   "id": "1a71569e",
   "metadata": {},
   "source": [
    "- 데이터셋으로 묶고, 데이터로더로 묶기"
   ]
  },
  {
   "cell_type": "code",
   "execution_count": 39,
   "id": "adab2135",
   "metadata": {},
   "outputs": [],
   "source": [
    "# 커스텀 데이터셋으로 생성 - 입력(특성)과 타겟을 하나로 묶음\n",
    "train_dataset = IrisDataset(train_scaled, train_target)\n",
    "val_dataset = IrisDataset(val_scaled, val_target)"
   ]
  },
  {
   "cell_type": "code",
   "execution_count": 40,
   "id": "2b8cfa58",
   "metadata": {},
   "outputs": [],
   "source": [
    "# 데이터로더로 생성 - 배치 학습, 셔플, 병렬데이터 로딩\n",
    "train_loader = DataLoader(train_dataset, batch_size = 16, shuffle = True)\n",
    "val_loader = DataLoader(val_dataset, batch_size = 16)"
   ]
  },
  {
   "cell_type": "markdown",
   "id": "ba902538",
   "metadata": {},
   "source": [
    "- 실제 모델 훈련에서는 DataLoader를 사용"
   ]
  },
  {
   "cell_type": "markdown",
   "id": "b06492bc",
   "metadata": {},
   "source": [
    "#### 배치 학습 반복"
   ]
  },
  {
   "cell_type": "code",
   "execution_count": 41,
   "id": "ea9aec43",
   "metadata": {},
   "outputs": [
    {
     "name": "stdout",
     "output_type": "stream",
     "text": [
      "Batch loss : 1.1780327558517456 / 1\n",
      "Batch loss : 1.0928902626037598 / 2\n",
      "Batch loss : 1.1258585453033447 / 3\n",
      "Batch loss : 1.1217845678329468 / 4\n",
      "Batch loss : 1.193433165550232 / 5\n",
      "Batch loss : 1.1473233699798584 / 6\n"
     ]
    }
   ],
   "source": [
    "i = 1\n",
    "for batch_input, batch_target in train_loader:      # \n",
    "    outputs = model(batch_input)\n",
    "    loss = criterion(outputs, batch_target)\n",
    "\n",
    "    print(f\"Batch loss : {loss.item()} / {i}\")\n",
    "    i= i + 1"
   ]
  },
  {
   "cell_type": "markdown",
   "id": "364b7920",
   "metadata": {},
   "source": [
    "- 96개 입력을 16으로 나눔 : 배치사이즈가 16이니까 6번 epoch"
   ]
  },
  {
   "cell_type": "markdown",
   "id": "f47b708b",
   "metadata": {},
   "source": [
    "### 학습 루프 작성\n",
    "- 전체 학습 루프 구성\n",
    "- Epoch, Batch 사용\n",
    "- train(), evaluate() 확인"
   ]
  },
  {
   "cell_type": "markdown",
   "id": "75d94eee",
   "metadata": {},
   "source": [
    "#### 신경망 클래스 정의"
   ]
  },
  {
   "cell_type": "code",
   "execution_count": 42,
   "id": "cbd169b0",
   "metadata": {},
   "outputs": [],
   "source": [
    "# 아이리스용 신경망\n",
    "class IrisNet(nn.Module):\n",
    "    def __init__(self):\n",
    "        super(IrisNet, self).__init__()\n",
    "        self.fc1 = nn.Linear(4, 16)             # fc1 : Full Connected Layer / tensorflow Dense() 와 동일\n",
    "        self.fc2 = nn.Linear(16, 3)\n",
    "\n",
    "    def forward(self, x):\n",
    "        x = F.relu(self.fc1(x))\n",
    "        x = self.fc2(x)\n",
    "        return x         "
   ]
  },
  {
   "cell_type": "markdown",
   "id": "1cd8e2db",
   "metadata": {},
   "source": [
    "#### Iris 데이터 준비"
   ]
  },
  {
   "cell_type": "code",
   "execution_count": 43,
   "id": "27e42ac4",
   "metadata": {},
   "outputs": [],
   "source": [
    "# 커스텀 데이터셋\n",
    "class IrisDataset(Dataset):\n",
    "    def __init__(self, X, y):\n",
    "        self.X = torch.tensor(X, dtype=torch.float32)\n",
    "        self.y = torch.tensor(y, dtype = torch.long)\n",
    "    \n",
    "    def __len__(self):\n",
    "        return len(self.X)\n",
    "    \n",
    "    def __getitem__(self, index):\n",
    "        return self.X[index], self.y[index]\n",
    "\n",
    "iris = load_iris()\n",
    "X = StandardScaler().fit_transform(iris.data)\n",
    "y = iris.target\n",
    "\n",
    "X_train, X_val, y_train, y_val = train_test_split(X, y, test_size = 0.2, random_state= 42)\n",
    "\n",
    "\n",
    "# Dataset, DataLoader 합쳐서 생성\n",
    "train_loader = DataLoader(IrisDataset(X_train, y_train), batch_size = 8, shuffle = True)\n",
    "val_loader = DataLoader(IrisDataset(X_val, y_val), batch_size=8)"
   ]
  },
  {
   "cell_type": "markdown",
   "id": "8be45300",
   "metadata": {},
   "source": [
    "#### 모델 디바이스 전달"
   ]
  },
  {
   "cell_type": "code",
   "execution_count": 44,
   "id": "d4703f0e",
   "metadata": {},
   "outputs": [],
   "source": [
    "modle = IrisNet().to(device)\n",
    "\n",
    "criterion = nn.CrossEntropyLoss()\n",
    "optimizer = torch.optim.Adam(model.parameters(), lr = 0.01)"
   ]
  },
  {
   "cell_type": "code",
   "execution_count": 45,
   "id": "0981620c",
   "metadata": {},
   "outputs": [
    {
     "data": {
      "text/plain": [
       "CrossEntropyLoss()"
      ]
     },
     "execution_count": 45,
     "metadata": {},
     "output_type": "execute_result"
    }
   ],
   "source": [
    "criterion"
   ]
  },
  {
   "cell_type": "code",
   "execution_count": 46,
   "id": "01645717",
   "metadata": {},
   "outputs": [
    {
     "data": {
      "text/plain": [
       "Adam (\n",
       "Parameter Group 0\n",
       "    amsgrad: False\n",
       "    betas: (0.9, 0.999)\n",
       "    capturable: False\n",
       "    differentiable: False\n",
       "    eps: 1e-08\n",
       "    foreach: None\n",
       "    fused: None\n",
       "    lr: 0.01\n",
       "    maximize: False\n",
       "    weight_decay: 0\n",
       ")"
      ]
     },
     "execution_count": 46,
     "metadata": {},
     "output_type": "execute_result"
    }
   ],
   "source": [
    "optimizer"
   ]
  },
  {
   "cell_type": "markdown",
   "id": "f4a34de8",
   "metadata": {},
   "source": [
    "#### 훈련 루프 함수/평가 함수"
   ]
  },
  {
   "cell_type": "code",
   "execution_count": 47,
   "id": "947cdd8c",
   "metadata": {},
   "outputs": [],
   "source": [
    "# 훈련 루프함수\n",
    "def train(model, dataloader, criterion, optimizer):\n",
    "    model.train()\n",
    "    total_loss = 0\n",
    "\n",
    "    for X_batch, y_batch in dataloader:\n",
    "        X_batch, y_batch = X_batch.to(device), y_batch.to(device)\n",
    "\n",
    "        optimizer.zero_grad()\n",
    "        outputs = model(X_batch)\n",
    "        loss = criterion(outputs, y_batch)\n",
    "        loss.backward()\n",
    "        optimizer.step()\n",
    "\n",
    "        total_loss += loss.item()\n",
    "\n",
    "    avg_loss = total_loss / len(dataloader)\n",
    "    return avg_loss"
   ]
  },
  {
   "cell_type": "code",
   "execution_count": 48,
   "id": "5b02c469",
   "metadata": {},
   "outputs": [],
   "source": [
    "# 평가함수\n",
    "def evaluate(model, dataloader, criterion):\n",
    "    model.eval()  # 평가모드\n",
    "    total_loss = 0\n",
    "    correct = 0\n",
    "    total = 0\n",
    "\n",
    "    with torch.no_grad():  # 평가시에는 그레디언트 꺼줌\n",
    "        for X_batch, y_batch in dataloader:\n",
    "            X_batch, y_batch = X_batch.to(device), y_batch.to(device)\n",
    "            loss = criterion(outputs, y_batch)\n",
    "            total_loss += loss.item()\n",
    "\n",
    "            # 정확도\n",
    "            preds = torch.argmax(outputs, dim=1)        #  제일 확률이 큰 갑스이 인덱스 (0,1,2)중 하나 값 선택\n",
    "            correct += (preds == y_batch).sum().item()\n",
    "            total += y_batch.size(0)\n",
    "\n",
    "    avg_loss = total_loss / len(DataLoader)\n",
    "    accuracy = correct / total\n",
    "    return avg_loss, accuracy"
   ]
  },
  {
   "cell_type": "markdown",
   "id": "291155e9",
   "metadata": {},
   "source": [
    "#### 훈련 실행"
   ]
  },
  {
   "cell_type": "code",
   "execution_count": null,
   "id": "b34a15e0",
   "metadata": {},
   "outputs": [],
   "source": [
    "EPOCH = 20\n",
    "\n",
    "for epoch in range(EPOCH):\n",
    "    train_loss = train(model, train_loader, criterion, optimizer)\n",
    "    val_loss, val_acc = evaluate(modle, val_loader, criterion)\n",
    "\n",
    "    print(f\"[{epoch+1} / {EPOCH}] Train Loss: {train_loss:.3f} | Val Loss: {val_loss:.3f}, Val Accuracy: {val_acc:.2%}\")"
   ]
  },
  {
   "cell_type": "markdown",
   "id": "278e9fbe",
   "metadata": {},
   "source": [
    "- CUDA로 0.7s"
   ]
  }
 ],
 "metadata": {
  "kernelspec": {
   "display_name": "mlvenv",
   "language": "python",
   "name": "python3"
  },
  "language_info": {
   "codemirror_mode": {
    "name": "ipython",
    "version": 3
   },
   "file_extension": ".py",
   "mimetype": "text/x-python",
   "name": "python",
   "nbconvert_exporter": "python",
   "pygments_lexer": "ipython3",
   "version": "3.11.9"
  }
 },
 "nbformat": 4,
 "nbformat_minor": 5
}
